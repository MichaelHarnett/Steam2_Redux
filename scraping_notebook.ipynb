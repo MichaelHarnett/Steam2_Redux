{
 "cells": [
  {
   "cell_type": "code",
   "execution_count": 2,
   "id": "1349e891-4a6d-4b6c-bc02-4d2438b2566a",
   "metadata": {},
   "outputs": [],
   "source": [
    "from bs4 import BeautifulSoup\n",
    "import requests\n",
    "import pandas as pd\n",
    "import numpy as np\n",
    "import json"
   ]
  },
  {
   "cell_type": "markdown",
   "id": "b6f13eea-bf4a-47b2-9ef0-dd57b977bc4d",
   "metadata": {},
   "source": [
    "# Scraping Notebook\n",
    "This notebook is used to scrape and compile all data needed for the project. First, it will scrape the top 15 games of each genre from steampowered.com with their game id's, then use those ids to gather review data from SteamWorks API"
   ]
  },
  {
   "cell_type": "code",
   "execution_count": 270,
   "id": "ff359dd7-3d76-4499-a4a5-48787e74d82a",
   "metadata": {},
   "outputs": [],
   "source": [
    "# Gathering 15 games and id numbers from each genre\n",
    "\n",
    "#each url is formatted the same for the top rated games, so creating a list of the genres to cycle through\n",
    "genre_list = ['Action', 'Adventure', 'Casual', 'Indie', 'Massively%20Multiplayer',\n",
    "             'Racing', 'RPG','Simulation', 'Sports', 'Strategy' ]\n",
    "\n",
    "\n",
    "games = {}\n",
    "#cycle through each genre, pull 15 games\n",
    "for genre in genre_list:\n",
    "#     response = requests.get('https://store.steampowered.com/tags/en/{}/#p=0&tab=TopRated'.format(genre))\n",
    "#     page = response.text\n",
    "#     soup = BeautifulSoup(page, 'html5lib')\n",
    "#     table = soup.find('div', id = 'TopRatedRows')\n",
    "#     rows = [row for row in table.find_all('a')]\n",
    "    \n",
    "#     #for each genre, get the 15 titles and ids\n",
    "#     for row in rows:\n",
    "#         title = (row.find(class_='tab_item_name').text)\n",
    "#         app_id = row.get('href').split('/')[4]\n",
    "    \n",
    "#         games[title] = (genre, app_id)\n",
    "        \n",
    "    # adding second page for each genre, making it 30 games per genre\n",
    "    \n",
    "    response = requests.get('https://store.steampowered.com/tags/en/{}/#p=1&tab=TopRated'.format(genre))\n",
    "    page = response.text\n",
    "    soup = BeautifulSoup(page, 'html5lib')\n",
    "    table = soup.find('div', id = 'TopRatedRows')\n",
    "    rows = [row for row in table.find_all('a')]\n",
    "    \n",
    "    #for each genre, get the 15 titles and ids\n",
    "    for row in rows:\n",
    "        title = (row.find(class_='tab_item_name').text)\n",
    "        app_id = row.get('href').split('/')[4]\n",
    "    \n",
    "        games[title] = (genre, app_id)\n",
    "    \n",
    "    "
   ]
  },
  {
   "cell_type": "code",
   "execution_count": null,
   "id": "dfb2e38c-94e4-4ff6-8c70-d9ca06133e47",
   "metadata": {},
   "outputs": [],
   "source": [
    "for genre in genre_list:\n",
    "    response = requests.get('https://store.steampowered.com/tags/en/{}/#p=1&tab=TopRated'.format(genre))\n",
    "    page = response.text\n",
    "    soup = BeautifulSoup(page, 'html5lib')\n",
    "    table = soup.find('div', id = 'TopRatedRows')\n",
    "    rows = [row for row in table.find_all('a')]\n",
    "    \n",
    "    #for each genre, get the 15 titles and ids\n",
    "    for row in rows:\n",
    "        title = (row.find(class_='tab_item_name').text)\n",
    "        app_id = row.get('href').split('/')[4]\n",
    "    \n",
    "        games[title] = (genre, app_id)"
   ]
  },
  {
   "cell_type": "code",
   "execution_count": 271,
   "id": "880b93b8-c06b-4ba9-af67-3c9a4c365419",
   "metadata": {},
   "outputs": [
    {
     "data": {
      "text/plain": [
       "125"
      ]
     },
     "execution_count": 271,
     "metadata": {},
     "output_type": "execute_result"
    }
   ],
   "source": [
    "len(games)"
   ]
  },
  {
   "cell_type": "code",
   "execution_count": 267,
   "id": "0561be26-8933-492d-a6a0-706118dbe4dd",
   "metadata": {},
   "outputs": [],
   "source": [
    "#games is a dictionary, with game titles as keys, and rpg and gameid as values\n",
    "\n",
    "#games"
   ]
  },
  {
   "cell_type": "code",
   "execution_count": 272,
   "id": "b587667c-781f-4a43-bb5e-94d6635cf8ef",
   "metadata": {},
   "outputs": [],
   "source": [
    "df = pd.DataFrame(games).T"
   ]
  },
  {
   "cell_type": "code",
   "execution_count": 273,
   "id": "86ef66e6-2f9d-40b5-b988-a4d5f563ef68",
   "metadata": {},
   "outputs": [
    {
     "data": {
      "text/html": [
       "<div>\n",
       "<style scoped>\n",
       "    .dataframe tbody tr th:only-of-type {\n",
       "        vertical-align: middle;\n",
       "    }\n",
       "\n",
       "    .dataframe tbody tr th {\n",
       "        vertical-align: top;\n",
       "    }\n",
       "\n",
       "    .dataframe thead th {\n",
       "        text-align: right;\n",
       "    }\n",
       "</style>\n",
       "<table border=\"1\" class=\"dataframe\">\n",
       "  <thead>\n",
       "    <tr style=\"text-align: right;\">\n",
       "      <th></th>\n",
       "      <th>0</th>\n",
       "      <th>1</th>\n",
       "    </tr>\n",
       "  </thead>\n",
       "  <tbody>\n",
       "    <tr>\n",
       "      <th>Counter-Strike: Global Offensive</th>\n",
       "      <td>Action</td>\n",
       "      <td>730</td>\n",
       "    </tr>\n",
       "    <tr>\n",
       "      <th>Grand Theft Auto V</th>\n",
       "      <td>Action</td>\n",
       "      <td>271590</td>\n",
       "    </tr>\n",
       "    <tr>\n",
       "      <th>Tom Clancy's Rainbow Six® Siege</th>\n",
       "      <td>Action</td>\n",
       "      <td>359550</td>\n",
       "    </tr>\n",
       "    <tr>\n",
       "      <th>Left 4 Dead 2</th>\n",
       "      <td>Action</td>\n",
       "      <td>550</td>\n",
       "    </tr>\n",
       "    <tr>\n",
       "      <th>Warframe</th>\n",
       "      <td>Action</td>\n",
       "      <td>230410</td>\n",
       "    </tr>\n",
       "    <tr>\n",
       "      <th>...</th>\n",
       "      <td>...</td>\n",
       "      <td>...</td>\n",
       "    </tr>\n",
       "    <tr>\n",
       "      <th>Total War: WARHAMMER II</th>\n",
       "      <td>Strategy</td>\n",
       "      <td>594570</td>\n",
       "    </tr>\n",
       "    <tr>\n",
       "      <th>Hearts of Iron IV</th>\n",
       "      <td>Strategy</td>\n",
       "      <td>394360</td>\n",
       "    </tr>\n",
       "    <tr>\n",
       "      <th>shapez.io</th>\n",
       "      <td>Strategy</td>\n",
       "      <td>1318690</td>\n",
       "    </tr>\n",
       "    <tr>\n",
       "      <th>Slay the Spire</th>\n",
       "      <td>Strategy</td>\n",
       "      <td>646570</td>\n",
       "    </tr>\n",
       "    <tr>\n",
       "      <th>STAR WARS™ Empire at War - Gold Pack</th>\n",
       "      <td>Strategy</td>\n",
       "      <td>32470</td>\n",
       "    </tr>\n",
       "  </tbody>\n",
       "</table>\n",
       "<p>125 rows × 2 columns</p>\n",
       "</div>"
      ],
      "text/plain": [
       "                                             0        1\n",
       "Counter-Strike: Global Offensive        Action      730\n",
       "Grand Theft Auto V                      Action   271590\n",
       "Tom Clancy's Rainbow Six® Siege         Action   359550\n",
       "Left 4 Dead 2                           Action      550\n",
       "Warframe                                Action   230410\n",
       "...                                        ...      ...\n",
       "Total War: WARHAMMER II               Strategy   594570\n",
       "Hearts of Iron IV                     Strategy   394360\n",
       "shapez.io                             Strategy  1318690\n",
       "Slay the Spire                        Strategy   646570\n",
       "STAR WARS™ Empire at War - Gold Pack  Strategy    32470\n",
       "\n",
       "[125 rows x 2 columns]"
      ]
     },
     "execution_count": 273,
     "metadata": {},
     "output_type": "execute_result"
    }
   ],
   "source": [
    "df"
   ]
  },
  {
   "cell_type": "code",
   "execution_count": 42,
   "id": "2756824d-23cc-4b54-84f8-8987e6345d74",
   "metadata": {},
   "outputs": [
    {
     "name": "stdout",
     "output_type": "stream",
     "text": [
      "<class 'pandas.core.frame.DataFrame'>\n",
      "Index: 125 entries, Counter-Strike: Global Offensive to Slay the Spire\n",
      "Data columns (total 2 columns):\n",
      " #   Column  Non-Null Count  Dtype \n",
      "---  ------  --------------  ----- \n",
      " 0   0       125 non-null    object\n",
      " 1   1       125 non-null    object\n",
      "dtypes: object(2)\n",
      "memory usage: 2.9+ KB\n"
     ]
    }
   ],
   "source": [
    "df.info()"
   ]
  },
  {
   "cell_type": "code",
   "execution_count": 46,
   "id": "0239ebb2-1c62-4b04-bb28-ecb88d009285",
   "metadata": {},
   "outputs": [
    {
     "data": {
      "text/plain": [
       "Sports                     15\n",
       "Strategy                   15\n",
       "Simulation                 15\n",
       "Massively%20Multiplayer    13\n",
       "RPG                        12\n",
       "Adventure                  12\n",
       "Action                     12\n",
       "Casual                     11\n",
       "Indie                      10\n",
       "Racing                     10\n",
       "Name: 0, dtype: int64"
      ]
     },
     "execution_count": 46,
     "metadata": {},
     "output_type": "execute_result"
    }
   ],
   "source": [
    "df[0].value_counts()"
   ]
  },
  {
   "cell_type": "code",
   "execution_count": 48,
   "id": "a25f1ca1-5152-4e18-b058-3ac17f26fddb",
   "metadata": {},
   "outputs": [
    {
     "data": {
      "text/html": [
       "<div>\n",
       "<style scoped>\n",
       "    .dataframe tbody tr th:only-of-type {\n",
       "        vertical-align: middle;\n",
       "    }\n",
       "\n",
       "    .dataframe tbody tr th {\n",
       "        vertical-align: top;\n",
       "    }\n",
       "\n",
       "    .dataframe thead th {\n",
       "        text-align: right;\n",
       "    }\n",
       "</style>\n",
       "<table border=\"1\" class=\"dataframe\">\n",
       "  <thead>\n",
       "    <tr style=\"text-align: right;\">\n",
       "      <th></th>\n",
       "      <th>0</th>\n",
       "      <th>1</th>\n",
       "    </tr>\n",
       "  </thead>\n",
       "  <tbody>\n",
       "    <tr>\n",
       "      <th>Don't Starve</th>\n",
       "      <td>Indie</td>\n",
       "      <td>219740</td>\n",
       "    </tr>\n",
       "    <tr>\n",
       "      <th>The Binding of Isaac: Rebirth</th>\n",
       "      <td>Indie</td>\n",
       "      <td>250900</td>\n",
       "    </tr>\n",
       "    <tr>\n",
       "      <th>Hollow Knight</th>\n",
       "      <td>Indie</td>\n",
       "      <td>367520</td>\n",
       "    </tr>\n",
       "    <tr>\n",
       "      <th>Dead Cells</th>\n",
       "      <td>Indie</td>\n",
       "      <td>588650</td>\n",
       "    </tr>\n",
       "    <tr>\n",
       "      <th>FTL: Faster Than Light</th>\n",
       "      <td>Indie</td>\n",
       "      <td>212680</td>\n",
       "    </tr>\n",
       "    <tr>\n",
       "      <th>Beat Saber</th>\n",
       "      <td>Indie</td>\n",
       "      <td>620980</td>\n",
       "    </tr>\n",
       "    <tr>\n",
       "      <th>Grimm</th>\n",
       "      <td>Indie</td>\n",
       "      <td>252150</td>\n",
       "    </tr>\n",
       "    <tr>\n",
       "      <th>Helltaker</th>\n",
       "      <td>Indie</td>\n",
       "      <td>1289310</td>\n",
       "    </tr>\n",
       "    <tr>\n",
       "      <th>To the Moon</th>\n",
       "      <td>Indie</td>\n",
       "      <td>206440</td>\n",
       "    </tr>\n",
       "    <tr>\n",
       "      <th>The Binding of Isaac</th>\n",
       "      <td>Indie</td>\n",
       "      <td>113200</td>\n",
       "    </tr>\n",
       "  </tbody>\n",
       "</table>\n",
       "</div>"
      ],
      "text/plain": [
       "                                   0        1\n",
       "Don't Starve                   Indie   219740\n",
       "The Binding of Isaac: Rebirth  Indie   250900\n",
       "Hollow Knight                  Indie   367520\n",
       "Dead Cells                     Indie   588650\n",
       "FTL: Faster Than Light         Indie   212680\n",
       "Beat Saber                     Indie   620980\n",
       "Grimm                          Indie   252150\n",
       "Helltaker                      Indie  1289310\n",
       "To the Moon                    Indie   206440\n",
       "The Binding of Isaac           Indie   113200"
      ]
     },
     "execution_count": 48,
     "metadata": {},
     "output_type": "execute_result"
    }
   ],
   "source": [
    "df[df[0] == \"Indie\"]"
   ]
  },
  {
   "cell_type": "markdown",
   "id": "4c677ec0-00c8-4d1e-aa42-f98dabcd4dcc",
   "metadata": {},
   "source": [
    "# Pulling reviews for each game\n",
    "each api pull retrieves 20 commens, but adding the cursor from the first pull, it will take the next 20. This will get 40 reviews per game."
   ]
  },
  {
   "cell_type": "code",
   "execution_count": 73,
   "id": "fb388583-b539-4123-b74b-65cc4162ccf5",
   "metadata": {},
   "outputs": [],
   "source": [
    "def get_reviews(idnum):\n",
    "    reviews=[]\n",
    "    response = requests.get('http://store.steampowered.com/appreviews/{}?json=1'.format(idnum))\n",
    "    temp=response.json()\n",
    "    cursor = temp['cursor']\n",
    "    for i in range(len(temp['reviews'])):\n",
    "        reviews.append(temp['reviews'][i]['review'])\n",
    "    response = requests.get('http://store.steampowered.com/appreviews/{}?json=1{}'.format(idnum, cursor))\n",
    "    temp = response.json()\n",
    "    for i in range(len(temp['reviews'])):\n",
    "        reviews.append(temp['reviews'][i]['review'])\n",
    "    return reviews"
   ]
  },
  {
   "cell_type": "code",
   "execution_count": 74,
   "id": "797d4b42-da9e-4cc0-9ccb-3f083313a52b",
   "metadata": {},
   "outputs": [],
   "source": [
    "df['idnum'] = df[1]"
   ]
  },
  {
   "cell_type": "code",
   "execution_count": 77,
   "id": "703454c0-7f8a-4145-baff-1015596a0fed",
   "metadata": {},
   "outputs": [],
   "source": [
    "df.idnum = df.idnum.apply(get_reviews)"
   ]
  },
  {
   "cell_type": "code",
   "execution_count": 79,
   "id": "4d75c116-cc42-4bb6-97fa-19158eb43e29",
   "metadata": {},
   "outputs": [],
   "source": [
    "df.rename(columns = {'idnum':'reviews'}, inplace=True)"
   ]
  },
  {
   "cell_type": "code",
   "execution_count": 99,
   "id": "5ffe017a-9af5-4e8c-96fc-ef285d6a3722",
   "metadata": {},
   "outputs": [
    {
     "data": {
      "text/html": [
       "<div>\n",
       "<style scoped>\n",
       "    .dataframe tbody tr th:only-of-type {\n",
       "        vertical-align: middle;\n",
       "    }\n",
       "\n",
       "    .dataframe tbody tr th {\n",
       "        vertical-align: top;\n",
       "    }\n",
       "\n",
       "    .dataframe thead th {\n",
       "        text-align: right;\n",
       "    }\n",
       "</style>\n",
       "<table border=\"1\" class=\"dataframe\">\n",
       "  <thead>\n",
       "    <tr style=\"text-align: right;\">\n",
       "      <th></th>\n",
       "      <th>0</th>\n",
       "      <th>1</th>\n",
       "      <th>reviews</th>\n",
       "    </tr>\n",
       "  </thead>\n",
       "  <tbody>\n",
       "    <tr>\n",
       "      <th>Counter-Strike: Global Offensive</th>\n",
       "      <td>Action</td>\n",
       "      <td>730</td>\n",
       "      <td>[Your team in every random competitive game:\\n...</td>\n",
       "    </tr>\n",
       "  </tbody>\n",
       "</table>\n",
       "</div>"
      ],
      "text/plain": [
       "                                       0    1  \\\n",
       "Counter-Strike: Global Offensive  Action  730   \n",
       "\n",
       "                                                                            reviews  \n",
       "Counter-Strike: Global Offensive  [Your team in every random competitive game:\\n...  "
      ]
     },
     "execution_count": 99,
     "metadata": {},
     "output_type": "execute_result"
    }
   ],
   "source": [
    "df.head(1)"
   ]
  },
  {
   "cell_type": "code",
   "execution_count": 85,
   "id": "e03f9d99-b999-478c-a3e2-26b0f2785cfa",
   "metadata": {},
   "outputs": [
    {
     "data": {
      "text/plain": [
       "'Your team in every random competitive game:\\n\\n- You\\n- Russian Guy\\n- Another Russian Guy\\n- A 6 year old kid who slept with your mother\\n- Russian Guy who speaks English\\n\\n10/10'"
      ]
     },
     "execution_count": 85,
     "metadata": {},
     "output_type": "execute_result"
    }
   ],
   "source": [
    "df.iloc[0]['reviews'][0]"
   ]
  },
  {
   "cell_type": "code",
   "execution_count": 233,
   "id": "cf5926c6-5e9d-46e9-b293-ab30b532978e",
   "metadata": {},
   "outputs": [],
   "source": [
    "rando = df.iloc[0]['reviews'][0]"
   ]
  },
  {
   "cell_type": "code",
   "execution_count": 234,
   "id": "f6de8577-873e-4159-b6b5-cc32ed2b6602",
   "metadata": {},
   "outputs": [
    {
     "data": {
      "text/plain": [
       "False"
      ]
     },
     "execution_count": 234,
     "metadata": {},
     "output_type": "execute_result"
    }
   ],
   "source": [
    "rando in df"
   ]
  },
  {
   "cell_type": "code",
   "execution_count": 235,
   "id": "932448fe-f781-4977-a706-31fb37c753f5",
   "metadata": {},
   "outputs": [
    {
     "data": {
      "text/plain": [
       "False"
      ]
     },
     "execution_count": 235,
     "metadata": {},
     "output_type": "execute_result"
    }
   ],
   "source": [
    "rando in df.reviews"
   ]
  },
  {
   "cell_type": "markdown",
   "id": "e57b3f60-c7ac-43d4-ad3b-27d0f80cbdf4",
   "metadata": {},
   "source": [
    "# Trying to seperate list of reviews but keep game name"
   ]
  },
  {
   "cell_type": "code",
   "execution_count": 119,
   "id": "a7ad00de-16a6-4f93-b293-a78b8637737d",
   "metadata": {},
   "outputs": [],
   "source": [
    "for i in range(len(df)):\n",
    "    if rando in df.iloc[i]['reviews']:\n",
    "        print('true')\n",
    "#     else:\n",
    "#         print('not true')"
   ]
  },
  {
   "cell_type": "code",
   "execution_count": 101,
   "id": "392004f5-b2a3-4e81-985a-d77e83f83457",
   "metadata": {},
   "outputs": [
    {
     "data": {
      "text/plain": [
       "False"
      ]
     },
     "execution_count": 101,
     "metadata": {},
     "output_type": "execute_result"
    }
   ],
   "source": [
    "rando in list(df.iloc[0]['reviews'])"
   ]
  },
  {
   "cell_type": "code",
   "execution_count": 159,
   "id": "9371b9e7-329c-4b65-90be-eb6f5cb76723",
   "metadata": {},
   "outputs": [],
   "source": [
    "# df = df.reset_index()\n",
    "# df.rename(columns={'index':'title'}, inplace=True)\n",
    "df.rename(columns={0:'genre',1:'appid'},inplace=True)"
   ]
  },
  {
   "cell_type": "code",
   "execution_count": 160,
   "id": "2be02fd9-63cd-4921-b172-f630f3d8ef86",
   "metadata": {},
   "outputs": [
    {
     "data": {
      "text/html": [
       "<div>\n",
       "<style scoped>\n",
       "    .dataframe tbody tr th:only-of-type {\n",
       "        vertical-align: middle;\n",
       "    }\n",
       "\n",
       "    .dataframe tbody tr th {\n",
       "        vertical-align: top;\n",
       "    }\n",
       "\n",
       "    .dataframe thead th {\n",
       "        text-align: right;\n",
       "    }\n",
       "</style>\n",
       "<table border=\"1\" class=\"dataframe\">\n",
       "  <thead>\n",
       "    <tr style=\"text-align: right;\">\n",
       "      <th></th>\n",
       "      <th>title</th>\n",
       "      <th>genre</th>\n",
       "      <th>appid</th>\n",
       "      <th>reviews</th>\n",
       "    </tr>\n",
       "  </thead>\n",
       "  <tbody>\n",
       "    <tr>\n",
       "      <th>0</th>\n",
       "      <td>Counter-Strike: Global Offensive</td>\n",
       "      <td>Action</td>\n",
       "      <td>730</td>\n",
       "      <td>[Your team in every random competitive game:\\n...</td>\n",
       "    </tr>\n",
       "    <tr>\n",
       "      <th>1</th>\n",
       "      <td>Grand Theft Auto V</td>\n",
       "      <td>Action</td>\n",
       "      <td>271590</td>\n",
       "      <td>[Trevor Philips Enterprises 🥵, After Ep*c Game...</td>\n",
       "    </tr>\n",
       "    <tr>\n",
       "      <th>2</th>\n",
       "      <td>Tom Clancy's Rainbow Six® Siege</td>\n",
       "      <td>Action</td>\n",
       "      <td>359550</td>\n",
       "      <td>[&gt; Play as French guy with giant shield\\n&gt; Sto...</td>\n",
       "    </tr>\n",
       "    <tr>\n",
       "      <th>3</th>\n",
       "      <td>Left 4 Dead 2</td>\n",
       "      <td>Action</td>\n",
       "      <td>550</td>\n",
       "      <td>[h, why did they leave me for dead for thats n...</td>\n",
       "    </tr>\n",
       "    <tr>\n",
       "      <th>4</th>\n",
       "      <td>Warframe</td>\n",
       "      <td>Action</td>\n",
       "      <td>230410</td>\n",
       "      <td>[look at my hours, look at my hours]</td>\n",
       "    </tr>\n",
       "  </tbody>\n",
       "</table>\n",
       "</div>"
      ],
      "text/plain": [
       "                              title   genre   appid  \\\n",
       "0  Counter-Strike: Global Offensive  Action     730   \n",
       "1                Grand Theft Auto V  Action  271590   \n",
       "2   Tom Clancy's Rainbow Six® Siege  Action  359550   \n",
       "3                     Left 4 Dead 2  Action     550   \n",
       "4                          Warframe  Action  230410   \n",
       "\n",
       "                                             reviews  \n",
       "0  [Your team in every random competitive game:\\n...  \n",
       "1  [Trevor Philips Enterprises 🥵, After Ep*c Game...  \n",
       "2  [> Play as French guy with giant shield\\n> Sto...  \n",
       "3  [h, why did they leave me for dead for thats n...  \n",
       "4               [look at my hours, look at my hours]  "
      ]
     },
     "execution_count": 160,
     "metadata": {},
     "output_type": "execute_result"
    }
   ],
   "source": [
    "df.head()"
   ]
  },
  {
   "cell_type": "code",
   "execution_count": 109,
   "id": "bb0ffd43-53b7-4d3d-be1f-d5c04e0d3432",
   "metadata": {},
   "outputs": [],
   "source": [
    "# megadict={}\n",
    "\n",
    "# def megadicter(list):\n",
    "#     for items in list:\n",
    "#         megadict[df.title]=(items)"
   ]
  },
  {
   "cell_type": "code",
   "execution_count": 229,
   "id": "7ea6ef6c-fe1d-409c-8911-68f1d88b6601",
   "metadata": {},
   "outputs": [],
   "source": [
    "#df.reviews.apply(megadicter)"
   ]
  },
  {
   "cell_type": "code",
   "execution_count": 231,
   "id": "4a796635-b9d1-4c02-965e-65c29ba49888",
   "metadata": {},
   "outputs": [],
   "source": [
    "# for rows in df:\n",
    "#     megadict[df.title]=(df.reviews)"
   ]
  },
  {
   "cell_type": "code",
   "execution_count": 123,
   "id": "784f7638-95b0-4c50-b5e6-d070be93b1ea",
   "metadata": {},
   "outputs": [],
   "source": [
    "megalist=[]\n",
    "\n",
    "def megalister(list):\n",
    "    for items in list:\n",
    "        megalist.append(items)"
   ]
  },
  {
   "cell_type": "code",
   "execution_count": 215,
   "id": "409cfdc8-d835-4e02-8f13-fe2c3ec3d319",
   "metadata": {},
   "outputs": [
    {
     "data": {
      "text/html": [
       "<div>\n",
       "<style scoped>\n",
       "    .dataframe tbody tr th:only-of-type {\n",
       "        vertical-align: middle;\n",
       "    }\n",
       "\n",
       "    .dataframe tbody tr th {\n",
       "        vertical-align: top;\n",
       "    }\n",
       "\n",
       "    .dataframe thead th {\n",
       "        text-align: right;\n",
       "    }\n",
       "</style>\n",
       "<table border=\"1\" class=\"dataframe\">\n",
       "  <thead>\n",
       "    <tr style=\"text-align: right;\">\n",
       "      <th></th>\n",
       "      <th>title</th>\n",
       "      <th>genre</th>\n",
       "      <th>appid</th>\n",
       "      <th>reviews</th>\n",
       "      <th>reviews2</th>\n",
       "    </tr>\n",
       "  </thead>\n",
       "  <tbody>\n",
       "    <tr>\n",
       "      <th>0</th>\n",
       "      <td>Counter-Strike: Global Offensive</td>\n",
       "      <td>Action</td>\n",
       "      <td>730</td>\n",
       "      <td>[Your team in every random competitive game:\\n...</td>\n",
       "      <td>730</td>\n",
       "    </tr>\n",
       "  </tbody>\n",
       "</table>\n",
       "</div>"
      ],
      "text/plain": [
       "                              title   genre appid  \\\n",
       "0  Counter-Strike: Global Offensive  Action   730   \n",
       "\n",
       "                                             reviews reviews2  \n",
       "0  [Your team in every random competitive game:\\n...      730  "
      ]
     },
     "execution_count": 215,
     "metadata": {},
     "output_type": "execute_result"
    }
   ],
   "source": [
    "df.head(1)"
   ]
  },
  {
   "cell_type": "code",
   "execution_count": 217,
   "id": "b284cf0c-e6f9-4704-8d31-46ce795584b9",
   "metadata": {},
   "outputs": [
    {
     "name": "stdout",
     "output_type": "stream",
     "text": [
      "<class 'pandas.core.frame.DataFrame'>\n",
      "RangeIndex: 125 entries, 0 to 124\n",
      "Data columns (total 5 columns):\n",
      " #   Column    Non-Null Count  Dtype \n",
      "---  ------    --------------  ----- \n",
      " 0   title     125 non-null    object\n",
      " 1   genre     125 non-null    object\n",
      " 2   appid     125 non-null    object\n",
      " 3   reviews   125 non-null    object\n",
      " 4   reviews2  125 non-null    object\n",
      "dtypes: object(5)\n",
      "memory usage: 5.0+ KB\n"
     ]
    }
   ],
   "source": [
    "df.info()"
   ]
  },
  {
   "cell_type": "code",
   "execution_count": 125,
   "id": "844ab030-979a-499a-aea6-aeabf8d7947b",
   "metadata": {},
   "outputs": [
    {
     "data": {
      "text/plain": [
       "0      None\n",
       "1      None\n",
       "2      None\n",
       "3      None\n",
       "4      None\n",
       "       ... \n",
       "120    None\n",
       "121    None\n",
       "122    None\n",
       "123    None\n",
       "124    None\n",
       "Name: reviews, Length: 125, dtype: object"
      ]
     },
     "execution_count": 125,
     "metadata": {},
     "output_type": "execute_result"
    }
   ],
   "source": [
    "df.reviews.apply(megalister)"
   ]
  },
  {
   "cell_type": "code",
   "execution_count": 228,
   "id": "c62a4958-28fb-410a-b30b-f0991dc78abf",
   "metadata": {},
   "outputs": [],
   "source": [
    "# list of 4k reviews, but no game title attached. \n",
    "\n",
    "#megalist"
   ]
  },
  {
   "cell_type": "code",
   "execution_count": 164,
   "id": "b88b7331-d05b-43ac-93a7-d711c3245fee",
   "metadata": {},
   "outputs": [
    {
     "data": {
      "text/plain": [
       "'Your team in every random competitive game:\\n\\n- You\\n- Russian Guy\\n- Another Russian Guy\\n- A 6 year old kid who slept with your mother\\n- Russian Guy who speaks English\\n\\n10/10'"
      ]
     },
     "execution_count": 164,
     "metadata": {},
     "output_type": "execute_result"
    }
   ],
   "source": [
    "tester = megalist[0]\n",
    "tester"
   ]
  },
  {
   "cell_type": "code",
   "execution_count": 134,
   "id": "97b38fcf-fd3d-474b-b1e8-ac0298c24e99",
   "metadata": {},
   "outputs": [
    {
     "data": {
      "text/plain": [
       "125"
      ]
     },
     "execution_count": 134,
     "metadata": {},
     "output_type": "execute_result"
    }
   ],
   "source": [
    "len(df.reviews)"
   ]
  },
  {
   "cell_type": "code",
   "execution_count": 139,
   "id": "4d924239-5b07-4d06-91a9-f3a61c1b92d0",
   "metadata": {},
   "outputs": [
    {
     "data": {
      "text/plain": [
       "False"
      ]
     },
     "execution_count": 139,
     "metadata": {},
     "output_type": "execute_result"
    }
   ],
   "source": [
    "tester in df.reviews[124]"
   ]
  },
  {
   "cell_type": "code",
   "execution_count": 161,
   "id": "704e6d7c-5fff-4c3f-b928-e1127e093541",
   "metadata": {},
   "outputs": [
    {
     "name": "stdout",
     "output_type": "stream",
     "text": [
      "Counter-Strike: Global Offensive\n"
     ]
    }
   ],
   "source": [
    "# this allows me to pull which row from game dataframe the review is in\n",
    "\n",
    "for i in range(len(df)-1):\n",
    "    if tester in df.reviews[i]:\n",
    "        print(df.iloc[i].title)"
   ]
  },
  {
   "cell_type": "code",
   "execution_count": 148,
   "id": "31e031f8-9983-45c7-8a83-62e7651e71d7",
   "metadata": {},
   "outputs": [
    {
     "ename": "AttributeError",
     "evalue": "'list' object has no attribute 'to_csv'",
     "output_type": "error",
     "traceback": [
      "\u001b[0;31m---------------------------------------------------------------------------\u001b[0m",
      "\u001b[0;31mAttributeError\u001b[0m                            Traceback (most recent call last)",
      "\u001b[0;32m<ipython-input-148-c32be9424b66>\u001b[0m in \u001b[0;36m<module>\u001b[0;34m\u001b[0m\n\u001b[0;32m----> 1\u001b[0;31m \u001b[0mmegalist\u001b[0m\u001b[0;34m.\u001b[0m\u001b[0mto_csv\u001b[0m\u001b[0;34m(\u001b[0m\u001b[0;34mr'users/michaelharnett/desktop/metis/projects/steam2_redux/megalist.csv'\u001b[0m\u001b[0;34m)\u001b[0m\u001b[0;34m\u001b[0m\u001b[0;34m\u001b[0m\u001b[0m\n\u001b[0m",
      "\u001b[0;31mAttributeError\u001b[0m: 'list' object has no attribute 'to_csv'"
     ]
    }
   ],
   "source": [
    "megalist.to_csv(r'users/michaelharnett/desktop/metis/projects/steam2_redux/megalist.csv')"
   ]
  },
  {
   "cell_type": "code",
   "execution_count": 150,
   "id": "bac684fd-b231-4984-8b30-bc3f3ac07c34",
   "metadata": {},
   "outputs": [
    {
     "data": {
      "text/html": [
       "<div>\n",
       "<style scoped>\n",
       "    .dataframe tbody tr th:only-of-type {\n",
       "        vertical-align: middle;\n",
       "    }\n",
       "\n",
       "    .dataframe tbody tr th {\n",
       "        vertical-align: top;\n",
       "    }\n",
       "\n",
       "    .dataframe thead th {\n",
       "        text-align: right;\n",
       "    }\n",
       "</style>\n",
       "<table border=\"1\" class=\"dataframe\">\n",
       "  <thead>\n",
       "    <tr style=\"text-align: right;\">\n",
       "      <th></th>\n",
       "      <th>title</th>\n",
       "      <th>0</th>\n",
       "      <th>1</th>\n",
       "      <th>reviews</th>\n",
       "    </tr>\n",
       "  </thead>\n",
       "  <tbody>\n",
       "    <tr>\n",
       "      <th>0</th>\n",
       "      <td>Counter-Strike: Global Offensive</td>\n",
       "      <td>Action</td>\n",
       "      <td>730</td>\n",
       "      <td>[Your team in every random competitive game:\\n...</td>\n",
       "    </tr>\n",
       "    <tr>\n",
       "      <th>1</th>\n",
       "      <td>Grand Theft Auto V</td>\n",
       "      <td>Action</td>\n",
       "      <td>271590</td>\n",
       "      <td>[Trevor Philips Enterprises 🥵, After Ep*c Game...</td>\n",
       "    </tr>\n",
       "    <tr>\n",
       "      <th>2</th>\n",
       "      <td>Tom Clancy's Rainbow Six® Siege</td>\n",
       "      <td>Action</td>\n",
       "      <td>359550</td>\n",
       "      <td>[&gt; Play as French guy with giant shield\\n&gt; Sto...</td>\n",
       "    </tr>\n",
       "    <tr>\n",
       "      <th>3</th>\n",
       "      <td>Left 4 Dead 2</td>\n",
       "      <td>Action</td>\n",
       "      <td>550</td>\n",
       "      <td>[h, why did they leave me for dead for thats n...</td>\n",
       "    </tr>\n",
       "    <tr>\n",
       "      <th>4</th>\n",
       "      <td>Warframe</td>\n",
       "      <td>Action</td>\n",
       "      <td>230410</td>\n",
       "      <td>[look at my hours, look at my hours]</td>\n",
       "    </tr>\n",
       "  </tbody>\n",
       "</table>\n",
       "</div>"
      ],
      "text/plain": [
       "                              title       0       1  \\\n",
       "0  Counter-Strike: Global Offensive  Action     730   \n",
       "1                Grand Theft Auto V  Action  271590   \n",
       "2   Tom Clancy's Rainbow Six® Siege  Action  359550   \n",
       "3                     Left 4 Dead 2  Action     550   \n",
       "4                          Warframe  Action  230410   \n",
       "\n",
       "                                             reviews  \n",
       "0  [Your team in every random competitive game:\\n...  \n",
       "1  [Trevor Philips Enterprises 🥵, After Ep*c Game...  \n",
       "2  [> Play as French guy with giant shield\\n> Sto...  \n",
       "3  [h, why did they leave me for dead for thats n...  \n",
       "4               [look at my hours, look at my hours]  "
      ]
     },
     "execution_count": 150,
     "metadata": {},
     "output_type": "execute_result"
    }
   ],
   "source": [
    "df.head()"
   ]
  },
  {
   "cell_type": "code",
   "execution_count": 254,
   "id": "958fb781-21c3-468a-b825-79f639f7fdfe",
   "metadata": {},
   "outputs": [
    {
     "data": {
      "text/plain": [
       "40"
      ]
     },
     "execution_count": 254,
     "metadata": {},
     "output_type": "execute_result"
    }
   ],
   "source": [
    "len(df.iloc[0]['reviews'])"
   ]
  },
  {
   "cell_type": "code",
   "execution_count": 156,
   "id": "b3e6dd5f-07e9-47e4-a091-a5756709e2c1",
   "metadata": {},
   "outputs": [],
   "source": [
    "df.to_csv(r'/users/michaelharnett/desktop/metis/projects/steam2_redux/megalist.csv', index=False)"
   ]
  },
  {
   "cell_type": "markdown",
   "id": "46c07c97-095d-4e3b-a26b-cde46cba2e8b",
   "metadata": {},
   "source": [
    "# oh wait, there's zip!\n",
    "should be able to zip each review to the title and genre when creating the list, making a larger data frame wher each review is its own thing"
   ]
  },
  {
   "cell_type": "code",
   "execution_count": 162,
   "id": "82b1101b-4094-4d56-9c18-852e18c5e6fc",
   "metadata": {},
   "outputs": [],
   "source": [
    "df['reviews2']= df.appid"
   ]
  },
  {
   "cell_type": "code",
   "execution_count": 163,
   "id": "11665789-6c3f-4707-a7bc-c7e01d5e4deb",
   "metadata": {},
   "outputs": [
    {
     "data": {
      "text/html": [
       "<div>\n",
       "<style scoped>\n",
       "    .dataframe tbody tr th:only-of-type {\n",
       "        vertical-align: middle;\n",
       "    }\n",
       "\n",
       "    .dataframe tbody tr th {\n",
       "        vertical-align: top;\n",
       "    }\n",
       "\n",
       "    .dataframe thead th {\n",
       "        text-align: right;\n",
       "    }\n",
       "</style>\n",
       "<table border=\"1\" class=\"dataframe\">\n",
       "  <thead>\n",
       "    <tr style=\"text-align: right;\">\n",
       "      <th></th>\n",
       "      <th>title</th>\n",
       "      <th>genre</th>\n",
       "      <th>appid</th>\n",
       "      <th>reviews</th>\n",
       "      <th>reviews2</th>\n",
       "    </tr>\n",
       "  </thead>\n",
       "  <tbody>\n",
       "    <tr>\n",
       "      <th>0</th>\n",
       "      <td>Counter-Strike: Global Offensive</td>\n",
       "      <td>Action</td>\n",
       "      <td>730</td>\n",
       "      <td>[Your team in every random competitive game:\\n...</td>\n",
       "      <td>730</td>\n",
       "    </tr>\n",
       "    <tr>\n",
       "      <th>1</th>\n",
       "      <td>Grand Theft Auto V</td>\n",
       "      <td>Action</td>\n",
       "      <td>271590</td>\n",
       "      <td>[Trevor Philips Enterprises 🥵, After Ep*c Game...</td>\n",
       "      <td>271590</td>\n",
       "    </tr>\n",
       "    <tr>\n",
       "      <th>2</th>\n",
       "      <td>Tom Clancy's Rainbow Six® Siege</td>\n",
       "      <td>Action</td>\n",
       "      <td>359550</td>\n",
       "      <td>[&gt; Play as French guy with giant shield\\n&gt; Sto...</td>\n",
       "      <td>359550</td>\n",
       "    </tr>\n",
       "    <tr>\n",
       "      <th>3</th>\n",
       "      <td>Left 4 Dead 2</td>\n",
       "      <td>Action</td>\n",
       "      <td>550</td>\n",
       "      <td>[h, why did they leave me for dead for thats n...</td>\n",
       "      <td>550</td>\n",
       "    </tr>\n",
       "    <tr>\n",
       "      <th>4</th>\n",
       "      <td>Warframe</td>\n",
       "      <td>Action</td>\n",
       "      <td>230410</td>\n",
       "      <td>[look at my hours, look at my hours]</td>\n",
       "      <td>230410</td>\n",
       "    </tr>\n",
       "  </tbody>\n",
       "</table>\n",
       "</div>"
      ],
      "text/plain": [
       "                              title   genre   appid  \\\n",
       "0  Counter-Strike: Global Offensive  Action     730   \n",
       "1                Grand Theft Auto V  Action  271590   \n",
       "2   Tom Clancy's Rainbow Six® Siege  Action  359550   \n",
       "3                     Left 4 Dead 2  Action     550   \n",
       "4                          Warframe  Action  230410   \n",
       "\n",
       "                                             reviews reviews2  \n",
       "0  [Your team in every random competitive game:\\n...      730  \n",
       "1  [Trevor Philips Enterprises 🥵, After Ep*c Game...   271590  \n",
       "2  [> Play as French guy with giant shield\\n> Sto...   359550  \n",
       "3  [h, why did they leave me for dead for thats n...      550  \n",
       "4               [look at my hours, look at my hours]   230410  "
      ]
     },
     "execution_count": 163,
     "metadata": {},
     "output_type": "execute_result"
    }
   ],
   "source": [
    "df.head()"
   ]
  },
  {
   "cell_type": "code",
   "execution_count": 174,
   "id": "80348c65-8168-405f-b7b4-255e43e2a658",
   "metadata": {},
   "outputs": [],
   "source": [
    "test_dict = {}\n",
    "\n",
    "def get_reviews_new(idnum):\n",
    "    reviews=[]\n",
    "    response = requests.get('http://store.steampowered.com/appreviews/{}?json=1'.format(idnum))\n",
    "    temp=response.json()\n",
    "    cursor = temp['cursor']\n",
    "    for i in range(len(temp['reviews'])):\n",
    "        #games_dict=dict(zip(idnum,(temp['reviews'][i]['review'])))\n",
    "        reviews.append(temp['reviews'][i]['review'])\n",
    "    response = requests.get('http://store.steampowered.com/appreviews/{}?json=1{}'.format(idnum, cursor))\n",
    "    temp = response.json()\n",
    "    for i in range(len(temp['reviews'])):\n",
    "        games_dict=dict(zip(idnum,(temp['reviews'][i]['review'])))             \n",
    "        #reviews.append(temp['reviews'][i]['review'])\n",
    "    return games_dict"
   ]
  },
  {
   "cell_type": "code",
   "execution_count": 180,
   "id": "824fe99c-e238-4cbd-8bb7-7d5926f2e5f1",
   "metadata": {},
   "outputs": [
    {
     "data": {
      "text/plain": [
       "'730'"
      ]
     },
     "execution_count": 180,
     "metadata": {},
     "output_type": "execute_result"
    }
   ],
   "source": [
    "idlist[0]"
   ]
  },
  {
   "cell_type": "code",
   "execution_count": 186,
   "id": "f9900a62-baa7-483e-b1a1-00d0cfdafea2",
   "metadata": {},
   "outputs": [
    {
     "data": {
      "text/plain": [
       "0                         {'7': 'H', '3': 'e', '0': 'l'}\n",
       "1      {'2': 'v', '7': 'e', '1': 'r', '5': 'y', '9': ...\n",
       "2               {'3': 'I', '5': 'e', '9': 'u', '0': 'd'}\n",
       "3                                   {'5': 'r', '0': 'e'}\n",
       "4      {'2': 'l', '3': 'o', '0': 'a', '4': 'k', '1': ...\n",
       "                             ...                        \n",
       "120    {'4': 'E', '2': 'l', '7': 'c', '5': 'e', '0': ...\n",
       "121    {'5': 'v', '9': 'k', '4': 'a', '7': 'e', '0': ...\n",
       "122    {'3': 'e', '9': 'f', '4': 't', '6': 'r', '0': ...\n",
       "123    {'3': 'W', '2': 'h', '4': 'a', '7': 't', '0': ...\n",
       "124    {'6': 'i', '4': 'h', '5': 's', '7': ' ', '0': ...\n",
       "Name: reviews2, Length: 125, dtype: object"
      ]
     },
     "execution_count": 186,
     "metadata": {},
     "output_type": "execute_result"
    }
   ],
   "source": [
    "df.reviews2.apply(get_reviews_new)"
   ]
  },
  {
   "cell_type": "code",
   "execution_count": 187,
   "id": "87dee105-d766-44f6-85db-6d1851217717",
   "metadata": {},
   "outputs": [
    {
     "ename": "NameError",
     "evalue": "name 'games_dict' is not defined",
     "output_type": "error",
     "traceback": [
      "\u001b[0;31m---------------------------------------------------------------------------\u001b[0m",
      "\u001b[0;31mNameError\u001b[0m                                 Traceback (most recent call last)",
      "\u001b[0;32m<ipython-input-187-fc2e3863a6a5>\u001b[0m in \u001b[0;36m<module>\u001b[0;34m\u001b[0m\n\u001b[0;32m----> 1\u001b[0;31m \u001b[0mgames_dict\u001b[0m\u001b[0;34m\u001b[0m\u001b[0;34m\u001b[0m\u001b[0m\n\u001b[0m",
      "\u001b[0;31mNameError\u001b[0m: name 'games_dict' is not defined"
     ]
    }
   ],
   "source": [
    "games_dict"
   ]
  },
  {
   "cell_type": "code",
   "execution_count": 189,
   "id": "24534a75-4167-4c71-831c-b9c89ff137e4",
   "metadata": {},
   "outputs": [
    {
     "data": {
      "text/plain": [
       "{'7': 'H', '3': 'e', '0': 'l'}"
      ]
     },
     "execution_count": 189,
     "metadata": {},
     "output_type": "execute_result"
    }
   ],
   "source": [
    "get_reviews_new(idlist[0])"
   ]
  },
  {
   "cell_type": "code",
   "execution_count": 236,
   "id": "166c0637-904a-4794-a3f7-c9e05a87d186",
   "metadata": {},
   "outputs": [],
   "source": [
    "#get_reviews(idlist[0])"
   ]
  },
  {
   "cell_type": "code",
   "execution_count": 191,
   "id": "d54e8b62-890d-4d52-9eae-90bb414d872c",
   "metadata": {},
   "outputs": [],
   "source": [
    "df2 = pd.DataFrame()"
   ]
  },
  {
   "cell_type": "code",
   "execution_count": 192,
   "id": "06913947-5a77-45a6-b0be-e92021e5e53e",
   "metadata": {},
   "outputs": [
    {
     "data": {
      "text/html": [
       "<div>\n",
       "<style scoped>\n",
       "    .dataframe tbody tr th:only-of-type {\n",
       "        vertical-align: middle;\n",
       "    }\n",
       "\n",
       "    .dataframe tbody tr th {\n",
       "        vertical-align: top;\n",
       "    }\n",
       "\n",
       "    .dataframe thead th {\n",
       "        text-align: right;\n",
       "    }\n",
       "</style>\n",
       "<table border=\"1\" class=\"dataframe\">\n",
       "  <thead>\n",
       "    <tr style=\"text-align: right;\">\n",
       "      <th></th>\n",
       "    </tr>\n",
       "  </thead>\n",
       "  <tbody>\n",
       "  </tbody>\n",
       "</table>\n",
       "</div>"
      ],
      "text/plain": [
       "Empty DataFrame\n",
       "Columns: []\n",
       "Index: []"
      ]
     },
     "execution_count": 192,
     "metadata": {},
     "output_type": "execute_result"
    }
   ],
   "source": [
    "df2"
   ]
  },
  {
   "cell_type": "code",
   "execution_count": 195,
   "id": "fec03e00-9c6c-4711-a169-3861ebfbb326",
   "metadata": {},
   "outputs": [
    {
     "ename": "ValueError",
     "evalue": "column must be a scalar",
     "output_type": "error",
     "traceback": [
      "\u001b[0;31m---------------------------------------------------------------------------\u001b[0m",
      "\u001b[0;31mValueError\u001b[0m                                Traceback (most recent call last)",
      "\u001b[0;32m<ipython-input-195-6727af621863>\u001b[0m in \u001b[0;36m<module>\u001b[0;34m\u001b[0m\n\u001b[0;32m----> 1\u001b[0;31m \u001b[0mdf\u001b[0m\u001b[0;34m.\u001b[0m\u001b[0mexplode\u001b[0m\u001b[0;34m(\u001b[0m\u001b[0mdf\u001b[0m\u001b[0;34m.\u001b[0m\u001b[0mreviews\u001b[0m\u001b[0;34m.\u001b[0m\u001b[0mstr\u001b[0m\u001b[0;34m.\u001b[0m\u001b[0msplit\u001b[0m\u001b[0;34m(\u001b[0m\u001b[0;34m','\u001b[0m\u001b[0;34m)\u001b[0m\u001b[0;34m)\u001b[0m\u001b[0;34m\u001b[0m\u001b[0;34m\u001b[0m\u001b[0m\n\u001b[0m",
      "\u001b[0;32m~/opt/anaconda3/envs/metis/lib/python3.8/site-packages/pandas/core/frame.py\u001b[0m in \u001b[0;36mexplode\u001b[0;34m(self, column, ignore_index)\u001b[0m\n\u001b[1;32m   7276\u001b[0m         \"\"\"\n\u001b[1;32m   7277\u001b[0m         \u001b[0;32mif\u001b[0m \u001b[0;32mnot\u001b[0m \u001b[0;34m(\u001b[0m\u001b[0mis_scalar\u001b[0m\u001b[0;34m(\u001b[0m\u001b[0mcolumn\u001b[0m\u001b[0;34m)\u001b[0m \u001b[0;32mor\u001b[0m \u001b[0misinstance\u001b[0m\u001b[0;34m(\u001b[0m\u001b[0mcolumn\u001b[0m\u001b[0;34m,\u001b[0m \u001b[0mtuple\u001b[0m\u001b[0;34m)\u001b[0m\u001b[0;34m)\u001b[0m\u001b[0;34m:\u001b[0m\u001b[0;34m\u001b[0m\u001b[0;34m\u001b[0m\u001b[0m\n\u001b[0;32m-> 7278\u001b[0;31m             \u001b[0;32mraise\u001b[0m \u001b[0mValueError\u001b[0m\u001b[0;34m(\u001b[0m\u001b[0;34m\"column must be a scalar\"\u001b[0m\u001b[0;34m)\u001b[0m\u001b[0;34m\u001b[0m\u001b[0;34m\u001b[0m\u001b[0m\n\u001b[0m\u001b[1;32m   7279\u001b[0m         \u001b[0;32mif\u001b[0m \u001b[0;32mnot\u001b[0m \u001b[0mself\u001b[0m\u001b[0;34m.\u001b[0m\u001b[0mcolumns\u001b[0m\u001b[0;34m.\u001b[0m\u001b[0mis_unique\u001b[0m\u001b[0;34m:\u001b[0m\u001b[0;34m\u001b[0m\u001b[0;34m\u001b[0m\u001b[0m\n\u001b[1;32m   7280\u001b[0m             \u001b[0;32mraise\u001b[0m \u001b[0mValueError\u001b[0m\u001b[0;34m(\u001b[0m\u001b[0;34m\"columns must be unique\"\u001b[0m\u001b[0;34m)\u001b[0m\u001b[0;34m\u001b[0m\u001b[0;34m\u001b[0m\u001b[0m\n",
      "\u001b[0;31mValueError\u001b[0m: column must be a scalar"
     ]
    }
   ],
   "source": [
    "df.explode(df.reviews.str.split(','))"
   ]
  },
  {
   "cell_type": "code",
   "execution_count": 211,
   "id": "6412eebe-d889-4c8c-9ae1-b4f395085d6b",
   "metadata": {},
   "outputs": [
    {
     "data": {
      "text/plain": [
       "0      Your team in every random competitive game:\\n\\...\n",
       "0                                Pay $15 to unlock level\n",
       "0                 counter-fart: globally offensive scent\n",
       "0      This game saved my life.\\n\\nI am 27.\\n\\nMy ex-...\n",
       "0      Absolutely garbage servers and net-code for pu...\n",
       "                             ...                        \n",
       "124                                Damnn this game 10/10\n",
       "124    10/10 a very fun gameplay, so many different b...\n",
       "124    Easily the best and most diverse card builder ...\n",
       "124    A phenomenal card game. Probably the best roug...\n",
       "124    This game is an easy way to blow through an en...\n",
       "Name: reviews, Length: 4120, dtype: object"
      ]
     },
     "execution_count": 211,
     "metadata": {},
     "output_type": "execute_result"
    }
   ],
   "source": [
    "df.reviews.explode()"
   ]
  },
  {
   "cell_type": "code",
   "execution_count": 258,
   "id": "f47c87d0-5531-44af-8378-b9159e4d9217",
   "metadata": {},
   "outputs": [],
   "source": [
    "## working code\n",
    "explodeddf = df.explode('reviews')"
   ]
  },
  {
   "cell_type": "code",
   "execution_count": 259,
   "id": "87953204-cdba-4340-90f8-3a74811dbe56",
   "metadata": {},
   "outputs": [],
   "source": [
    "explodeddf.to_csv(r'/users/michaelharnett/desktop/metis/projects/steam2_redux/data/explodedf.csv')"
   ]
  },
  {
   "cell_type": "code",
   "execution_count": 222,
   "id": "f179a872-c95e-4e00-8862-5908f83d9c9c",
   "metadata": {},
   "outputs": [
    {
     "data": {
      "text/plain": [
       "4120"
      ]
     },
     "execution_count": 222,
     "metadata": {},
     "output_type": "execute_result"
    }
   ],
   "source": [
    "len(megalist2)"
   ]
  },
  {
   "cell_type": "code",
   "execution_count": 260,
   "id": "3a55cec2-9bab-4a93-a281-fbf6e461ab84",
   "metadata": {},
   "outputs": [
    {
     "data": {
      "text/plain": [
       "'Your team in every random competitive game:\\n\\n- You\\n- Russian Guy\\n- Another Russian Guy\\n- A 6 year old kid who slept with your mother\\n- Russian Guy who speaks English\\n\\n10/10'"
      ]
     },
     "execution_count": 260,
     "metadata": {},
     "output_type": "execute_result"
    }
   ],
   "source": [
    "df.iloc[0]['reviews'][0]"
   ]
  },
  {
   "cell_type": "code",
   "execution_count": 224,
   "id": "663f453f-7f10-4945-8027-7fb7790f2389",
   "metadata": {},
   "outputs": [],
   "source": [
    "megalist3 = []\n",
    "\n",
    "for rows in df.reviews:\n",
    "    for items in rows:\n",
    "        megalist3.append(items)"
   ]
  },
  {
   "cell_type": "code",
   "execution_count": 225,
   "id": "1c53c16d-cd10-47ec-8272-338c5eb3d82c",
   "metadata": {},
   "outputs": [
    {
     "data": {
      "text/plain": [
       "4120"
      ]
     },
     "execution_count": 225,
     "metadata": {},
     "output_type": "execute_result"
    }
   ],
   "source": [
    "len(megalist3)"
   ]
  },
  {
   "cell_type": "code",
   "execution_count": null,
   "id": "598c6cb5-d4cc-4f7c-8a08-46f11e46e400",
   "metadata": {},
   "outputs": [],
   "source": []
  },
  {
   "cell_type": "code",
   "execution_count": 227,
   "id": "20866679-4166-4bb2-9c9a-e60487faac9c",
   "metadata": {},
   "outputs": [
    {
     "data": {
      "text/plain": [
       "'Your team in every random competitive game:\\n\\n- You\\n- Russian Guy\\n- Another Russian Guy\\n- A 6 year old kid who slept with your mother\\n- Russian Guy who speaks English\\n\\n10/10'"
      ]
     },
     "execution_count": 227,
     "metadata": {},
     "output_type": "execute_result"
    }
   ],
   "source": [
    "df.iloc[0]['reviews'][0]"
   ]
  },
  {
   "cell_type": "markdown",
   "id": "273e670b-cc49-43bc-a926-488b50f976fc",
   "metadata": {},
   "source": [
    "# Beginning Topic Modeling\n",
    "\n",
    "the df did not save the same way, finishing modeling in here"
   ]
  },
  {
   "cell_type": "code",
   "execution_count": 237,
   "id": "354dcffc-5b22-4c8d-a4e4-c7287e7cc5c0",
   "metadata": {},
   "outputs": [],
   "source": [
    "import numpy as np\n",
    "import pandas as pd\n",
    "from sklearn.feature_extraction.text import CountVectorizer, TfidfVectorizer\n",
    "from sklearn.decomposition import TruncatedSVD\n",
    "from sklearn.decomposition import NMF\n",
    "from sklearn.metrics.pairwise import cosine_similarity\n",
    "from sklearn.metrics import pairwise_distances"
   ]
  },
  {
   "cell_type": "markdown",
   "id": "946c93e9-6b52-4672-bfed-1b15a42b6f5d",
   "metadata": {},
   "source": [
    "## Starting with countvectorizer first"
   ]
  },
  {
   "cell_type": "code",
   "execution_count": 246,
   "id": "26253ee8-8178-4bc9-9030-d3b163429028",
   "metadata": {},
   "outputs": [],
   "source": [
    "cv1 = CountVectorizer(stop_words='english', token_pattern='[a-zA-Z]+', min_df=4)\n",
    "doc_word = cv1.fit_transform(megalist)"
   ]
  },
  {
   "cell_type": "code",
   "execution_count": 247,
   "id": "523ff528-4c22-47da-866f-24037131245a",
   "metadata": {},
   "outputs": [
    {
     "data": {
      "text/plain": [
       "(4120, 4990)"
      ]
     },
     "execution_count": 247,
     "metadata": {},
     "output_type": "execute_result"
    }
   ],
   "source": [
    "doc_word.shape"
   ]
  },
  {
   "cell_type": "code",
   "execution_count": 249,
   "id": "49b43b6a-d29f-498c-b49e-cf0334918a5c",
   "metadata": {},
   "outputs": [],
   "source": [
    "#pd.DataFrame(doc_word.toarray(), columns=cv1.get_feature_names()).head(10)"
   ]
  },
  {
   "cell_type": "code",
   "execution_count": 250,
   "id": "e4421b40-6b77-4728-b888-c41e4b1cccb1",
   "metadata": {},
   "outputs": [],
   "source": [
    "#initializing lsa and nmf that can be reused\n",
    "lsa = TruncatedSVD(5)\n",
    "nmf_model = NMF(5)"
   ]
  },
  {
   "cell_type": "code",
   "execution_count": 251,
   "id": "5a3b4921-c8fa-4d5c-9ceb-2b1cc1c311a4",
   "metadata": {},
   "outputs": [],
   "source": [
    "doc_topic = lsa.fit_transform(doc_word)"
   ]
  },
  {
   "cell_type": "code",
   "execution_count": 253,
   "id": "c90e0713-7666-46a1-9061-5226456ceca4",
   "metadata": {},
   "outputs": [
    {
     "data": {
      "text/plain": [
       "array([[ 7.32788665e-01, -3.02413659e-01, -2.25442946e-01,\n",
       "        -1.22148484e-01, -3.18414335e-03],\n",
       "       [ 5.65305821e-02, -2.46277401e-02, -1.46856057e-02,\n",
       "        -7.24282228e-03, -1.09986023e-04],\n",
       "       [ 1.68311393e-03, -4.91735458e-04, -6.42723232e-04,\n",
       "        -5.02004997e-04, -3.77152622e-05],\n",
       "       ...,\n",
       "       [ 1.56137462e-01, -5.97353695e-02, -4.22314522e-02,\n",
       "        -9.75426299e-03, -1.11893845e-03],\n",
       "       [ 1.13960463e+00, -3.96189901e-01, -3.23354180e-01,\n",
       "        -2.02167376e-01, -4.42368670e-03],\n",
       "       [ 1.27202736e+00, -3.45710894e-01, -2.94418677e-01,\n",
       "        -1.85168186e-01, -7.59411026e-03]])"
      ]
     },
     "execution_count": 253,
     "metadata": {},
     "output_type": "execute_result"
    }
   ],
   "source": [
    "doc_topic"
   ]
  },
  {
   "cell_type": "code",
   "execution_count": null,
   "id": "fe5dffaf-522e-4de0-ae37-8c2ad655d2a9",
   "metadata": {},
   "outputs": [],
   "source": []
  }
 ],
 "metadata": {
  "kernelspec": {
   "display_name": "Python [conda env:metis] *",
   "language": "python",
   "name": "conda-env-metis-py"
  },
  "language_info": {
   "codemirror_mode": {
    "name": "ipython",
    "version": 3
   },
   "file_extension": ".py",
   "mimetype": "text/x-python",
   "name": "python",
   "nbconvert_exporter": "python",
   "pygments_lexer": "ipython3",
   "version": "3.8.10"
  }
 },
 "nbformat": 4,
 "nbformat_minor": 5
}
