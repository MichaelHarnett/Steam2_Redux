{
 "cells": [
  {
   "cell_type": "code",
   "execution_count": 2,
   "id": "1349e891-4a6d-4b6c-bc02-4d2438b2566a",
   "metadata": {},
   "outputs": [],
   "source": [
    "from bs4 import BeautifulSoup\n",
    "import requests\n",
    "import pandas as pd\n",
    "import numpy as np\n",
    "import json"
   ]
  },
  {
   "cell_type": "code",
   "execution_count": 46,
   "id": "5182378b-648f-40ed-8fc3-40c82d32c688",
   "metadata": {},
   "outputs": [],
   "source": [
    "from selenium import webdriver\n",
    "from selenium.webdriver.common.keys import Keys\n",
    "import os, time\n"
   ]
  },
  {
   "cell_type": "markdown",
   "id": "b6f13eea-bf4a-47b2-9ef0-dd57b977bc4d",
   "metadata": {},
   "source": [
    "# Scraping Notebook\n",
    "This notebook is used to scrape and compile all data needed for the project. First, it will scrape the top 15 games of each genre from steampowered.com with their game id's, then use those ids to gather review data from SteamWorks API"
   ]
  },
  {
   "cell_type": "code",
   "execution_count": 270,
   "id": "ff359dd7-3d76-4499-a4a5-48787e74d82a",
   "metadata": {},
   "outputs": [],
   "source": [
    "# # Gathering 15 games and id numbers from each genre\n",
    "\n",
    "# #each url is formatted the same for the top rated games, so creating a list of the genres to cycle through\n",
    "# genre_list = ['Action', 'Adventure', 'Casual', 'Indie', 'Massively%20Multiplayer',\n",
    "#              'Racing', 'RPG','Simulation', 'Sports', 'Strategy' ]\n",
    "\n",
    "\n",
    "# games = {}\n",
    "# #cycle through each genre, pull 15 games\n",
    "# for genre in genre_list:\n",
    "#     response = requests.get('https://store.steampowered.com/tags/en/{}/#p=0&tab=TopRated'.format(genre))\n",
    "#     page = response.text\n",
    "#     soup = BeautifulSoup(page, 'html5lib')\n",
    "#     table = soup.find('div', id = 'TopRatedRows')\n",
    "#     rows = [row for row in table.find_all('a')]\n",
    "    \n",
    "#     #for each genre, get the 15 titles and ids\n",
    "#     for row in rows:\n",
    "#         title = (row.find(class_='tab_item_name').text)\n",
    "#         app_id = row.get('href').split('/')[4]\n",
    "    \n",
    "#         games[title] = (genre, app_id)\n",
    "        \n",
    "#     # adding second page for each genre, making it 30 games per genre\n",
    "#     # so even though the \"#p=\" signifies page number, it always starts on the first page, regardless of number passsed\n",
    "#     # this means I will have to use selenium, or stick to 15 games.\n",
    "#     # lets try selenim\n",
    "    \n",
    "# #     response = requests.get('https://store.steampowered.com/tags/en/{}/#p=1&tab=TopRated'.format(genre))\n",
    "# #     page = response.text\n",
    "# #     soup = BeautifulSoup(page, 'html5lib')\n",
    "# #     table = soup.find('div', id = 'TopRatedRows')\n",
    "# #     rows = [row for row in table.find_all('a')]\n",
    "    \n",
    "# #     #for each genre, get the 15 titles and ids\n",
    "# #     for row in rows:\n",
    "# #         title = (row.find(class_='tab_item_name').text)\n",
    "# #         app_id = row.get('href').split('/')[4]\n",
    "    \n",
    "# #         games[title] = (genre, app_id)\n",
    "    \n",
    "    "
   ]
  },
  {
   "cell_type": "code",
   "execution_count": 47,
   "id": "dfb2e38c-94e4-4ff6-8c70-d9ca06133e47",
   "metadata": {},
   "outputs": [],
   "source": [
    "chromedriver = \"/Applications/chromedriver\" \n",
    "os.environ[\"webdriver.chrome.driver\"] = chromedriver\n",
    "\n",
    "#url = 'https://store.steampowered.com/search/?filter=topsellers'\n",
    "\n",
    "driver = webdriver.Chrome(chromedriver)\n",
    "driver.get('https://store.steampowered.com/tags/en/actiion/#p=0&tab=TopRated')\n",
    "\n",
    "\n",
    "# Gathering 15 games and id numbers from each genre\n",
    "\n",
    "#each url is formatted the same for the top rated games, so creating a list of the genres to cycle through\n",
    "genre_list = ['Action', 'Adventure', 'Casual', 'Indie', 'Massively%20Multiplayer',\n",
    "             'Racing', 'RPG','Simulation', 'Sports', 'Strategy' ]\n",
    "\n",
    "\n",
    "games = {}\n",
    "#cycle through each genre, pull 15 games\n",
    "for genre in genre_list:\n",
    "    driver.get('https://store.steampowered.com/tags/en/{}/#p=0&tab=TopRated'.format(genre))\n",
    "    #page = response.text\n",
    "    soup = BeautifulSoup(driver.page_source, 'html5lib')\n",
    "    table = soup.find('div', id = 'TopRatedRows')\n",
    "    rows = [row for row in table.find_all('a')]\n",
    "    \n",
    "    #for each genre, get the 15 titles and ids\n",
    "    for row in rows:\n",
    "        title = (row.find(class_='tab_item_name').text)\n",
    "        app_id = row.get('href').split('/')[4]\n",
    "    \n",
    "        games[title] = (genre, app_id)\n",
    "        \n",
    "    # pulling second set of 15 games\n",
    "    button = driver.find_element_by_xpath('//*[@id=\"TopRated_links\"]/span[2]')\n",
    "    button.click()  # finds and clickds the page 2 button \n",
    "    \n",
    "    #needed to have it pauce or the second page_source never loaded.\n",
    "    time.sleep(3)\n",
    "    \n",
    "    #repeats above process\n",
    "    soup = BeautifulSoup(driver.page_source, 'html5lib')\n",
    "    table = soup.find('div', id = 'TopRatedRows')\n",
    "    rows2 = [row for row in table.find_all('a')]\n",
    "    \n",
    "    #for each genre, get the 15 titles and ids\n",
    "    for row in rows2:\n",
    "        title = (row.find(class_='tab_item_name').text)\n",
    "        app_id = row.get('href').split('/')[4]\n",
    "    \n",
    "        games[title] = (genre, app_id)\n"
   ]
  },
  {
   "cell_type": "code",
   "execution_count": 49,
   "id": "1995f3c4-c8c1-4951-bf0d-97343caf9507",
   "metadata": {},
   "outputs": [],
   "source": [
    "soup = BeautifulSoup(driver.page_source, 'html5')"
   ]
  },
  {
   "cell_type": "code",
   "execution_count": 50,
   "id": "6334cb8e-fb78-4137-aa19-b7c529a1bd4e",
   "metadata": {},
   "outputs": [
    {
     "data": {
      "text/plain": [
       "'Mount & Blade II: Bannerlord'"
      ]
     },
     "execution_count": 50,
     "metadata": {},
     "output_type": "execute_result"
    }
   ],
   "source": [
    "soup.find('div', id = 'TopRatedRows').find('a').find(class_='tab_item_name').text"
   ]
  },
  {
   "cell_type": "markdown",
   "id": "0d1dd321-2126-463b-87b0-2f67d80eb225",
   "metadata": {},
   "source": [
    "# Increasing Games\n",
    "I wanted a larger corpus. To increase from 15 to 30 games I thought would be as easy as changine the page number in the url; however, while p=0 switches to p=1 when navigating the site, it always loads the first page regardless of what number requests pulls. So I am switching over to selenium, and manually clicking the second page button. Re-writing the above code to be compatible with selenium."
   ]
  },
  {
   "cell_type": "code",
   "execution_count": 56,
   "id": "498fe04e-c439-478e-8689-7c9f1f2ebd21",
   "metadata": {},
   "outputs": [],
   "source": [
    "chromedriver = \"/Applications/chromedriver\" \n",
    "os.environ[\"webdriver.chrome.driver\"] = chromedriver\n",
    "driver = webdriver.Chrome(chromedriver)\n",
    "\n",
    "#initializing the page, but not pulling any information\n",
    "driver.get('https://store.steampowered.com')\n",
    "\n",
    "\n",
    "\n",
    "# Gathering 15 games and id numbers from each genre\n",
    "\n",
    "#each url is formatted the same for the top rated games, so creating a list of the genres to cycle through\n",
    "genre_list = ['Action', 'Adventure', 'Casual', 'Indie', 'Massively%20Multiplayer',\n",
    "             'Racing', 'RPG','Simulation', 'Sports', 'Strategy' ]\n",
    "\n",
    "\n",
    "games = {}\n",
    "\n",
    "#cycle through each genre, pull 15 games\n",
    "for genre in genre_list:\n",
    "    driver.get('https://store.steampowered.com/tags/en/{}/#p=0&tab=TopRated'.format(genre))\n",
    "    time.sleep(1)\n",
    "    \n",
    "    soup = BeautifulSoup(driver.page_source, 'html5lib')\n",
    "    table = soup.find('div', id = 'TopRatedRows')\n",
    "    rows = [row for row in table.find_all('a')]\n",
    "    \n",
    "    #for each genre, get the 15 titles and ids\n",
    "    for row in rows:\n",
    "        title = (row.find(class_='tab_item_name').text)\n",
    "        app_id = row.get('href').split('/')[4]\n",
    "    \n",
    "        games[title] = (genre, app_id)\n",
    "        \n",
    "    # going to second page of 15 titles\n",
    "    button = driver.find_element_by_xpath('//*[@id=\"TopRated_links\"]/span[2]')\n",
    "    button.click()   \n",
    "    \n",
    "    #needed to have it pauce or the second page_source never loaded.\n",
    "    time.sleep(2)\n",
    "    \n",
    "    #repeats above process\n",
    "    soup = BeautifulSoup(driver.page_source, 'html5lib')\n",
    "    table = soup.find('div', id = 'TopRatedRows')\n",
    "    rows2 = [row for row in table.find_all('a')]\n",
    "    \n",
    "    #for each genre, get the 15 titles and ids\n",
    "    for row in rows2:\n",
    "        title = (row.find(class_='tab_item_name').text)\n",
    "        app_id = row.get('href').split('/')[4]\n",
    "    \n",
    "        games[title] = (genre, app_id)\n",
    "\n",
    "\n"
   ]
  },
  {
   "cell_type": "code",
   "execution_count": 61,
   "id": "deab2128-54b0-4da9-97c6-811027b06b2a",
   "metadata": {},
   "outputs": [],
   "source": [
    "driver.quit()"
   ]
  },
  {
   "cell_type": "code",
   "execution_count": 57,
   "id": "0b3f0807-7d78-4f33-a2b0-9c65314c1751",
   "metadata": {},
   "outputs": [
    {
     "data": {
      "text/plain": [
       "239"
      ]
     },
     "execution_count": 57,
     "metadata": {},
     "output_type": "execute_result"
    }
   ],
   "source": [
    "len(games)"
   ]
  },
  {
   "cell_type": "code",
   "execution_count": 280,
   "id": "0561be26-8933-492d-a6a0-706118dbe4dd",
   "metadata": {},
   "outputs": [],
   "source": [
    "#games is a dictionary, with game titles as keys, and rpg and gameid as values\n",
    "\n",
    "#games"
   ]
  },
  {
   "cell_type": "code",
   "execution_count": 63,
   "id": "b587667c-781f-4a43-bb5e-94d6635cf8ef",
   "metadata": {},
   "outputs": [],
   "source": [
    "df = pd.DataFrame(games).T"
   ]
  },
  {
   "cell_type": "code",
   "execution_count": 64,
   "id": "86ef66e6-2f9d-40b5-b988-a4d5f563ef68",
   "metadata": {},
   "outputs": [
    {
     "data": {
      "text/html": [
       "<div>\n",
       "<style scoped>\n",
       "    .dataframe tbody tr th:only-of-type {\n",
       "        vertical-align: middle;\n",
       "    }\n",
       "\n",
       "    .dataframe tbody tr th {\n",
       "        vertical-align: top;\n",
       "    }\n",
       "\n",
       "    .dataframe thead th {\n",
       "        text-align: right;\n",
       "    }\n",
       "</style>\n",
       "<table border=\"1\" class=\"dataframe\">\n",
       "  <thead>\n",
       "    <tr style=\"text-align: right;\">\n",
       "      <th></th>\n",
       "      <th>0</th>\n",
       "      <th>1</th>\n",
       "    </tr>\n",
       "  </thead>\n",
       "  <tbody>\n",
       "    <tr>\n",
       "      <th>Counter-Strike: Global Offensive</th>\n",
       "      <td>Action</td>\n",
       "      <td>730</td>\n",
       "    </tr>\n",
       "    <tr>\n",
       "      <th>Grand Theft Auto V</th>\n",
       "      <td>Action</td>\n",
       "      <td>271590</td>\n",
       "    </tr>\n",
       "    <tr>\n",
       "      <th>Tom Clancy's Rainbow Six® Siege</th>\n",
       "      <td>Action</td>\n",
       "      <td>359550</td>\n",
       "    </tr>\n",
       "    <tr>\n",
       "      <th>Left 4 Dead 2</th>\n",
       "      <td>Action</td>\n",
       "      <td>550</td>\n",
       "    </tr>\n",
       "    <tr>\n",
       "      <th>Warframe</th>\n",
       "      <td>Action</td>\n",
       "      <td>230410</td>\n",
       "    </tr>\n",
       "    <tr>\n",
       "      <th>...</th>\n",
       "      <td>...</td>\n",
       "      <td>...</td>\n",
       "    </tr>\n",
       "    <tr>\n",
       "      <th>Total War™: ROME II - Emperor Edition</th>\n",
       "      <td>Strategy</td>\n",
       "      <td>214950</td>\n",
       "    </tr>\n",
       "    <tr>\n",
       "      <th>Warhammer® 40,000: Dawn of War® - Game of the Year Edition</th>\n",
       "      <td>Strategy</td>\n",
       "      <td>4570</td>\n",
       "    </tr>\n",
       "    <tr>\n",
       "      <th>ENDLESS™ Space 2</th>\n",
       "      <td>Strategy</td>\n",
       "      <td>392110</td>\n",
       "    </tr>\n",
       "    <tr>\n",
       "      <th>Total War: THREE KINGDOMS</th>\n",
       "      <td>Strategy</td>\n",
       "      <td>779340</td>\n",
       "    </tr>\n",
       "    <tr>\n",
       "      <th>XCOM® 2</th>\n",
       "      <td>Strategy</td>\n",
       "      <td>268500</td>\n",
       "    </tr>\n",
       "  </tbody>\n",
       "</table>\n",
       "<p>239 rows × 2 columns</p>\n",
       "</div>"
      ],
      "text/plain": [
       "                                                           0       1\n",
       "Counter-Strike: Global Offensive                      Action     730\n",
       "Grand Theft Auto V                                    Action  271590\n",
       "Tom Clancy's Rainbow Six® Siege                       Action  359550\n",
       "Left 4 Dead 2                                         Action     550\n",
       "Warframe                                              Action  230410\n",
       "...                                                      ...     ...\n",
       "Total War™: ROME II - Emperor Edition               Strategy  214950\n",
       "Warhammer® 40,000: Dawn of War® - Game of the Y...  Strategy    4570\n",
       "ENDLESS™ Space 2                                    Strategy  392110\n",
       "Total War: THREE KINGDOMS                           Strategy  779340\n",
       "XCOM® 2                                             Strategy  268500\n",
       "\n",
       "[239 rows x 2 columns]"
      ]
     },
     "execution_count": 64,
     "metadata": {},
     "output_type": "execute_result"
    }
   ],
   "source": [
    "df"
   ]
  },
  {
   "cell_type": "code",
   "execution_count": 65,
   "id": "2756824d-23cc-4b54-84f8-8987e6345d74",
   "metadata": {},
   "outputs": [
    {
     "name": "stdout",
     "output_type": "stream",
     "text": [
      "<class 'pandas.core.frame.DataFrame'>\n",
      "Index: 239 entries, Counter-Strike: Global Offensive to XCOM® 2\n",
      "Data columns (total 2 columns):\n",
      " #   Column  Non-Null Count  Dtype \n",
      "---  ------  --------------  ----- \n",
      " 0   0       239 non-null    object\n",
      " 1   1       239 non-null    object\n",
      "dtypes: object(2)\n",
      "memory usage: 5.6+ KB\n"
     ]
    }
   ],
   "source": [
    "df.info()"
   ]
  },
  {
   "cell_type": "code",
   "execution_count": 66,
   "id": "0239ebb2-1c62-4b04-bb28-ecb88d009285",
   "metadata": {},
   "outputs": [
    {
     "data": {
      "text/plain": [
       "Strategy                   30\n",
       "Sports                     30\n",
       "Massively%20Multiplayer    27\n",
       "RPG                        26\n",
       "Casual                     24\n",
       "Simulation                 23\n",
       "Indie                      22\n",
       "Adventure                  21\n",
       "Action                     18\n",
       "Racing                     18\n",
       "Name: 0, dtype: int64"
      ]
     },
     "execution_count": 66,
     "metadata": {},
     "output_type": "execute_result"
    }
   ],
   "source": [
    "# cannot for the life of me figure out why it pulls increasingly less from each genre. Future work\n",
    "df[0].value_counts()"
   ]
  },
  {
   "cell_type": "markdown",
   "id": "4c677ec0-00c8-4d1e-aa42-f98dabcd4dcc",
   "metadata": {},
   "source": [
    "# Pulling reviews for each game\n",
    "each api pull retrieves 20 commens, but adding the cursor from the first pull, it will take the next 20. This will get 40 reviews per game."
   ]
  },
  {
   "cell_type": "code",
   "execution_count": 67,
   "id": "fb388583-b539-4123-b74b-65cc4162ccf5",
   "metadata": {},
   "outputs": [],
   "source": [
    "def get_reviews(idnum):\n",
    "    reviews=[]\n",
    "    response = requests.get('http://store.steampowered.com/appreviews/{}?json=1'.format(idnum))\n",
    "    temp=response.json()\n",
    "    cursor = temp['cursor']   #a unique code per pull, signifying what the next batch of reviews are\n",
    "    for i in range(len(temp['reviews'])):\n",
    "        reviews.append(temp['reviews'][i]['review'])\n",
    "    response = requests.get('http://store.steampowered.com/appreviews/{}?json=1{}'.format(idnum, cursor))\n",
    "    temp = response.json()\n",
    "    for i in range(len(temp['reviews'])):\n",
    "        reviews.append(temp['reviews'][i]['review'])\n",
    "    return reviews"
   ]
  },
  {
   "cell_type": "code",
   "execution_count": 68,
   "id": "797d4b42-da9e-4cc0-9ccb-3f083313a52b",
   "metadata": {},
   "outputs": [],
   "source": [
    "df['reviews'] = df[1]"
   ]
  },
  {
   "cell_type": "code",
   "execution_count": 70,
   "id": "703454c0-7f8a-4145-baff-1015596a0fed",
   "metadata": {},
   "outputs": [],
   "source": [
    "df.reviews = df.reviews.apply(get_reviews)"
   ]
  },
  {
   "cell_type": "code",
   "execution_count": 71,
   "id": "5ffe017a-9af5-4e8c-96fc-ef285d6a3722",
   "metadata": {},
   "outputs": [
    {
     "data": {
      "text/html": [
       "<div>\n",
       "<style scoped>\n",
       "    .dataframe tbody tr th:only-of-type {\n",
       "        vertical-align: middle;\n",
       "    }\n",
       "\n",
       "    .dataframe tbody tr th {\n",
       "        vertical-align: top;\n",
       "    }\n",
       "\n",
       "    .dataframe thead th {\n",
       "        text-align: right;\n",
       "    }\n",
       "</style>\n",
       "<table border=\"1\" class=\"dataframe\">\n",
       "  <thead>\n",
       "    <tr style=\"text-align: right;\">\n",
       "      <th></th>\n",
       "      <th>0</th>\n",
       "      <th>1</th>\n",
       "      <th>reviews</th>\n",
       "    </tr>\n",
       "  </thead>\n",
       "  <tbody>\n",
       "    <tr>\n",
       "      <th>Counter-Strike: Global Offensive</th>\n",
       "      <td>Action</td>\n",
       "      <td>730</td>\n",
       "      <td>[Your team in every random competitive game:\\n...</td>\n",
       "    </tr>\n",
       "  </tbody>\n",
       "</table>\n",
       "</div>"
      ],
      "text/plain": [
       "                                       0    1  \\\n",
       "Counter-Strike: Global Offensive  Action  730   \n",
       "\n",
       "                                                                            reviews  \n",
       "Counter-Strike: Global Offensive  [Your team in every random competitive game:\\n...  "
      ]
     },
     "execution_count": 71,
     "metadata": {},
     "output_type": "execute_result"
    }
   ],
   "source": [
    "df.head(1)"
   ]
  },
  {
   "cell_type": "code",
   "execution_count": 72,
   "id": "e03f9d99-b999-478c-a3e2-26b0f2785cfa",
   "metadata": {},
   "outputs": [
    {
     "data": {
      "text/plain": [
       "'Your team in every random competitive game:\\n\\n- You\\n- Russian Guy\\n- Another Russian Guy\\n- A 6 year old kid who slept with your mother\\n- Russian Guy who speaks English\\n\\n10/10'"
      ]
     },
     "execution_count": 72,
     "metadata": {},
     "output_type": "execute_result"
    }
   ],
   "source": [
    "df.iloc[0]['reviews'][0]"
   ]
  },
  {
   "cell_type": "markdown",
   "id": "e57b3f60-c7ac-43d4-ad3b-27d0f80cbdf4",
   "metadata": {},
   "source": [
    "# Expanding Data Frame\n",
    "using pd.explode to expand the list of reviews captured for every game into its own row in the dataframe"
   ]
  },
  {
   "cell_type": "code",
   "execution_count": 73,
   "id": "2be02fd9-63cd-4921-b172-f630f3d8ef86",
   "metadata": {},
   "outputs": [
    {
     "data": {
      "text/html": [
       "<div>\n",
       "<style scoped>\n",
       "    .dataframe tbody tr th:only-of-type {\n",
       "        vertical-align: middle;\n",
       "    }\n",
       "\n",
       "    .dataframe tbody tr th {\n",
       "        vertical-align: top;\n",
       "    }\n",
       "\n",
       "    .dataframe thead th {\n",
       "        text-align: right;\n",
       "    }\n",
       "</style>\n",
       "<table border=\"1\" class=\"dataframe\">\n",
       "  <thead>\n",
       "    <tr style=\"text-align: right;\">\n",
       "      <th></th>\n",
       "      <th>0</th>\n",
       "      <th>1</th>\n",
       "      <th>reviews</th>\n",
       "    </tr>\n",
       "  </thead>\n",
       "  <tbody>\n",
       "    <tr>\n",
       "      <th>Counter-Strike: Global Offensive</th>\n",
       "      <td>Action</td>\n",
       "      <td>730</td>\n",
       "      <td>[Your team in every random competitive game:\\n...</td>\n",
       "    </tr>\n",
       "    <tr>\n",
       "      <th>Grand Theft Auto V</th>\n",
       "      <td>Action</td>\n",
       "      <td>271590</td>\n",
       "      <td>[Trevor Philips Enterprises 🥵, After Ep*c Game...</td>\n",
       "    </tr>\n",
       "    <tr>\n",
       "      <th>Tom Clancy's Rainbow Six® Siege</th>\n",
       "      <td>Action</td>\n",
       "      <td>359550</td>\n",
       "      <td>[&gt; Play as French guy with giant shield\\n&gt; Sto...</td>\n",
       "    </tr>\n",
       "    <tr>\n",
       "      <th>Left 4 Dead 2</th>\n",
       "      <td>Action</td>\n",
       "      <td>550</td>\n",
       "      <td>[h, why did they leave me for dead for thats n...</td>\n",
       "    </tr>\n",
       "    <tr>\n",
       "      <th>Warframe</th>\n",
       "      <td>Action</td>\n",
       "      <td>230410</td>\n",
       "      <td>[look at my hours, look at my hours]</td>\n",
       "    </tr>\n",
       "  </tbody>\n",
       "</table>\n",
       "</div>"
      ],
      "text/plain": [
       "                                       0       1  \\\n",
       "Counter-Strike: Global Offensive  Action     730   \n",
       "Grand Theft Auto V                Action  271590   \n",
       "Tom Clancy's Rainbow Six® Siege   Action  359550   \n",
       "Left 4 Dead 2                     Action     550   \n",
       "Warframe                          Action  230410   \n",
       "\n",
       "                                                                            reviews  \n",
       "Counter-Strike: Global Offensive  [Your team in every random competitive game:\\n...  \n",
       "Grand Theft Auto V                [Trevor Philips Enterprises 🥵, After Ep*c Game...  \n",
       "Tom Clancy's Rainbow Six® Siege   [> Play as French guy with giant shield\\n> Sto...  \n",
       "Left 4 Dead 2                     [h, why did they leave me for dead for thats n...  \n",
       "Warframe                                       [look at my hours, look at my hours]  "
      ]
     },
     "execution_count": 73,
     "metadata": {},
     "output_type": "execute_result"
    }
   ],
   "source": [
    "df.head()"
   ]
  },
  {
   "cell_type": "code",
   "execution_count": 76,
   "id": "704e6d7c-5fff-4c3f-b928-e1127e093541",
   "metadata": {},
   "outputs": [],
   "source": [
    "# # this allows me to pull which row from game dataframe the review is in, provided it is unaltered\n",
    "# tester = df.iloc[0]['reviews'][0]\n",
    "\n",
    "# for i in range(len(df)-1):\n",
    "#     if tester in df.reviews[i]:\n",
    "#         print(df.iloc[i].title)"
   ]
  },
  {
   "cell_type": "code",
   "execution_count": 83,
   "id": "7fa4372b-7d92-4e89-8587-5bec30349afd",
   "metadata": {},
   "outputs": [],
   "source": [
    "## working code\n",
    "finaldf = df.explode('reviews').reset_index()"
   ]
  },
  {
   "cell_type": "code",
   "execution_count": 84,
   "id": "e0f0d00c-15a3-44ac-89d8-711db344226b",
   "metadata": {},
   "outputs": [
    {
     "data": {
      "text/plain": [
       "(7352, 4)"
      ]
     },
     "execution_count": 84,
     "metadata": {},
     "output_type": "execute_result"
    }
   ],
   "source": [
    "finaldf.shape"
   ]
  },
  {
   "cell_type": "code",
   "execution_count": 89,
   "id": "14eb48b5-e470-41c8-b4e6-8a55f9b0789d",
   "metadata": {},
   "outputs": [],
   "source": [
    "finaldf.rename(columns = {'index':'title',\n",
    "                         0:'genre',\n",
    "                         1:'appid'}, inplace = True)"
   ]
  },
  {
   "cell_type": "code",
   "execution_count": 90,
   "id": "99232e30-3da3-4e89-9f01-1a61d7ea5e4c",
   "metadata": {},
   "outputs": [
    {
     "data": {
      "text/html": [
       "<div>\n",
       "<style scoped>\n",
       "    .dataframe tbody tr th:only-of-type {\n",
       "        vertical-align: middle;\n",
       "    }\n",
       "\n",
       "    .dataframe tbody tr th {\n",
       "        vertical-align: top;\n",
       "    }\n",
       "\n",
       "    .dataframe thead th {\n",
       "        text-align: right;\n",
       "    }\n",
       "</style>\n",
       "<table border=\"1\" class=\"dataframe\">\n",
       "  <thead>\n",
       "    <tr style=\"text-align: right;\">\n",
       "      <th></th>\n",
       "      <th>title</th>\n",
       "      <th>genre</th>\n",
       "      <th>appid</th>\n",
       "      <th>reviews</th>\n",
       "    </tr>\n",
       "  </thead>\n",
       "  <tbody>\n",
       "    <tr>\n",
       "      <th>0</th>\n",
       "      <td>Counter-Strike: Global Offensive</td>\n",
       "      <td>Action</td>\n",
       "      <td>730</td>\n",
       "      <td>Your team in every random competitive game:\\n\\...</td>\n",
       "    </tr>\n",
       "  </tbody>\n",
       "</table>\n",
       "</div>"
      ],
      "text/plain": [
       "                              title   genre appid  \\\n",
       "0  Counter-Strike: Global Offensive  Action   730   \n",
       "\n",
       "                                             reviews  \n",
       "0  Your team in every random competitive game:\\n\\...  "
      ]
     },
     "execution_count": 90,
     "metadata": {},
     "output_type": "execute_result"
    }
   ],
   "source": [
    "finaldf.head(1)"
   ]
  },
  {
   "cell_type": "code",
   "execution_count": 93,
   "id": "31e031f8-9983-45c7-8a83-62e7651e71d7",
   "metadata": {},
   "outputs": [],
   "source": [
    "finaldf.to_csv(r'/users/michaelharnett/desktop/metis/projects/steam2_redux/data/finaldf.csv', index = False)"
   ]
  },
  {
   "cell_type": "code",
   "execution_count": 150,
   "id": "bac684fd-b231-4984-8b30-bc3f3ac07c34",
   "metadata": {},
   "outputs": [
    {
     "data": {
      "text/html": [
       "<div>\n",
       "<style scoped>\n",
       "    .dataframe tbody tr th:only-of-type {\n",
       "        vertical-align: middle;\n",
       "    }\n",
       "\n",
       "    .dataframe tbody tr th {\n",
       "        vertical-align: top;\n",
       "    }\n",
       "\n",
       "    .dataframe thead th {\n",
       "        text-align: right;\n",
       "    }\n",
       "</style>\n",
       "<table border=\"1\" class=\"dataframe\">\n",
       "  <thead>\n",
       "    <tr style=\"text-align: right;\">\n",
       "      <th></th>\n",
       "      <th>title</th>\n",
       "      <th>0</th>\n",
       "      <th>1</th>\n",
       "      <th>reviews</th>\n",
       "    </tr>\n",
       "  </thead>\n",
       "  <tbody>\n",
       "    <tr>\n",
       "      <th>0</th>\n",
       "      <td>Counter-Strike: Global Offensive</td>\n",
       "      <td>Action</td>\n",
       "      <td>730</td>\n",
       "      <td>[Your team in every random competitive game:\\n...</td>\n",
       "    </tr>\n",
       "    <tr>\n",
       "      <th>1</th>\n",
       "      <td>Grand Theft Auto V</td>\n",
       "      <td>Action</td>\n",
       "      <td>271590</td>\n",
       "      <td>[Trevor Philips Enterprises 🥵, After Ep*c Game...</td>\n",
       "    </tr>\n",
       "    <tr>\n",
       "      <th>2</th>\n",
       "      <td>Tom Clancy's Rainbow Six® Siege</td>\n",
       "      <td>Action</td>\n",
       "      <td>359550</td>\n",
       "      <td>[&gt; Play as French guy with giant shield\\n&gt; Sto...</td>\n",
       "    </tr>\n",
       "    <tr>\n",
       "      <th>3</th>\n",
       "      <td>Left 4 Dead 2</td>\n",
       "      <td>Action</td>\n",
       "      <td>550</td>\n",
       "      <td>[h, why did they leave me for dead for thats n...</td>\n",
       "    </tr>\n",
       "    <tr>\n",
       "      <th>4</th>\n",
       "      <td>Warframe</td>\n",
       "      <td>Action</td>\n",
       "      <td>230410</td>\n",
       "      <td>[look at my hours, look at my hours]</td>\n",
       "    </tr>\n",
       "  </tbody>\n",
       "</table>\n",
       "</div>"
      ],
      "text/plain": [
       "                              title       0       1  \\\n",
       "0  Counter-Strike: Global Offensive  Action     730   \n",
       "1                Grand Theft Auto V  Action  271590   \n",
       "2   Tom Clancy's Rainbow Six® Siege  Action  359550   \n",
       "3                     Left 4 Dead 2  Action     550   \n",
       "4                          Warframe  Action  230410   \n",
       "\n",
       "                                             reviews  \n",
       "0  [Your team in every random competitive game:\\n...  \n",
       "1  [Trevor Philips Enterprises 🥵, After Ep*c Game...  \n",
       "2  [> Play as French guy with giant shield\\n> Sto...  \n",
       "3  [h, why did they leave me for dead for thats n...  \n",
       "4               [look at my hours, look at my hours]  "
      ]
     },
     "execution_count": 150,
     "metadata": {},
     "output_type": "execute_result"
    }
   ],
   "source": [
    "df.head()"
   ]
  },
  {
   "cell_type": "code",
   "execution_count": 254,
   "id": "958fb781-21c3-468a-b825-79f639f7fdfe",
   "metadata": {},
   "outputs": [
    {
     "data": {
      "text/plain": [
       "40"
      ]
     },
     "execution_count": 254,
     "metadata": {},
     "output_type": "execute_result"
    }
   ],
   "source": [
    "len(df.iloc[0]['reviews'])"
   ]
  },
  {
   "cell_type": "code",
   "execution_count": 156,
   "id": "b3e6dd5f-07e9-47e4-a091-a5756709e2c1",
   "metadata": {},
   "outputs": [],
   "source": [
    "df.to_csv(r'/users/michaelharnett/desktop/metis/projects/steam2_redux/megalist.csv', index=False)"
   ]
  },
  {
   "cell_type": "code",
   "execution_count": null,
   "id": "1dc48518-4bd7-4e87-abb5-b75312c94ee5",
   "metadata": {},
   "outputs": [],
   "source": []
  },
  {
   "cell_type": "code",
   "execution_count": null,
   "id": "e7153b50-2f52-47d8-aeb2-c375d35be925",
   "metadata": {},
   "outputs": [],
   "source": []
  },
  {
   "cell_type": "code",
   "execution_count": null,
   "id": "13bc81ac-8cca-4f38-a3ca-658308b64b4f",
   "metadata": {},
   "outputs": [],
   "source": []
  },
  {
   "cell_type": "code",
   "execution_count": null,
   "id": "86a9dc7b-17ea-4078-abb7-6e1d8ff28ef3",
   "metadata": {},
   "outputs": [],
   "source": []
  },
  {
   "cell_type": "code",
   "execution_count": null,
   "id": "752b3c80-534b-46c1-b34f-38d38aa91d75",
   "metadata": {},
   "outputs": [],
   "source": []
  },
  {
   "cell_type": "code",
   "execution_count": null,
   "id": "52ee5a30-aa2d-4d99-b371-c7afac6518a7",
   "metadata": {},
   "outputs": [],
   "source": []
  },
  {
   "cell_type": "code",
   "execution_count": null,
   "id": "761badea-4ee7-4846-873e-c2690be97b06",
   "metadata": {},
   "outputs": [],
   "source": []
  },
  {
   "cell_type": "markdown",
   "id": "35cc4a81-a8fa-4539-b2b2-fa5db4432560",
   "metadata": {},
   "source": [
    "# Mini appendix. \n",
    "It took an ardous two days to find pd.explode, and to also use the correct syntax. The following is a graveyard of failed attempts"
   ]
  },
  {
   "cell_type": "markdown",
   "id": "46c07c97-095d-4e3b-a26b-cde46cba2e8b",
   "metadata": {},
   "source": [
    "# oh wait, there's zip!\n",
    "should be able to zip each review to the title and genre when creating the list, making a larger data frame wher each review is its own thing"
   ]
  },
  {
   "cell_type": "code",
   "execution_count": 162,
   "id": "82b1101b-4094-4d56-9c18-852e18c5e6fc",
   "metadata": {},
   "outputs": [],
   "source": [
    "df['reviews2']= df.appid"
   ]
  },
  {
   "cell_type": "code",
   "execution_count": 163,
   "id": "11665789-6c3f-4707-a7bc-c7e01d5e4deb",
   "metadata": {},
   "outputs": [
    {
     "data": {
      "text/html": [
       "<div>\n",
       "<style scoped>\n",
       "    .dataframe tbody tr th:only-of-type {\n",
       "        vertical-align: middle;\n",
       "    }\n",
       "\n",
       "    .dataframe tbody tr th {\n",
       "        vertical-align: top;\n",
       "    }\n",
       "\n",
       "    .dataframe thead th {\n",
       "        text-align: right;\n",
       "    }\n",
       "</style>\n",
       "<table border=\"1\" class=\"dataframe\">\n",
       "  <thead>\n",
       "    <tr style=\"text-align: right;\">\n",
       "      <th></th>\n",
       "      <th>title</th>\n",
       "      <th>genre</th>\n",
       "      <th>appid</th>\n",
       "      <th>reviews</th>\n",
       "      <th>reviews2</th>\n",
       "    </tr>\n",
       "  </thead>\n",
       "  <tbody>\n",
       "    <tr>\n",
       "      <th>0</th>\n",
       "      <td>Counter-Strike: Global Offensive</td>\n",
       "      <td>Action</td>\n",
       "      <td>730</td>\n",
       "      <td>[Your team in every random competitive game:\\n...</td>\n",
       "      <td>730</td>\n",
       "    </tr>\n",
       "    <tr>\n",
       "      <th>1</th>\n",
       "      <td>Grand Theft Auto V</td>\n",
       "      <td>Action</td>\n",
       "      <td>271590</td>\n",
       "      <td>[Trevor Philips Enterprises 🥵, After Ep*c Game...</td>\n",
       "      <td>271590</td>\n",
       "    </tr>\n",
       "    <tr>\n",
       "      <th>2</th>\n",
       "      <td>Tom Clancy's Rainbow Six® Siege</td>\n",
       "      <td>Action</td>\n",
       "      <td>359550</td>\n",
       "      <td>[&gt; Play as French guy with giant shield\\n&gt; Sto...</td>\n",
       "      <td>359550</td>\n",
       "    </tr>\n",
       "    <tr>\n",
       "      <th>3</th>\n",
       "      <td>Left 4 Dead 2</td>\n",
       "      <td>Action</td>\n",
       "      <td>550</td>\n",
       "      <td>[h, why did they leave me for dead for thats n...</td>\n",
       "      <td>550</td>\n",
       "    </tr>\n",
       "    <tr>\n",
       "      <th>4</th>\n",
       "      <td>Warframe</td>\n",
       "      <td>Action</td>\n",
       "      <td>230410</td>\n",
       "      <td>[look at my hours, look at my hours]</td>\n",
       "      <td>230410</td>\n",
       "    </tr>\n",
       "  </tbody>\n",
       "</table>\n",
       "</div>"
      ],
      "text/plain": [
       "                              title   genre   appid  \\\n",
       "0  Counter-Strike: Global Offensive  Action     730   \n",
       "1                Grand Theft Auto V  Action  271590   \n",
       "2   Tom Clancy's Rainbow Six® Siege  Action  359550   \n",
       "3                     Left 4 Dead 2  Action     550   \n",
       "4                          Warframe  Action  230410   \n",
       "\n",
       "                                             reviews reviews2  \n",
       "0  [Your team in every random competitive game:\\n...      730  \n",
       "1  [Trevor Philips Enterprises 🥵, After Ep*c Game...   271590  \n",
       "2  [> Play as French guy with giant shield\\n> Sto...   359550  \n",
       "3  [h, why did they leave me for dead for thats n...      550  \n",
       "4               [look at my hours, look at my hours]   230410  "
      ]
     },
     "execution_count": 163,
     "metadata": {},
     "output_type": "execute_result"
    }
   ],
   "source": [
    "df.head()"
   ]
  },
  {
   "cell_type": "code",
   "execution_count": 174,
   "id": "80348c65-8168-405f-b7b4-255e43e2a658",
   "metadata": {},
   "outputs": [],
   "source": [
    "test_dict = {}\n",
    "\n",
    "def get_reviews_new(idnum):\n",
    "    reviews=[]\n",
    "    response = requests.get('http://store.steampowered.com/appreviews/{}?json=1'.format(idnum))\n",
    "    temp=response.json()\n",
    "    cursor = temp['cursor']\n",
    "    for i in range(len(temp['reviews'])):\n",
    "        #games_dict=dict(zip(idnum,(temp['reviews'][i]['review'])))\n",
    "        reviews.append(temp['reviews'][i]['review'])\n",
    "    response = requests.get('http://store.steampowered.com/appreviews/{}?json=1{}'.format(idnum, cursor))\n",
    "    temp = response.json()\n",
    "    for i in range(len(temp['reviews'])):\n",
    "        games_dict=dict(zip(idnum,(temp['reviews'][i]['review'])))             \n",
    "        #reviews.append(temp['reviews'][i]['review'])\n",
    "    return games_dict"
   ]
  },
  {
   "cell_type": "code",
   "execution_count": 180,
   "id": "824fe99c-e238-4cbd-8bb7-7d5926f2e5f1",
   "metadata": {},
   "outputs": [
    {
     "data": {
      "text/plain": [
       "'730'"
      ]
     },
     "execution_count": 180,
     "metadata": {},
     "output_type": "execute_result"
    }
   ],
   "source": [
    "idlist[0]"
   ]
  },
  {
   "cell_type": "code",
   "execution_count": 186,
   "id": "f9900a62-baa7-483e-b1a1-00d0cfdafea2",
   "metadata": {},
   "outputs": [
    {
     "data": {
      "text/plain": [
       "0                         {'7': 'H', '3': 'e', '0': 'l'}\n",
       "1      {'2': 'v', '7': 'e', '1': 'r', '5': 'y', '9': ...\n",
       "2               {'3': 'I', '5': 'e', '9': 'u', '0': 'd'}\n",
       "3                                   {'5': 'r', '0': 'e'}\n",
       "4      {'2': 'l', '3': 'o', '0': 'a', '4': 'k', '1': ...\n",
       "                             ...                        \n",
       "120    {'4': 'E', '2': 'l', '7': 'c', '5': 'e', '0': ...\n",
       "121    {'5': 'v', '9': 'k', '4': 'a', '7': 'e', '0': ...\n",
       "122    {'3': 'e', '9': 'f', '4': 't', '6': 'r', '0': ...\n",
       "123    {'3': 'W', '2': 'h', '4': 'a', '7': 't', '0': ...\n",
       "124    {'6': 'i', '4': 'h', '5': 's', '7': ' ', '0': ...\n",
       "Name: reviews2, Length: 125, dtype: object"
      ]
     },
     "execution_count": 186,
     "metadata": {},
     "output_type": "execute_result"
    }
   ],
   "source": [
    "df.reviews2.apply(get_reviews_new)"
   ]
  },
  {
   "cell_type": "code",
   "execution_count": 187,
   "id": "87dee105-d766-44f6-85db-6d1851217717",
   "metadata": {},
   "outputs": [
    {
     "ename": "NameError",
     "evalue": "name 'games_dict' is not defined",
     "output_type": "error",
     "traceback": [
      "\u001b[0;31m---------------------------------------------------------------------------\u001b[0m",
      "\u001b[0;31mNameError\u001b[0m                                 Traceback (most recent call last)",
      "\u001b[0;32m<ipython-input-187-fc2e3863a6a5>\u001b[0m in \u001b[0;36m<module>\u001b[0;34m\u001b[0m\n\u001b[0;32m----> 1\u001b[0;31m \u001b[0mgames_dict\u001b[0m\u001b[0;34m\u001b[0m\u001b[0;34m\u001b[0m\u001b[0m\n\u001b[0m",
      "\u001b[0;31mNameError\u001b[0m: name 'games_dict' is not defined"
     ]
    }
   ],
   "source": [
    "games_dict"
   ]
  },
  {
   "cell_type": "code",
   "execution_count": 189,
   "id": "24534a75-4167-4c71-831c-b9c89ff137e4",
   "metadata": {},
   "outputs": [
    {
     "data": {
      "text/plain": [
       "{'7': 'H', '3': 'e', '0': 'l'}"
      ]
     },
     "execution_count": 189,
     "metadata": {},
     "output_type": "execute_result"
    }
   ],
   "source": [
    "get_reviews_new(idlist[0])"
   ]
  },
  {
   "cell_type": "code",
   "execution_count": 236,
   "id": "166c0637-904a-4794-a3f7-c9e05a87d186",
   "metadata": {},
   "outputs": [],
   "source": [
    "#get_reviews(idlist[0])"
   ]
  },
  {
   "cell_type": "code",
   "execution_count": 191,
   "id": "d54e8b62-890d-4d52-9eae-90bb414d872c",
   "metadata": {},
   "outputs": [],
   "source": [
    "df2 = pd.DataFrame()"
   ]
  },
  {
   "cell_type": "code",
   "execution_count": 192,
   "id": "06913947-5a77-45a6-b0be-e92021e5e53e",
   "metadata": {},
   "outputs": [
    {
     "data": {
      "text/html": [
       "<div>\n",
       "<style scoped>\n",
       "    .dataframe tbody tr th:only-of-type {\n",
       "        vertical-align: middle;\n",
       "    }\n",
       "\n",
       "    .dataframe tbody tr th {\n",
       "        vertical-align: top;\n",
       "    }\n",
       "\n",
       "    .dataframe thead th {\n",
       "        text-align: right;\n",
       "    }\n",
       "</style>\n",
       "<table border=\"1\" class=\"dataframe\">\n",
       "  <thead>\n",
       "    <tr style=\"text-align: right;\">\n",
       "      <th></th>\n",
       "    </tr>\n",
       "  </thead>\n",
       "  <tbody>\n",
       "  </tbody>\n",
       "</table>\n",
       "</div>"
      ],
      "text/plain": [
       "Empty DataFrame\n",
       "Columns: []\n",
       "Index: []"
      ]
     },
     "execution_count": 192,
     "metadata": {},
     "output_type": "execute_result"
    }
   ],
   "source": [
    "df2"
   ]
  },
  {
   "cell_type": "code",
   "execution_count": 195,
   "id": "fec03e00-9c6c-4711-a169-3861ebfbb326",
   "metadata": {},
   "outputs": [
    {
     "ename": "ValueError",
     "evalue": "column must be a scalar",
     "output_type": "error",
     "traceback": [
      "\u001b[0;31m---------------------------------------------------------------------------\u001b[0m",
      "\u001b[0;31mValueError\u001b[0m                                Traceback (most recent call last)",
      "\u001b[0;32m<ipython-input-195-6727af621863>\u001b[0m in \u001b[0;36m<module>\u001b[0;34m\u001b[0m\n\u001b[0;32m----> 1\u001b[0;31m \u001b[0mdf\u001b[0m\u001b[0;34m.\u001b[0m\u001b[0mexplode\u001b[0m\u001b[0;34m(\u001b[0m\u001b[0mdf\u001b[0m\u001b[0;34m.\u001b[0m\u001b[0mreviews\u001b[0m\u001b[0;34m.\u001b[0m\u001b[0mstr\u001b[0m\u001b[0;34m.\u001b[0m\u001b[0msplit\u001b[0m\u001b[0;34m(\u001b[0m\u001b[0;34m','\u001b[0m\u001b[0;34m)\u001b[0m\u001b[0;34m)\u001b[0m\u001b[0;34m\u001b[0m\u001b[0;34m\u001b[0m\u001b[0m\n\u001b[0m",
      "\u001b[0;32m~/opt/anaconda3/envs/metis/lib/python3.8/site-packages/pandas/core/frame.py\u001b[0m in \u001b[0;36mexplode\u001b[0;34m(self, column, ignore_index)\u001b[0m\n\u001b[1;32m   7276\u001b[0m         \"\"\"\n\u001b[1;32m   7277\u001b[0m         \u001b[0;32mif\u001b[0m \u001b[0;32mnot\u001b[0m \u001b[0;34m(\u001b[0m\u001b[0mis_scalar\u001b[0m\u001b[0;34m(\u001b[0m\u001b[0mcolumn\u001b[0m\u001b[0;34m)\u001b[0m \u001b[0;32mor\u001b[0m \u001b[0misinstance\u001b[0m\u001b[0;34m(\u001b[0m\u001b[0mcolumn\u001b[0m\u001b[0;34m,\u001b[0m \u001b[0mtuple\u001b[0m\u001b[0;34m)\u001b[0m\u001b[0;34m)\u001b[0m\u001b[0;34m:\u001b[0m\u001b[0;34m\u001b[0m\u001b[0;34m\u001b[0m\u001b[0m\n\u001b[0;32m-> 7278\u001b[0;31m             \u001b[0;32mraise\u001b[0m \u001b[0mValueError\u001b[0m\u001b[0;34m(\u001b[0m\u001b[0;34m\"column must be a scalar\"\u001b[0m\u001b[0;34m)\u001b[0m\u001b[0;34m\u001b[0m\u001b[0;34m\u001b[0m\u001b[0m\n\u001b[0m\u001b[1;32m   7279\u001b[0m         \u001b[0;32mif\u001b[0m \u001b[0;32mnot\u001b[0m \u001b[0mself\u001b[0m\u001b[0;34m.\u001b[0m\u001b[0mcolumns\u001b[0m\u001b[0;34m.\u001b[0m\u001b[0mis_unique\u001b[0m\u001b[0;34m:\u001b[0m\u001b[0;34m\u001b[0m\u001b[0;34m\u001b[0m\u001b[0m\n\u001b[1;32m   7280\u001b[0m             \u001b[0;32mraise\u001b[0m \u001b[0mValueError\u001b[0m\u001b[0;34m(\u001b[0m\u001b[0;34m\"columns must be unique\"\u001b[0m\u001b[0;34m)\u001b[0m\u001b[0;34m\u001b[0m\u001b[0;34m\u001b[0m\u001b[0m\n",
      "\u001b[0;31mValueError\u001b[0m: column must be a scalar"
     ]
    }
   ],
   "source": [
    "df.explode(df.reviews.str.split(','))"
   ]
  },
  {
   "cell_type": "code",
   "execution_count": 211,
   "id": "6412eebe-d889-4c8c-9ae1-b4f395085d6b",
   "metadata": {},
   "outputs": [
    {
     "data": {
      "text/plain": [
       "0      Your team in every random competitive game:\\n\\...\n",
       "0                                Pay $15 to unlock level\n",
       "0                 counter-fart: globally offensive scent\n",
       "0      This game saved my life.\\n\\nI am 27.\\n\\nMy ex-...\n",
       "0      Absolutely garbage servers and net-code for pu...\n",
       "                             ...                        \n",
       "124                                Damnn this game 10/10\n",
       "124    10/10 a very fun gameplay, so many different b...\n",
       "124    Easily the best and most diverse card builder ...\n",
       "124    A phenomenal card game. Probably the best roug...\n",
       "124    This game is an easy way to blow through an en...\n",
       "Name: reviews, Length: 4120, dtype: object"
      ]
     },
     "execution_count": 211,
     "metadata": {},
     "output_type": "execute_result"
    }
   ],
   "source": [
    "df.reviews.explode()"
   ]
  },
  {
   "cell_type": "code",
   "execution_count": 258,
   "id": "f47c87d0-5531-44af-8378-b9159e4d9217",
   "metadata": {},
   "outputs": [],
   "source": [
    "## working code\n",
    "explodeddf = df.explode('reviews')"
   ]
  },
  {
   "cell_type": "code",
   "execution_count": 259,
   "id": "87953204-cdba-4340-90f8-3a74811dbe56",
   "metadata": {},
   "outputs": [],
   "source": [
    "explodeddf.to_csv(r'/users/michaelharnett/desktop/metis/projects/steam2_redux/data/explodedf.csv')"
   ]
  },
  {
   "cell_type": "code",
   "execution_count": 222,
   "id": "f179a872-c95e-4e00-8862-5908f83d9c9c",
   "metadata": {},
   "outputs": [
    {
     "data": {
      "text/plain": [
       "4120"
      ]
     },
     "execution_count": 222,
     "metadata": {},
     "output_type": "execute_result"
    }
   ],
   "source": [
    "len(megalist2)"
   ]
  },
  {
   "cell_type": "code",
   "execution_count": 260,
   "id": "3a55cec2-9bab-4a93-a281-fbf6e461ab84",
   "metadata": {},
   "outputs": [
    {
     "data": {
      "text/plain": [
       "'Your team in every random competitive game:\\n\\n- You\\n- Russian Guy\\n- Another Russian Guy\\n- A 6 year old kid who slept with your mother\\n- Russian Guy who speaks English\\n\\n10/10'"
      ]
     },
     "execution_count": 260,
     "metadata": {},
     "output_type": "execute_result"
    }
   ],
   "source": [
    "df.iloc[0]['reviews'][0]"
   ]
  },
  {
   "cell_type": "code",
   "execution_count": 224,
   "id": "663f453f-7f10-4945-8027-7fb7790f2389",
   "metadata": {},
   "outputs": [],
   "source": [
    "megalist3 = []\n",
    "\n",
    "for rows in df.reviews:\n",
    "    for items in rows:\n",
    "        megalist3.append(items)"
   ]
  },
  {
   "cell_type": "code",
   "execution_count": 225,
   "id": "1c53c16d-cd10-47ec-8272-338c5eb3d82c",
   "metadata": {},
   "outputs": [
    {
     "data": {
      "text/plain": [
       "4120"
      ]
     },
     "execution_count": 225,
     "metadata": {},
     "output_type": "execute_result"
    }
   ],
   "source": [
    "len(megalist3)"
   ]
  },
  {
   "cell_type": "code",
   "execution_count": null,
   "id": "598c6cb5-d4cc-4f7c-8a08-46f11e46e400",
   "metadata": {},
   "outputs": [],
   "source": []
  },
  {
   "cell_type": "code",
   "execution_count": 227,
   "id": "20866679-4166-4bb2-9c9a-e60487faac9c",
   "metadata": {},
   "outputs": [
    {
     "data": {
      "text/plain": [
       "'Your team in every random competitive game:\\n\\n- You\\n- Russian Guy\\n- Another Russian Guy\\n- A 6 year old kid who slept with your mother\\n- Russian Guy who speaks English\\n\\n10/10'"
      ]
     },
     "execution_count": 227,
     "metadata": {},
     "output_type": "execute_result"
    }
   ],
   "source": [
    "df.iloc[0]['reviews'][0]"
   ]
  },
  {
   "cell_type": "code",
   "execution_count": null,
   "id": "fe5dffaf-522e-4de0-ae37-8c2ad655d2a9",
   "metadata": {},
   "outputs": [],
   "source": []
  }
 ],
 "metadata": {
  "kernelspec": {
   "display_name": "Python [conda env:metis] *",
   "language": "python",
   "name": "conda-env-metis-py"
  },
  "language_info": {
   "codemirror_mode": {
    "name": "ipython",
    "version": 3
   },
   "file_extension": ".py",
   "mimetype": "text/x-python",
   "name": "python",
   "nbconvert_exporter": "python",
   "pygments_lexer": "ipython3",
   "version": "3.8.10"
  }
 },
 "nbformat": 4,
 "nbformat_minor": 5
}
