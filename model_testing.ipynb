{
 "cells": [
  {
   "cell_type": "code",
   "execution_count": 1,
   "id": "33c62b7a-589f-4fc3-8a5e-97b82a29a153",
   "metadata": {},
   "outputs": [],
   "source": [
    "#imports\n",
    "\n",
    "import numpy as np\n",
    "import pandas as pd\n",
    "from sklearn.feature_extraction.text import CountVectorizer, TfidfVectorizer\n",
    "from sklearn.decomposition import TruncatedSVD\n",
    "from sklearn.decomposition import NMF\n",
    "from sklearn.metrics.pairwise import cosine_similarity\n",
    "from sklearn.metrics import pairwise_distances"
   ]
  },
  {
   "cell_type": "markdown",
   "id": "4a919149-cf2d-4cf6-8539-416feb37253c",
   "metadata": {},
   "source": [
    "# This notebook will be used for testing different NLP methods, and hyperperameter tuning"
   ]
  },
  {
   "cell_type": "code",
   "execution_count": 2,
   "id": "406cdb50-f0c8-40fd-8cfe-b0cae8ddd01f",
   "metadata": {},
   "outputs": [],
   "source": [
    "df = pd.read_csv('data/finaldf.csv')"
   ]
  },
  {
   "cell_type": "code",
   "execution_count": 10,
   "id": "68d7c6e0-6ee4-4a99-ad64-46734af1ac51",
   "metadata": {},
   "outputs": [
    {
     "data": {
      "text/html": [
       "<div>\n",
       "<style scoped>\n",
       "    .dataframe tbody tr th:only-of-type {\n",
       "        vertical-align: middle;\n",
       "    }\n",
       "\n",
       "    .dataframe tbody tr th {\n",
       "        vertical-align: top;\n",
       "    }\n",
       "\n",
       "    .dataframe thead th {\n",
       "        text-align: right;\n",
       "    }\n",
       "</style>\n",
       "<table border=\"1\" class=\"dataframe\">\n",
       "  <thead>\n",
       "    <tr style=\"text-align: right;\">\n",
       "      <th></th>\n",
       "      <th>title</th>\n",
       "      <th>genre</th>\n",
       "      <th>appid</th>\n",
       "      <th>reviews</th>\n",
       "    </tr>\n",
       "  </thead>\n",
       "  <tbody>\n",
       "    <tr>\n",
       "      <th>0</th>\n",
       "      <td>Counter-Strike: Global Offensive</td>\n",
       "      <td>Action</td>\n",
       "      <td>730</td>\n",
       "      <td>Your team in every random competitive game:\\n\\...</td>\n",
       "    </tr>\n",
       "    <tr>\n",
       "      <th>1</th>\n",
       "      <td>Counter-Strike: Global Offensive</td>\n",
       "      <td>Action</td>\n",
       "      <td>730</td>\n",
       "      <td>Pay $15 to unlock level</td>\n",
       "    </tr>\n",
       "    <tr>\n",
       "      <th>2</th>\n",
       "      <td>Counter-Strike: Global Offensive</td>\n",
       "      <td>Action</td>\n",
       "      <td>730</td>\n",
       "      <td>counter-fart: globally offensive scent</td>\n",
       "    </tr>\n",
       "    <tr>\n",
       "      <th>3</th>\n",
       "      <td>Counter-Strike: Global Offensive</td>\n",
       "      <td>Action</td>\n",
       "      <td>730</td>\n",
       "      <td>This game saved my life.\\n\\nI am 27.\\n\\nMy ex-...</td>\n",
       "    </tr>\n",
       "    <tr>\n",
       "      <th>4</th>\n",
       "      <td>Counter-Strike: Global Offensive</td>\n",
       "      <td>Action</td>\n",
       "      <td>730</td>\n",
       "      <td>Absolutely garbage servers and net-code for pu...</td>\n",
       "    </tr>\n",
       "  </tbody>\n",
       "</table>\n",
       "</div>"
      ],
      "text/plain": [
       "                              title   genre  appid  \\\n",
       "0  Counter-Strike: Global Offensive  Action    730   \n",
       "1  Counter-Strike: Global Offensive  Action    730   \n",
       "2  Counter-Strike: Global Offensive  Action    730   \n",
       "3  Counter-Strike: Global Offensive  Action    730   \n",
       "4  Counter-Strike: Global Offensive  Action    730   \n",
       "\n",
       "                                             reviews  \n",
       "0  Your team in every random competitive game:\\n\\...  \n",
       "1                            Pay $15 to unlock level  \n",
       "2             counter-fart: globally offensive scent  \n",
       "3  This game saved my life.\\n\\nI am 27.\\n\\nMy ex-...  \n",
       "4  Absolutely garbage servers and net-code for pu...  "
      ]
     },
     "execution_count": 10,
     "metadata": {},
     "output_type": "execute_result"
    }
   ],
   "source": [
    "#dropping nulls\n",
    "df = df.dropna()\n",
    "df.head()"
   ]
  },
  {
   "cell_type": "code",
   "execution_count": 11,
   "id": "f9094fdb-aded-4be7-9521-9409ffc530b7",
   "metadata": {},
   "outputs": [
    {
     "name": "stdout",
     "output_type": "stream",
     "text": [
      "<class 'pandas.core.frame.DataFrame'>\n",
      "Int64Index: 7341 entries, 0 to 7351\n",
      "Data columns (total 4 columns):\n",
      " #   Column   Non-Null Count  Dtype \n",
      "---  ------   --------------  ----- \n",
      " 0   title    7341 non-null   object\n",
      " 1   genre    7341 non-null   object\n",
      " 2   appid    7341 non-null   int64 \n",
      " 3   reviews  7341 non-null   object\n",
      "dtypes: int64(1), object(3)\n",
      "memory usage: 286.8+ KB\n"
     ]
    }
   ],
   "source": [
    "df.info()"
   ]
  },
  {
   "cell_type": "code",
   "execution_count": 12,
   "id": "f74742f2-c4c6-4270-ae7c-680fbc888d75",
   "metadata": {},
   "outputs": [],
   "source": [
    "#creating reviews list\n",
    "\n",
    "reviews_list = []\n",
    "for items in list(df.reviews):\n",
    "    reviews_list.append(items)"
   ]
  },
  {
   "cell_type": "code",
   "execution_count": 13,
   "id": "38ccb063-73d7-45c4-b047-be5dfaa2fb63",
   "metadata": {},
   "outputs": [
    {
     "data": {
      "text/plain": [
       "7341"
      ]
     },
     "execution_count": 13,
     "metadata": {},
     "output_type": "execute_result"
    }
   ],
   "source": [
    "len(reviews_list)"
   ]
  },
  {
   "cell_type": "code",
   "execution_count": 7,
   "id": "409c156d-e875-4294-8dba-9d0ba1952153",
   "metadata": {},
   "outputs": [
    {
     "data": {
      "text/plain": [
       "'Your team in every random competitive game:\\n\\n- You\\n- Russian Guy\\n- Another Russian Guy\\n- A 6 year old kid who slept with your mother\\n- Russian Guy who speaks English\\n\\n10/10'"
      ]
     },
     "execution_count": 7,
     "metadata": {},
     "output_type": "execute_result"
    }
   ],
   "source": [
    "reviews_list[0]"
   ]
  },
  {
   "cell_type": "code",
   "execution_count": 14,
   "id": "24e99baa-87d2-460d-a23d-bfecee569230",
   "metadata": {},
   "outputs": [],
   "source": [
    "# initializing all vectorizers and models\n",
    "\n",
    "cv = CountVectorizer(stop_words='english', token_pattern='[a-zA-Z]+', min_df = 3)\n",
    "tfv = TfidfVectorizer(stop_words='english', token_pattern='[a-zA-Z]+', min_df = 3)\n",
    "\n",
    "lsa_model = TruncatedSVD(5)\n",
    "nmf_model = NMF(5)\n",
    "\n",
    "cv_doc_word = cv.fit_transform(reviews_list)\n",
    "tfv_doc_word = tfv.fit_transform(reviews_list)"
   ]
  },
  {
   "cell_type": "code",
   "execution_count": null,
   "id": "7ceb0421-4028-4a1f-afd7-c163e4e2ebb5",
   "metadata": {},
   "outputs": [],
   "source": []
  },
  {
   "cell_type": "code",
   "execution_count": null,
   "id": "9f7296d8-c66e-4a48-8a6a-042cfb492fe6",
   "metadata": {},
   "outputs": [],
   "source": []
  }
 ],
 "metadata": {
  "kernelspec": {
   "display_name": "Python [conda env:metis] *",
   "language": "python",
   "name": "conda-env-metis-py"
  },
  "language_info": {
   "codemirror_mode": {
    "name": "ipython",
    "version": 3
   },
   "file_extension": ".py",
   "mimetype": "text/x-python",
   "name": "python",
   "nbconvert_exporter": "python",
   "pygments_lexer": "ipython3",
   "version": "3.8.10"
  }
 },
 "nbformat": 4,
 "nbformat_minor": 5
}
