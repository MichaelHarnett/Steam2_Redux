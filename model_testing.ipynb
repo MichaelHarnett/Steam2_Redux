{
 "cells": [
  {
   "cell_type": "code",
   "execution_count": 2,
   "id": "33c62b7a-589f-4fc3-8a5e-97b82a29a153",
   "metadata": {},
   "outputs": [],
   "source": [
    "import numpy as np\n",
    "import pandas as pd\n",
    "from sklearn.feature_extraction.text import CountVectorizer, TfidfVectorizer\n",
    "from sklearn.decomposition import TruncatedSVD\n",
    "from sklearn.decomposition import NMF\n",
    "from sklearn.metrics.pairwise import cosine_similarity\n",
    "from sklearn.metrics import pairwise_distances"
   ]
  },
  {
   "cell_type": "code",
   "execution_count": 30,
   "id": "406cdb50-f0c8-40fd-8cfe-b0cae8ddd01f",
   "metadata": {},
   "outputs": [],
   "source": [
    "df = pd.read_csv('data/megalist.csv')"
   ]
  },
  {
   "cell_type": "code",
   "execution_count": 31,
   "id": "68d7c6e0-6ee4-4a99-ad64-46734af1ac51",
   "metadata": {},
   "outputs": [
    {
     "data": {
      "text/html": [
       "<div>\n",
       "<style scoped>\n",
       "    .dataframe tbody tr th:only-of-type {\n",
       "        vertical-align: middle;\n",
       "    }\n",
       "\n",
       "    .dataframe tbody tr th {\n",
       "        vertical-align: top;\n",
       "    }\n",
       "\n",
       "    .dataframe thead th {\n",
       "        text-align: right;\n",
       "    }\n",
       "</style>\n",
       "<table border=\"1\" class=\"dataframe\">\n",
       "  <thead>\n",
       "    <tr style=\"text-align: right;\">\n",
       "      <th></th>\n",
       "      <th>title</th>\n",
       "      <th>0</th>\n",
       "      <th>1</th>\n",
       "      <th>reviews</th>\n",
       "    </tr>\n",
       "  </thead>\n",
       "  <tbody>\n",
       "    <tr>\n",
       "      <th>0</th>\n",
       "      <td>Counter-Strike: Global Offensive</td>\n",
       "      <td>Action</td>\n",
       "      <td>730</td>\n",
       "      <td>['Your team in every random competitive game:\\...</td>\n",
       "    </tr>\n",
       "    <tr>\n",
       "      <th>1</th>\n",
       "      <td>Grand Theft Auto V</td>\n",
       "      <td>Action</td>\n",
       "      <td>271590</td>\n",
       "      <td>['Trevor Philips Enterprises 🥵', 'After Ep*c G...</td>\n",
       "    </tr>\n",
       "    <tr>\n",
       "      <th>2</th>\n",
       "      <td>Tom Clancy's Rainbow Six® Siege</td>\n",
       "      <td>Action</td>\n",
       "      <td>359550</td>\n",
       "      <td>['&gt; Play as French guy with giant shield\\n&gt; St...</td>\n",
       "    </tr>\n",
       "    <tr>\n",
       "      <th>3</th>\n",
       "      <td>Left 4 Dead 2</td>\n",
       "      <td>Action</td>\n",
       "      <td>550</td>\n",
       "      <td>['h', 'why did they leave me for dead for that...</td>\n",
       "    </tr>\n",
       "    <tr>\n",
       "      <th>4</th>\n",
       "      <td>Warframe</td>\n",
       "      <td>Action</td>\n",
       "      <td>230410</td>\n",
       "      <td>['look at my hours', 'look at my hours']</td>\n",
       "    </tr>\n",
       "  </tbody>\n",
       "</table>\n",
       "</div>"
      ],
      "text/plain": [
       "                              title       0       1  \\\n",
       "0  Counter-Strike: Global Offensive  Action     730   \n",
       "1                Grand Theft Auto V  Action  271590   \n",
       "2   Tom Clancy's Rainbow Six® Siege  Action  359550   \n",
       "3                     Left 4 Dead 2  Action     550   \n",
       "4                          Warframe  Action  230410   \n",
       "\n",
       "                                             reviews  \n",
       "0  ['Your team in every random competitive game:\\...  \n",
       "1  ['Trevor Philips Enterprises 🥵', 'After Ep*c G...  \n",
       "2  ['> Play as French guy with giant shield\\n> St...  \n",
       "3  ['h', 'why did they leave me for dead for that...  \n",
       "4           ['look at my hours', 'look at my hours']  "
      ]
     },
     "execution_count": 31,
     "metadata": {},
     "output_type": "execute_result"
    }
   ],
   "source": [
    "df.head()"
   ]
  },
  {
   "cell_type": "code",
   "execution_count": 32,
   "id": "caf55d1e-6ed0-4eac-bba4-d4e57ce1f2b9",
   "metadata": {},
   "outputs": [],
   "source": [
    "megalist=[]\n",
    "\n",
    "for rows in df.reviews:\n",
    "    for items in rows:\n",
    "        megalist.append(items)"
   ]
  },
  {
   "cell_type": "code",
   "execution_count": 33,
   "id": "631bc126-e870-41c4-9930-42af6b429a75",
   "metadata": {},
   "outputs": [
    {
     "data": {
      "text/plain": [
       "1720190"
      ]
     },
     "execution_count": 33,
     "metadata": {},
     "output_type": "execute_result"
    }
   ],
   "source": [
    "len(megalist)"
   ]
  },
  {
   "cell_type": "code",
   "execution_count": 16,
   "id": "e24e6383-2f6a-45d6-901a-9bfbca0d11ee",
   "metadata": {},
   "outputs": [
    {
     "data": {
      "text/html": [
       "<div>\n",
       "<style scoped>\n",
       "    .dataframe tbody tr th:only-of-type {\n",
       "        vertical-align: middle;\n",
       "    }\n",
       "\n",
       "    .dataframe tbody tr th {\n",
       "        vertical-align: top;\n",
       "    }\n",
       "\n",
       "    .dataframe thead th {\n",
       "        text-align: right;\n",
       "    }\n",
       "</style>\n",
       "<table border=\"1\" class=\"dataframe\">\n",
       "  <thead>\n",
       "    <tr style=\"text-align: right;\">\n",
       "      <th></th>\n",
       "      <th>title</th>\n",
       "      <th>0</th>\n",
       "      <th>1</th>\n",
       "      <th>reviews</th>\n",
       "    </tr>\n",
       "  </thead>\n",
       "  <tbody>\n",
       "    <tr>\n",
       "      <th>0</th>\n",
       "      <td>Counter-Strike: Global Offensive</td>\n",
       "      <td>Action</td>\n",
       "      <td>730</td>\n",
       "      <td>['Your team in every random competitive game:\\...</td>\n",
       "    </tr>\n",
       "    <tr>\n",
       "      <th>1</th>\n",
       "      <td>Grand Theft Auto V</td>\n",
       "      <td>Action</td>\n",
       "      <td>271590</td>\n",
       "      <td>['Trevor Philips Enterprises 🥵', 'After Ep*c G...</td>\n",
       "    </tr>\n",
       "    <tr>\n",
       "      <th>2</th>\n",
       "      <td>Tom Clancy's Rainbow Six® Siege</td>\n",
       "      <td>Action</td>\n",
       "      <td>359550</td>\n",
       "      <td>['&gt; Play as French guy with giant shield\\n&gt; St...</td>\n",
       "    </tr>\n",
       "    <tr>\n",
       "      <th>3</th>\n",
       "      <td>Left 4 Dead 2</td>\n",
       "      <td>Action</td>\n",
       "      <td>550</td>\n",
       "      <td>['h', 'why did they leave me for dead for that...</td>\n",
       "    </tr>\n",
       "    <tr>\n",
       "      <th>4</th>\n",
       "      <td>Warframe</td>\n",
       "      <td>Action</td>\n",
       "      <td>230410</td>\n",
       "      <td>['look at my hours', 'look at my hours']</td>\n",
       "    </tr>\n",
       "    <tr>\n",
       "      <th>...</th>\n",
       "      <td>...</td>\n",
       "      <td>...</td>\n",
       "      <td>...</td>\n",
       "      <td>...</td>\n",
       "    </tr>\n",
       "    <tr>\n",
       "      <th>120</th>\n",
       "      <td>Factorio</td>\n",
       "      <td>Strategy</td>\n",
       "      <td>427520</td>\n",
       "      <td>['Dev pisses off Reddit. Worth every cent for ...</td>\n",
       "    </tr>\n",
       "    <tr>\n",
       "      <th>121</th>\n",
       "      <td>Total War: WARHAMMER II</td>\n",
       "      <td>Strategy</td>\n",
       "      <td>594570</td>\n",
       "      <td>[\"In Sigmar's name YES!\", 'A little bit of a l...</td>\n",
       "    </tr>\n",
       "    <tr>\n",
       "      <th>122</th>\n",
       "      <td>Hearts of Iron IV</td>\n",
       "      <td>Strategy</td>\n",
       "      <td>394360</td>\n",
       "      <td>['virginity is awesome 😎😎😎😎😎', 'nobody will ev...</td>\n",
       "    </tr>\n",
       "    <tr>\n",
       "      <th>123</th>\n",
       "      <td>STAR WARS™ Empire at War - Gold Pack</td>\n",
       "      <td>Strategy</td>\n",
       "      <td>32470</td>\n",
       "      <td>[\"Amazing game. The graphics are potato but th...</td>\n",
       "    </tr>\n",
       "    <tr>\n",
       "      <th>124</th>\n",
       "      <td>Slay the Spire</td>\n",
       "      <td>Strategy</td>\n",
       "      <td>646570</td>\n",
       "      <td>['If you ever told me that i would enjoy a tur...</td>\n",
       "    </tr>\n",
       "  </tbody>\n",
       "</table>\n",
       "<p>125 rows × 4 columns</p>\n",
       "</div>"
      ],
      "text/plain": [
       "                                    title         0       1  \\\n",
       "0        Counter-Strike: Global Offensive    Action     730   \n",
       "1                      Grand Theft Auto V    Action  271590   \n",
       "2         Tom Clancy's Rainbow Six® Siege    Action  359550   \n",
       "3                           Left 4 Dead 2    Action     550   \n",
       "4                                Warframe    Action  230410   \n",
       "..                                    ...       ...     ...   \n",
       "120                              Factorio  Strategy  427520   \n",
       "121               Total War: WARHAMMER II  Strategy  594570   \n",
       "122                     Hearts of Iron IV  Strategy  394360   \n",
       "123  STAR WARS™ Empire at War - Gold Pack  Strategy   32470   \n",
       "124                        Slay the Spire  Strategy  646570   \n",
       "\n",
       "                                               reviews  \n",
       "0    ['Your team in every random competitive game:\\...  \n",
       "1    ['Trevor Philips Enterprises 🥵', 'After Ep*c G...  \n",
       "2    ['> Play as French guy with giant shield\\n> St...  \n",
       "3    ['h', 'why did they leave me for dead for that...  \n",
       "4             ['look at my hours', 'look at my hours']  \n",
       "..                                                 ...  \n",
       "120  ['Dev pisses off Reddit. Worth every cent for ...  \n",
       "121  [\"In Sigmar's name YES!\", 'A little bit of a l...  \n",
       "122  ['virginity is awesome 😎😎😎😎😎', 'nobody will ev...  \n",
       "123  [\"Amazing game. The graphics are potato but th...  \n",
       "124  ['If you ever told me that i would enjoy a tur...  \n",
       "\n",
       "[125 rows x 4 columns]"
      ]
     },
     "execution_count": 16,
     "metadata": {},
     "output_type": "execute_result"
    }
   ],
   "source": [
    "df"
   ]
  },
  {
   "cell_type": "code",
   "execution_count": 25,
   "id": "c4bebb94-9f9e-45c2-957d-3e46f1c99045",
   "metadata": {},
   "outputs": [
    {
     "data": {
      "text/plain": [
       "\"'\""
      ]
     },
     "execution_count": 25,
     "metadata": {},
     "output_type": "execute_result"
    }
   ],
   "source": [
    "df.iloc[0]['reviews'][1]"
   ]
  },
  {
   "cell_type": "code",
   "execution_count": null,
   "id": "f74742f2-c4c6-4270-ae7c-680fbc888d75",
   "metadata": {},
   "outputs": [],
   "source": []
  }
 ],
 "metadata": {
  "kernelspec": {
   "display_name": "Python [conda env:metis] *",
   "language": "python",
   "name": "conda-env-metis-py"
  },
  "language_info": {
   "codemirror_mode": {
    "name": "ipython",
    "version": 3
   },
   "file_extension": ".py",
   "mimetype": "text/x-python",
   "name": "python",
   "nbconvert_exporter": "python",
   "pygments_lexer": "ipython3",
   "version": "3.8.10"
  }
 },
 "nbformat": 4,
 "nbformat_minor": 5
}
