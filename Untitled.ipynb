{
 "cells": [
  {
   "cell_type": "code",
   "execution_count": 1,
   "id": "4903012b-b40d-45a5-85c4-e7f375bf41ec",
   "metadata": {},
   "outputs": [
    {
     "name": "stdout",
     "output_type": "stream",
     "text": [
      "Collecting dabl\n",
      "  Downloading dabl-0.2.0-py3-none-any.whl (558 kB)\n",
      "\u001b[K     |████████████████████████████████| 558 kB 5.2 MB/s eta 0:00:01\n",
      "\u001b[?25hRequirement already satisfied: seaborn in /Users/michaelharnett/opt/anaconda3/envs/metis/lib/python3.8/site-packages (from dabl) (0.11.1)\n",
      "Requirement already satisfied: matplotlib in /Users/michaelharnett/opt/anaconda3/envs/metis/lib/python3.8/site-packages (from dabl) (3.4.2)\n",
      "Requirement already satisfied: scipy in /Users/michaelharnett/opt/anaconda3/envs/metis/lib/python3.8/site-packages (from dabl) (1.6.3)\n",
      "Requirement already satisfied: pandas in /Users/michaelharnett/opt/anaconda3/envs/metis/lib/python3.8/site-packages (from dabl) (1.2.4)\n",
      "Requirement already satisfied: numpy in /Users/michaelharnett/opt/anaconda3/envs/metis/lib/python3.8/site-packages (from dabl) (1.19.5)\n",
      "Requirement already satisfied: scikit-learn>=0.24.0 in /Users/michaelharnett/opt/anaconda3/envs/metis/lib/python3.8/site-packages (from dabl) (0.24.2)\n",
      "Requirement already satisfied: threadpoolctl>=2.0.0 in /Users/michaelharnett/opt/anaconda3/envs/metis/lib/python3.8/site-packages (from scikit-learn>=0.24.0->dabl) (2.1.0)\n",
      "Requirement already satisfied: joblib>=0.11 in /Users/michaelharnett/opt/anaconda3/envs/metis/lib/python3.8/site-packages (from scikit-learn>=0.24.0->dabl) (1.0.1)\n",
      "Requirement already satisfied: cycler>=0.10 in /Users/michaelharnett/opt/anaconda3/envs/metis/lib/python3.8/site-packages (from matplotlib->dabl) (0.10.0)\n",
      "Requirement already satisfied: pillow>=6.2.0 in /Users/michaelharnett/opt/anaconda3/envs/metis/lib/python3.8/site-packages (from matplotlib->dabl) (8.2.0)\n",
      "Requirement already satisfied: pyparsing>=2.2.1 in /Users/michaelharnett/opt/anaconda3/envs/metis/lib/python3.8/site-packages (from matplotlib->dabl) (2.4.7)\n",
      "Requirement already satisfied: kiwisolver>=1.0.1 in /Users/michaelharnett/opt/anaconda3/envs/metis/lib/python3.8/site-packages (from matplotlib->dabl) (1.3.1)\n",
      "Requirement already satisfied: python-dateutil>=2.7 in /Users/michaelharnett/opt/anaconda3/envs/metis/lib/python3.8/site-packages (from matplotlib->dabl) (2.8.1)\n",
      "Requirement already satisfied: six in /Users/michaelharnett/opt/anaconda3/envs/metis/lib/python3.8/site-packages (from cycler>=0.10->matplotlib->dabl) (1.15.0)\n",
      "Requirement already satisfied: pytz>=2017.3 in /Users/michaelharnett/opt/anaconda3/envs/metis/lib/python3.8/site-packages (from pandas->dabl) (2021.1)\n",
      "Installing collected packages: dabl\n",
      "Successfully installed dabl-0.2.0\n",
      "Note: you may need to restart the kernel to use updated packages.\n"
     ]
    }
   ],
   "source": [
    "pip install dabl"
   ]
  },
  {
   "cell_type": "code",
   "execution_count": 2,
   "id": "5bb12181-e5ec-463a-b7cc-8fed407ea1a3",
   "metadata": {},
   "outputs": [
    {
     "name": "stdout",
     "output_type": "stream",
     "text": [
      "Collecting sweetviz\n",
      "  Downloading sweetviz-2.1.2-py3-none-any.whl (15.1 MB)\n",
      "\u001b[K     |████████████████████████████████| 15.1 MB 5.1 MB/s eta 0:00:01\n",
      "\u001b[?25hRequirement already satisfied: pandas!=1.0.0,!=1.0.1,!=1.0.2,>=0.25.3 in /Users/michaelharnett/opt/anaconda3/envs/metis/lib/python3.8/site-packages (from sweetviz) (1.2.4)\n",
      "Requirement already satisfied: numpy>=1.16.0 in /Users/michaelharnett/opt/anaconda3/envs/metis/lib/python3.8/site-packages (from sweetviz) (1.19.5)\n",
      "Requirement already satisfied: matplotlib>=3.1.3 in /Users/michaelharnett/opt/anaconda3/envs/metis/lib/python3.8/site-packages (from sweetviz) (3.4.2)\n",
      "Requirement already satisfied: tqdm>=4.43.0 in /Users/michaelharnett/opt/anaconda3/envs/metis/lib/python3.8/site-packages (from sweetviz) (4.61.0)\n",
      "Requirement already satisfied: scipy>=1.3.2 in /Users/michaelharnett/opt/anaconda3/envs/metis/lib/python3.8/site-packages (from sweetviz) (1.6.3)\n",
      "Collecting importlib-resources>=1.2.0\n",
      "  Downloading importlib_resources-5.1.4-py3-none-any.whl (26 kB)\n",
      "Requirement already satisfied: jinja2>=2.11.1 in /Users/michaelharnett/opt/anaconda3/envs/metis/lib/python3.8/site-packages (from sweetviz) (3.0.1)\n",
      "Requirement already satisfied: zipp>=3.1.0 in /Users/michaelharnett/opt/anaconda3/envs/metis/lib/python3.8/site-packages (from importlib-resources>=1.2.0->sweetviz) (3.4.1)\n",
      "Requirement already satisfied: MarkupSafe>=2.0 in /Users/michaelharnett/opt/anaconda3/envs/metis/lib/python3.8/site-packages (from jinja2>=2.11.1->sweetviz) (2.0.1)\n",
      "Requirement already satisfied: kiwisolver>=1.0.1 in /Users/michaelharnett/opt/anaconda3/envs/metis/lib/python3.8/site-packages (from matplotlib>=3.1.3->sweetviz) (1.3.1)\n",
      "Requirement already satisfied: python-dateutil>=2.7 in /Users/michaelharnett/opt/anaconda3/envs/metis/lib/python3.8/site-packages (from matplotlib>=3.1.3->sweetviz) (2.8.1)\n",
      "Requirement already satisfied: pillow>=6.2.0 in /Users/michaelharnett/opt/anaconda3/envs/metis/lib/python3.8/site-packages (from matplotlib>=3.1.3->sweetviz) (8.2.0)\n",
      "Requirement already satisfied: cycler>=0.10 in /Users/michaelharnett/opt/anaconda3/envs/metis/lib/python3.8/site-packages (from matplotlib>=3.1.3->sweetviz) (0.10.0)\n",
      "Requirement already satisfied: pyparsing>=2.2.1 in /Users/michaelharnett/opt/anaconda3/envs/metis/lib/python3.8/site-packages (from matplotlib>=3.1.3->sweetviz) (2.4.7)\n",
      "Requirement already satisfied: six in /Users/michaelharnett/opt/anaconda3/envs/metis/lib/python3.8/site-packages (from cycler>=0.10->matplotlib>=3.1.3->sweetviz) (1.15.0)\n",
      "Requirement already satisfied: pytz>=2017.3 in /Users/michaelharnett/opt/anaconda3/envs/metis/lib/python3.8/site-packages (from pandas!=1.0.0,!=1.0.1,!=1.0.2,>=0.25.3->sweetviz) (2021.1)\n",
      "Installing collected packages: importlib-resources, sweetviz\n",
      "Successfully installed importlib-resources-5.1.4 sweetviz-2.1.2\n",
      "Note: you may need to restart the kernel to use updated packages.\n"
     ]
    }
   ],
   "source": [
    "pip install sweetviz"
   ]
  },
  {
   "cell_type": "code",
   "execution_count": 1,
   "id": "82431430-3c21-47d8-bdee-507fbeb17676",
   "metadata": {},
   "outputs": [
    {
     "name": "stdout",
     "output_type": "stream",
     "text": [
      "Collecting emot\n",
      "  Downloading emot-2.1-py3-none-any.whl (27 kB)\n",
      "Installing collected packages: emot\n",
      "Successfully installed emot-2.1\n",
      "Note: you may need to restart the kernel to use updated packages.\n"
     ]
    }
   ],
   "source": [
    "pip install emot"
   ]
  },
  {
   "cell_type": "code",
   "execution_count": null,
   "id": "d3e903aa-82e5-4fe0-b28f-0cc23054a710",
   "metadata": {},
   "outputs": [],
   "source": []
  }
 ],
 "metadata": {
  "kernelspec": {
   "display_name": "Python [conda env:metis] *",
   "language": "python",
   "name": "conda-env-metis-py"
  },
  "language_info": {
   "codemirror_mode": {
    "name": "ipython",
    "version": 3
   },
   "file_extension": ".py",
   "mimetype": "text/x-python",
   "name": "python",
   "nbconvert_exporter": "python",
   "pygments_lexer": "ipython3",
   "version": "3.8.10"
  }
 },
 "nbformat": 4,
 "nbformat_minor": 5
}
