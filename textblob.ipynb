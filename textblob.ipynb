{
 "cells": [
  {
   "cell_type": "markdown",
   "id": "84c60ed0-74f8-4ddf-8dde-b76c570a146c",
   "metadata": {},
   "source": [
    "# Textblob testing"
   ]
  },
  {
   "cell_type": "code",
   "execution_count": 25,
   "id": "8c6f0d1e-af25-486e-a732-efa82feec1f9",
   "metadata": {},
   "outputs": [],
   "source": [
    "#imports\n",
    "\n",
    "import numpy as np\n",
    "import pandas as pd\n",
    "from sklearn.feature_extraction.text import CountVectorizer, TfidfVectorizer\n",
    "from sklearn.decomposition import TruncatedSVD\n",
    "from sklearn.decomposition import NMF\n",
    "from sklearn.metrics.pairwise import cosine_similarity\n",
    "from sklearn.metrics import pairwise_distances\n",
    "\n",
    "from textblob import TextBlob, Word\n"
   ]
  },
  {
   "cell_type": "code",
   "execution_count": 6,
   "id": "f85f54c1-58fa-4b68-a05f-5fc4a78e73a8",
   "metadata": {},
   "outputs": [],
   "source": [
    "import re"
   ]
  },
  {
   "cell_type": "code",
   "execution_count": 2,
   "id": "261bfe2f-13b1-4599-9119-4847b30254af",
   "metadata": {},
   "outputs": [],
   "source": [
    "df = pd.read_csv('data/finaldf.csv')"
   ]
  },
  {
   "cell_type": "code",
   "execution_count": 3,
   "id": "28b27122-196b-4171-93fa-73661b4a7c65",
   "metadata": {},
   "outputs": [],
   "source": [
    "df = df.dropna()"
   ]
  },
  {
   "cell_type": "code",
   "execution_count": 4,
   "id": "7cb79a13-0e5a-4ff3-869a-14ff8ba80bda",
   "metadata": {},
   "outputs": [],
   "source": [
    "df = df.drop_duplicates(subset=['reviews'])"
   ]
  },
  {
   "cell_type": "code",
   "execution_count": 5,
   "id": "fb06ed05-28ba-48fb-acda-640c35988f80",
   "metadata": {},
   "outputs": [
    {
     "name": "stdout",
     "output_type": "stream",
     "text": [
      "<class 'pandas.core.frame.DataFrame'>\n",
      "Int64Index: 3626 entries, 0 to 7331\n",
      "Data columns (total 4 columns):\n",
      " #   Column   Non-Null Count  Dtype \n",
      "---  ------   --------------  ----- \n",
      " 0   title    3626 non-null   object\n",
      " 1   genre    3626 non-null   object\n",
      " 2   appid    3626 non-null   int64 \n",
      " 3   reviews  3626 non-null   object\n",
      "dtypes: int64(1), object(3)\n",
      "memory usage: 141.6+ KB\n"
     ]
    }
   ],
   "source": [
    "df.info()"
   ]
  },
  {
   "cell_type": "code",
   "execution_count": null,
   "id": "ed52dcc5-ef87-4736-9edb-11e7b4394a09",
   "metadata": {},
   "outputs": [],
   "source": [
    "corpus =[]\n",
    "\n",
    "for items in df.reviews:\n",
    "    corpus.append"
   ]
  },
  {
   "cell_type": "code",
   "execution_count": 9,
   "id": "32991071-0800-46ff-87bf-69eb1dc51d4b",
   "metadata": {},
   "outputs": [
    {
     "data": {
      "text/plain": [
       "TextBlob(\"Your team in every random competitive game:\n",
       "\n",
       "- You\n",
       "- Russian Guy\n",
       "- Another Russian Guy\n",
       "- A 6 year old kid who slept with your mother\n",
       "- Russian Guy who speaks English\n",
       "\n",
       "10/10\")"
      ]
     },
     "execution_count": 9,
     "metadata": {},
     "output_type": "execute_result"
    }
   ],
   "source": [
    "tester = TextBlob(df.iloc[0]['reviews'])\n",
    "tester"
   ]
  },
  {
   "cell_type": "code",
   "execution_count": 11,
   "id": "2d0427ba-03c5-42f6-8567-c7e75d6e236c",
   "metadata": {},
   "outputs": [
    {
     "data": {
      "text/plain": [
       "'Your team in every random competitive game:\\n\\n- You\\n- Russian Guy\\n- Another Russian Guy\\n- A 6 year old kid who slept with your mother\\n- Russian Guy who speaks English\\n\\n10/10'"
      ]
     },
     "execution_count": 11,
     "metadata": {},
     "output_type": "execute_result"
    }
   ],
   "source": [
    "df.iloc[0]['reviews']"
   ]
  },
  {
   "cell_type": "code",
   "execution_count": 14,
   "id": "247af044-f2ad-4c16-8065-98b7b880fbf0",
   "metadata": {},
   "outputs": [
    {
     "data": {
      "text/plain": [
       "TextBlob(\"Your team in every random competitive game:\n",
       "\n",
       "- You\n",
       "- Russian Buy\n",
       "- Another Russian Buy\n",
       "- A 6 year old kid who slept with your mother\n",
       "- Russian Buy who speaks English\n",
       "\n",
       "10/10\")"
      ]
     },
     "execution_count": 14,
     "metadata": {},
     "output_type": "execute_result"
    }
   ],
   "source": [
    "tester.correct()"
   ]
  },
  {
   "cell_type": "code",
   "execution_count": 15,
   "id": "0e40dc74-a8a1-46f5-9b08-55ea5de1027f",
   "metadata": {},
   "outputs": [],
   "source": [
    "test_list = ['my mothher is a grat',\n",
    "            'this is spelled fine',\n",
    "            'ths is not spelleds fine']"
   ]
  },
  {
   "cell_type": "code",
   "execution_count": 16,
   "id": "98dd3f5e-aebc-42f1-a9f8-f4b195f04088",
   "metadata": {},
   "outputs": [],
   "source": [
    "blob_list= []\n",
    "for items in test_list:\n",
    "    blob_list.append(TextBlob(items).correct())"
   ]
  },
  {
   "cell_type": "code",
   "execution_count": 17,
   "id": "97daf428-258f-4d28-b995-1343191d96f0",
   "metadata": {},
   "outputs": [
    {
     "data": {
      "text/plain": [
       "[TextBlob(\"my mother is a great\"),\n",
       " TextBlob(\"this is spelled fine\"),\n",
       " TextBlob(\"the is not spelled fine\")]"
      ]
     },
     "execution_count": 17,
     "metadata": {},
     "output_type": "execute_result"
    }
   ],
   "source": [
    "blob_list"
   ]
  },
  {
   "cell_type": "code",
   "execution_count": 20,
   "id": "76b8d110-6ada-4ea5-a29d-7c5a1d38dc64",
   "metadata": {},
   "outputs": [],
   "source": [
    "test_list_2 = ['ths is going to be tens and splling',\n",
    "              'thisz was gonna be/n',\n",
    "              'swim',\n",
    "              'swimming']\n",
    "blob2 = []\n",
    "for items in test_list_2:\n",
    "    blob2.append(TextBlob(items).correct())"
   ]
  },
  {
   "cell_type": "code",
   "execution_count": 21,
   "id": "a5c48eb6-7bcf-47cc-b745-395f20a6cbad",
   "metadata": {},
   "outputs": [
    {
     "data": {
      "text/plain": [
       "[TextBlob(\"the is going to be tens and selling\"),\n",
       " TextBlob(\"this was donna be/n\"),\n",
       " TextBlob(\"swim\"),\n",
       " TextBlob(\"swimming\")]"
      ]
     },
     "execution_count": 21,
     "metadata": {},
     "output_type": "execute_result"
    }
   ],
   "source": [
    "blob2"
   ]
  },
  {
   "cell_type": "code",
   "execution_count": 26,
   "id": "3cf4a5fd-731c-4940-b263-2df1bceaabff",
   "metadata": {},
   "outputs": [
    {
     "ename": "AttributeError",
     "evalue": "'TextBlob' object has no attribute 'lemmatize'",
     "output_type": "error",
     "traceback": [
      "\u001b[0;31m---------------------------------------------------------------------------\u001b[0m",
      "\u001b[0;31mAttributeError\u001b[0m                            Traceback (most recent call last)",
      "\u001b[0;32m<ipython-input-26-ab3739e35737>\u001b[0m in \u001b[0;36m<module>\u001b[0;34m\u001b[0m\n\u001b[1;32m      1\u001b[0m \u001b[0;32mfor\u001b[0m \u001b[0mitems\u001b[0m \u001b[0;32min\u001b[0m \u001b[0mblob2\u001b[0m\u001b[0;34m:\u001b[0m\u001b[0;34m\u001b[0m\u001b[0;34m\u001b[0m\u001b[0m\n\u001b[0;32m----> 2\u001b[0;31m     \u001b[0mitems\u001b[0m\u001b[0;34m.\u001b[0m\u001b[0mlemmatize\u001b[0m\u001b[0;34m(\u001b[0m\u001b[0;34m)\u001b[0m\u001b[0;34m\u001b[0m\u001b[0;34m\u001b[0m\u001b[0m\n\u001b[0m",
      "\u001b[0;31mAttributeError\u001b[0m: 'TextBlob' object has no attribute 'lemmatize'"
     ]
    }
   ],
   "source": [
    "for items in blob2:\n",
    "    items.lemmatize()"
   ]
  },
  {
   "cell_type": "code",
   "execution_count": 28,
   "id": "1b73b4e7-91d1-4fd0-b1b7-b2111b091e0c",
   "metadata": {},
   "outputs": [],
   "source": [
    "import nltk"
   ]
  },
  {
   "cell_type": "code",
   "execution_count": 30,
   "id": "75d2fe09-5d0c-42cf-90f0-71b04a26c86d",
   "metadata": {},
   "outputs": [
    {
     "name": "stderr",
     "output_type": "stream",
     "text": [
      "[nltk_data] Downloading package wordnet to\n",
      "[nltk_data]     /Users/michaelharnett/nltk_data...\n",
      "[nltk_data]   Unzipping corpora/wordnet.zip.\n"
     ]
    },
    {
     "data": {
      "text/plain": [
       "True"
      ]
     },
     "execution_count": 30,
     "metadata": {},
     "output_type": "execute_result"
    }
   ],
   "source": [
    "nltk.download('wordnet')"
   ]
  },
  {
   "cell_type": "code",
   "execution_count": 2,
   "id": "28107f1e-c1b9-4da7-8ffe-0caee16e6f44",
   "metadata": {},
   "outputs": [
    {
     "name": "stderr",
     "output_type": "stream",
     "text": [
      "[nltk_data] Error loading PorterStemmer: Package 'PorterStemmer' not\n",
      "[nltk_data]     found in index\n"
     ]
    },
    {
     "data": {
      "text/plain": [
       "False"
      ]
     },
     "execution_count": 2,
     "metadata": {},
     "output_type": "execute_result"
    }
   ],
   "source": [
    "import nltk\n",
    "nltk.download('PorterStemmer')"
   ]
  },
  {
   "cell_type": "code",
   "execution_count": 3,
   "id": "00479e5a-6b4f-457c-8e5a-d05c478d3e15",
   "metadata": {},
   "outputs": [],
   "source": [
    "from nltk.stem import PorterStemmer"
   ]
  },
  {
   "cell_type": "code",
   "execution_count": null,
   "id": "0c9fd70a-15e2-46e0-ba13-8e71a33aab5d",
   "metadata": {},
   "outputs": [],
   "source": []
  }
 ],
 "metadata": {
  "kernelspec": {
   "display_name": "Python [conda env:metis] *",
   "language": "python",
   "name": "conda-env-metis-py"
  },
  "language_info": {
   "codemirror_mode": {
    "name": "ipython",
    "version": 3
   },
   "file_extension": ".py",
   "mimetype": "text/x-python",
   "name": "python",
   "nbconvert_exporter": "python",
   "pygments_lexer": "ipython3",
   "version": "3.8.10"
  }
 },
 "nbformat": 4,
 "nbformat_minor": 5
}
