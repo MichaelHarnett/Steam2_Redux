{
 "cells": [
  {
   "cell_type": "code",
   "execution_count": 1,
   "id": "6a8034b3-ab80-4bef-a636-0216803bae8c",
   "metadata": {},
   "outputs": [],
   "source": [
    "from bs4 import BeautifulSoup\n",
    "import requests\n",
    "import pandas as pd\n",
    "import numpy as np\n",
    "from selenium import webdriver\n",
    "from selenium.webdriver.common.keys import Keys\n",
    "import time, os\n",
    "import json"
   ]
  },
  {
   "cell_type": "code",
   "execution_count": 2,
   "id": "06840ddc-9e0d-45dc-819f-fd93551f1517",
   "metadata": {},
   "outputs": [],
   "source": [
    "response = requests.get('http://store.steampowered.com/appreviews/240760?json=1&start_offset=0')"
   ]
  },
  {
   "cell_type": "code",
   "execution_count": 3,
   "id": "0462370e-ee13-40fe-a988-e190ccabc758",
   "metadata": {},
   "outputs": [
    {
     "data": {
      "text/plain": [
       "<Response [200]>"
      ]
     },
     "execution_count": 3,
     "metadata": {},
     "output_type": "execute_result"
    }
   ],
   "source": [
    "response"
   ]
  },
  {
   "cell_type": "code",
   "execution_count": 4,
   "id": "c50fcca9-4da6-4a73-9e22-0d00558da0f6",
   "metadata": {},
   "outputs": [
    {
     "data": {
      "text/plain": [
       "{'success': 1,\n",
       " 'query_summary': {'num_reviews': 3,\n",
       "  'review_score': 8,\n",
       "  'review_score_desc': 'Very Positive',\n",
       "  'total_positive': 2468,\n",
       "  'total_negative': 559,\n",
       "  'total_reviews': 3027},\n",
       " 'reviews': [{'recommendationid': '93179222',\n",
       "   'author': {'steamid': '76561197991991243',\n",
       "    'num_games_owned': 281,\n",
       "    'num_reviews': 2,\n",
       "    'playtime_forever': 3632,\n",
       "    'playtime_last_two_weeks': 0,\n",
       "    'playtime_at_review': 3632,\n",
       "    'last_played': 1445238679},\n",
       "   'language': 'english',\n",
       "   'review': 'The mechanics of the game are way too visible to the player and it ruins immersion.   Basically every map is:  if you go left you need 7 lockpick skill to pass, go right for a 6 hack check, go straight for traps that need level 4 skill to disarm.  It\\'s fine to have skill checks like this but they should be hidden behind the scenes and masked by the story and atmosphere.  You aren\\'t going left because it has a lockpick 7 option, you are going left to help the help the princess.  You are going right to fight the dragon, not to use the level 8 hack check. \\n\\nThe characters attributes make no sense either.  Why is the best melee fighter build not prioritizing all the physical stats over mental?   \\n\\nYour characters dont have personality and archetypes like in other RPG games.  The dumb but strong tank, the quick but physically weak rogue/sniper, the smart tech user guy.   They are just carriers for passing various skill checks that have seemingly nonsensical stat point distributions.   \\n\\nI hate constantly thinking about how this map requires skill 7 hack, skill 6 lockpick, and skill 4 disarm to 100% clear.  \"I just need to gain +2 levels in hacking and +1 level in traps to finish this map\".    Instead I should be thinking:  \"Oh nice I think I can rescue the princess if I go to this map and convince the black knight to help me create a diversion.  That should distract the dragon enough for me to save her!\".  Instead its just numbers:   skill >6 = win.   Skill <6= lose.',\n",
       "   'timestamp_created': 1622825558,\n",
       "   'timestamp_updated': 1622825558,\n",
       "   'voted_up': False,\n",
       "   'votes_up': 5,\n",
       "   'votes_funny': 1,\n",
       "   'weighted_vote_score': '0.587211668491363525',\n",
       "   'comment_count': 0,\n",
       "   'steam_purchase': True,\n",
       "   'received_for_free': False,\n",
       "   'written_during_early_access': False},\n",
       "  {'recommendationid': '92653017',\n",
       "   'author': {'steamid': '76561198068070074',\n",
       "    'num_games_owned': 160,\n",
       "    'num_reviews': 8,\n",
       "    'playtime_forever': 486,\n",
       "    'playtime_last_two_weeks': 0,\n",
       "    'playtime_at_review': 486,\n",
       "    'last_played': 1423934736},\n",
       "   'language': 'english',\n",
       "   'review': 'I should find this really fun to play, I loved Wasteland 3 but... oh my god, that mission in the ag center is the worst thing possible. The most interesting post-apocaliptic world every created since Fallout and we waste hours of gameplay dodging exploding pods...\\n\\nWhy is one of the first missions of the game a hell of a test for your patience?',\n",
       "   'timestamp_created': 1622082335,\n",
       "   'timestamp_updated': 1622082335,\n",
       "   'voted_up': False,\n",
       "   'votes_up': 5,\n",
       "   'votes_funny': 1,\n",
       "   'weighted_vote_score': '0.56370389461517334',\n",
       "   'comment_count': 0,\n",
       "   'steam_purchase': True,\n",
       "   'received_for_free': False,\n",
       "   'written_during_early_access': False},\n",
       "  {'recommendationid': '93139696',\n",
       "   'author': {'steamid': '76561198004733164',\n",
       "    'num_games_owned': 672,\n",
       "    'num_reviews': 62,\n",
       "    'playtime_forever': 2954,\n",
       "    'playtime_last_two_weeks': 123,\n",
       "    'playtime_at_review': 2954,\n",
       "    'last_played': 1622765981},\n",
       "   'language': 'english',\n",
       "   'review': 'A real throwback game. \\n\\nA lot of fun elements and some inconveniences. \\n\\nFirst open world, where you choices seem to matter. They change the game, and you can even fuck things up in your game so bad it can stunt you from finishing it. \\n\\nGood Parts:\\n-Lots to do. \\n-Large story and lots of characters\\n-Choices matter\\n-Multiple endings = more replayability\\n-More stuff\\n\\nThe bad parts\\n-Not very optimized. Really chugged on my computer\\n-Lots of dialogue. Even more than I wanted to read\\n-Difficult at start. I actually turned it to easy for the play through\\n-Tutorial really does not prepare you\\n\\nAnyway, if you liked games from the late 90s like Fallout it could float your boat.',\n",
       "   'timestamp_created': 1622768764,\n",
       "   'timestamp_updated': 1622768764,\n",
       "   'voted_up': True,\n",
       "   'votes_up': 1,\n",
       "   'votes_funny': 0,\n",
       "   'weighted_vote_score': '0.523809552192687988',\n",
       "   'comment_count': 0,\n",
       "   'steam_purchase': True,\n",
       "   'received_for_free': False,\n",
       "   'written_during_early_access': False}],\n",
       " 'cursor': 'AoIIPwYYanCvpuMC'}"
      ]
     },
     "execution_count": 4,
     "metadata": {},
     "output_type": "execute_result"
    }
   ],
   "source": [
    "response.json()"
   ]
  },
  {
   "cell_type": "markdown",
   "id": "c6dbeca6-1d2e-4a99-973a-aa56d1d897a1",
   "metadata": {},
   "source": [
    "# Michael notes\n",
    "\n",
    "the above does work in retrieving reviews. cannot find a way to pull top games by genre from api, referring to old scraping data from previouw notebook, going to scrape list of games, then getting their game ids, and using those id's in the api, at least to start working on nlp examples. "
   ]
  },
  {
   "cell_type": "code",
   "execution_count": 5,
   "id": "645851e1-bdf1-45f4-8f26-2f3e64fbd425",
   "metadata": {},
   "outputs": [],
   "source": [
    "response2 = requests.get('https://store.steampowered.com/tags/en/RPG/#p=0&tab=TopRated')"
   ]
  },
  {
   "cell_type": "code",
   "execution_count": 6,
   "id": "adbd99a4-5036-46d3-9e5b-fa780cf8685d",
   "metadata": {},
   "outputs": [
    {
     "data": {
      "text/plain": [
       "<Response [200]>"
      ]
     },
     "execution_count": 6,
     "metadata": {},
     "output_type": "execute_result"
    }
   ],
   "source": [
    "response2"
   ]
  },
  {
   "cell_type": "code",
   "execution_count": 16,
   "id": "6888de4b-88fa-4c27-8923-6329a8b9e466",
   "metadata": {},
   "outputs": [],
   "source": [
    "page = response2.text"
   ]
  },
  {
   "cell_type": "code",
   "execution_count": 22,
   "id": "2b107d20-c310-43f5-9b64-b098a09e36aa",
   "metadata": {},
   "outputs": [
    {
     "data": {
      "text/plain": [
       "15"
      ]
     },
     "execution_count": 22,
     "metadata": {},
     "output_type": "execute_result"
    }
   ],
   "source": [
    "# modifed code to find the top 15 RPG games\n",
    "\n",
    "soup = BeautifulSoup(page, 'html5lib')\n",
    "table = soup.find('div', id='TopRatedRows')\n",
    "table\n",
    "rows = [row for row in table.find_all('a')]\n",
    "rows[0]\n",
    "len(rows)"
   ]
  },
  {
   "cell_type": "code",
   "execution_count": 28,
   "id": "ea4d3fe2-14c2-417d-8c0f-533194e09cae",
   "metadata": {},
   "outputs": [
    {
     "ename": "AttributeError",
     "evalue": "'NoneType' object has no attribute 'text'",
     "output_type": "error",
     "traceback": [
      "\u001b[0;31m---------------------------------------------------------------------------\u001b[0m",
      "\u001b[0;31mAttributeError\u001b[0m                            Traceback (most recent call last)",
      "\u001b[0;32m<ipython-input-28-b9c848705c62>\u001b[0m in \u001b[0;36m<module>\u001b[0;34m\u001b[0m\n\u001b[1;32m      2\u001b[0m \u001b[0;34m\u001b[0m\u001b[0m\n\u001b[1;32m      3\u001b[0m \u001b[0;32mfor\u001b[0m \u001b[0mrow\u001b[0m \u001b[0;32min\u001b[0m \u001b[0mrows\u001b[0m\u001b[0;34m:\u001b[0m\u001b[0;34m\u001b[0m\u001b[0;34m\u001b[0m\u001b[0m\n\u001b[0;32m----> 4\u001b[0;31m     \u001b[0mtitle\u001b[0m \u001b[0;34m=\u001b[0m \u001b[0;34m(\u001b[0m\u001b[0mrow\u001b[0m\u001b[0;34m.\u001b[0m\u001b[0mfind\u001b[0m\u001b[0;34m(\u001b[0m\u001b[0;34m'span'\u001b[0m\u001b[0;34m,\u001b[0m \u001b[0mclass_\u001b[0m\u001b[0;34m=\u001b[0m\u001b[0;34m'title'\u001b[0m\u001b[0;34m)\u001b[0m\u001b[0;34m.\u001b[0m\u001b[0mtext\u001b[0m\u001b[0;34m)\u001b[0m\u001b[0;34m\u001b[0m\u001b[0;34m\u001b[0m\u001b[0m\n\u001b[0m\u001b[1;32m      5\u001b[0m     \u001b[0murl\u001b[0m \u001b[0;34m=\u001b[0m \u001b[0mrow\u001b[0m\u001b[0;34m.\u001b[0m\u001b[0mget\u001b[0m\u001b[0;34m(\u001b[0m\u001b[0;34m'href'\u001b[0m\u001b[0;34m)\u001b[0m\u001b[0;34m\u001b[0m\u001b[0;34m\u001b[0m\u001b[0m\n\u001b[1;32m      6\u001b[0m     \u001b[0mrelease_date\u001b[0m \u001b[0;34m=\u001b[0m \u001b[0;34m(\u001b[0m\u001b[0mrow\u001b[0m\u001b[0;34m.\u001b[0m\u001b[0mfind\u001b[0m\u001b[0;34m(\u001b[0m\u001b[0;34m'div'\u001b[0m\u001b[0;34m,\u001b[0m \u001b[0mclass_\u001b[0m\u001b[0;34m=\u001b[0m\u001b[0;34m'col search_released responsive_secondrow'\u001b[0m\u001b[0;34m)\u001b[0m\u001b[0;34m.\u001b[0m\u001b[0mtext\u001b[0m\u001b[0;34m)\u001b[0m\u001b[0;34m\u001b[0m\u001b[0;34m\u001b[0m\u001b[0m\n",
      "\u001b[0;31mAttributeError\u001b[0m: 'NoneType' object has no attribute 'text'"
     ]
    }
   ],
   "source": [
    "'''\n",
    "code created for previous project, pulled for reference\n",
    "'''\n",
    "\n",
    "\n",
    "# games = {}\n",
    "\n",
    "# for row in rows:\n",
    "#     title = (row.find('span', class_='title').text)\n",
    "#     url = row.get('href')\n",
    "#     release_date = (row.find('div', class_='col search_released responsive_secondrow').text)\n",
    "#     if (row.find('div', class_='col search_discount responsive_secondrow').text.strip()) == '':\n",
    "#         been_sale = 0\n",
    "#     else:\n",
    "#         been_sale = 1\n",
    "#     if been_sale == 0:\n",
    "#         orig_price = (row.find('div', class_='col search_price responsive_secondrow').text.strip())\n",
    "#     else:\n",
    "#         orig_price = (row.find('strike').text)\n",
    "#     games[title] = (url, \n",
    "#                     release_date,\n",
    "#                     been_sale,\n",
    "#                     orig_price)"
   ]
  },
  {
   "cell_type": "code",
   "execution_count": 33,
   "id": "f780ea82-170c-47e4-a96f-a49812207ba5",
   "metadata": {},
   "outputs": [
    {
     "data": {
      "text/plain": [
       "'The Witcher® 3: Wild Hunt'"
      ]
     },
     "execution_count": 33,
     "metadata": {},
     "output_type": "execute_result"
    }
   ],
   "source": [
    "#new code for title of games\n",
    "\n",
    "rows[0].find(class_='tab_item_name').text"
   ]
  },
  {
   "cell_type": "code",
   "execution_count": 64,
   "id": "0bcd1de4-e4fe-4e52-8728-fe417003f8a6",
   "metadata": {},
   "outputs": [
    {
     "data": {
      "text/plain": [
       "'292030'"
      ]
     },
     "execution_count": 64,
     "metadata": {},
     "output_type": "execute_result"
    }
   ],
   "source": [
    "# find app id - could only find in url without major digging, luckily multiple game urls have been formatted the same. \n",
    "\n",
    "# url = rows[0].get('href')\n",
    "# url.split('/')[4]\n",
    "\n",
    "# rows[1].get('href').split('/')[4]\n",
    "\n",
    "\n",
    "app_id = rows[0].get('href').split('/')[4]\n",
    "app_id"
   ]
  },
  {
   "cell_type": "code",
   "execution_count": 61,
   "id": "b8544f81-2810-42b7-ab6e-6a0870f93819",
   "metadata": {},
   "outputs": [
    {
     "data": {
      "text/plain": [
       "'413150'"
      ]
     },
     "execution_count": 61,
     "metadata": {},
     "output_type": "execute_result"
    }
   ],
   "source": [
    "rows[1].get('href').split('/')[4]"
   ]
  },
  {
   "cell_type": "code",
   "execution_count": 65,
   "id": "49df0c50-f53b-4165-b595-10e0a3d00f1a",
   "metadata": {},
   "outputs": [],
   "source": [
    "games = {}\n",
    "\n",
    "for row in rows:\n",
    "    title = (row.find(class_='tab_item_name').text)\n",
    "    app_id = row.get('href').split('/')[4]\n",
    "    \n",
    "    games[title] = (app_id)"
   ]
  },
  {
   "cell_type": "code",
   "execution_count": 67,
   "id": "45e0ff1b-6cac-462e-a174-b42d8d9dbd9e",
   "metadata": {},
   "outputs": [],
   "source": [
    "top_15_rpg_list = games"
   ]
  },
  {
   "cell_type": "code",
   "execution_count": 75,
   "id": "b47f6152-c3dd-4d0b-8440-533dd41978a5",
   "metadata": {},
   "outputs": [],
   "source": [
    "rpg_ids = list(top_15_rpg.values())"
   ]
  },
  {
   "cell_type": "code",
   "execution_count": 76,
   "id": "cce0f4fb-f2d1-4d93-b678-c071cd9b180d",
   "metadata": {},
   "outputs": [
    {
     "data": {
      "text/plain": [
       "['292030',\n",
       " '413150',\n",
       " '22380',\n",
       " '1145360',\n",
       " '49520',\n",
       " '391540',\n",
       " '48700',\n",
       " '435150',\n",
       " '374320',\n",
       " '213670',\n",
       " '582010',\n",
       " '22330',\n",
       " '489830',\n",
       " '261550',\n",
       " '1235140']"
      ]
     },
     "execution_count": 76,
     "metadata": {},
     "output_type": "execute_result"
    }
   ],
   "source": [
    "rpg_ids"
   ]
  },
  {
   "cell_type": "markdown",
   "id": "2c441ec8-32d4-482d-94d1-8fea7fce01ed",
   "metadata": {},
   "source": [
    "# ok\n",
    "now that I have app ids for the top 15 rpg games, lets pull the game info from api and pull 20 comments per game"
   ]
  },
  {
   "cell_type": "code",
   "execution_count": 78,
   "id": "6011d975-b01a-4ea0-a613-9348b51a102f",
   "metadata": {},
   "outputs": [],
   "source": [
    "## manually checking first id for viability before creating loop.\n",
    "\n",
    "response = requests.get('http://store.steampowered.com/appreviews/292030?json=1')"
   ]
  },
  {
   "cell_type": "code",
   "execution_count": 81,
   "id": "25618eda-8963-4241-94fb-eca54ba13abd",
   "metadata": {},
   "outputs": [],
   "source": [
    "witcher3 = response.json()"
   ]
  },
  {
   "cell_type": "code",
   "execution_count": 96,
   "id": "48d5dd1d-3c4e-4889-a322-b55cf08697ae",
   "metadata": {},
   "outputs": [
    {
     "data": {
      "text/plain": [
       "'In my top 3 games of all time.\\nAlso in an effort to save some unfortunate soul from my mistake, I must warn you....if you mod this game and get the Fast Travel from anywhere mod, you can completely break this game and lock yourself out from being able to complete main quests.\\nDO NOT USE THE FAST TRAVEL MOD!\\nhttps://www.reddit.com/r/witcher/comments/4ho4le/broke_witcher_3_w_fast_travel_mod_looking_for/'"
      ]
     },
     "execution_count": 96,
     "metadata": {},
     "output_type": "execute_result"
    }
   ],
   "source": [
    "# so the api produces review information in a dictionary>list>dictionary.\n",
    "\n",
    "witcher3['reviews'][1]['review']"
   ]
  },
  {
   "cell_type": "code",
   "execution_count": 98,
   "id": "56835f89-67ff-4e83-9ea3-50ff35c58b8a",
   "metadata": {},
   "outputs": [
    {
     "data": {
      "text/plain": [
       "20"
      ]
     },
     "execution_count": 98,
     "metadata": {},
     "output_type": "execute_result"
    }
   ],
   "source": [
    "len(witcher3['reviews'])"
   ]
  },
  {
   "cell_type": "code",
   "execution_count": 99,
   "id": "b0cf9177-5998-47b9-89a9-a5ace385365a",
   "metadata": {},
   "outputs": [],
   "source": [
    "reviews_list = []\n",
    "\n",
    "for i in range(len(witcher3['reviews'])):\n",
    "    reviews_list.append(witcher3['reviews'][i]['review'])"
   ]
  },
  {
   "cell_type": "code",
   "execution_count": 102,
   "id": "c45fdf42-ff17-4294-a7ab-6bd13d69f9eb",
   "metadata": {},
   "outputs": [
    {
     "data": {
      "text/plain": [
       "['Gwent.',\n",
       " 'In my top 3 games of all time.\\nAlso in an effort to save some unfortunate soul from my mistake, I must warn you....if you mod this game and get the Fast Travel from anywhere mod, you can completely break this game and lock yourself out from being able to complete main quests.\\nDO NOT USE THE FAST TRAVEL MOD!\\nhttps://www.reddit.com/r/witcher/comments/4ho4le/broke_witcher_3_w_fast_travel_mod_looking_for/',\n",
       " \"This is my 4th playthrough of Witcher 3, played it thrice on GOG. You can already see where I am going with this review. \\nSprint! YES FINALLY! (DA:Inquisition still doesn't have it). Drink a werewolf decoction and run like the wind. Exploration is taken to another pedestal in Witcher 3. You can basically ditch your adopted daughter and explore the entire Kaer Morhen area in the first 15 mins of the game (provided you skipped the long ass cut-scene in the start). Not interested in fighting the Griffin ? No problem, go ahead and do the pan quest or the other beautifully written side quests in White Orchard or if you get easily intrigued, explore the questions marks on the map. These smart sneakily designed question marks encourage exploration and if you get bored of enjoying the sprint mechanic, call for Roach! Although that dumb broken horse gets annoying after a while. But...that's not it! White Orchard is just the first big  area you are introduced to after Kaer Morhen. Novigrad and Velen together will keep you busy for another 30 hours. (This is excluding the main quest) And Skellige Isles, my god, I have finished 150 hours on steam and am yet to explore the question marks of that area. On top of this, get the DLC, another new area for you to explore with an additional 50 hours of gameplay, bigger than most standalone titles. \\nWitcher 3 is a game which basically tells players to do whatever the hell you want to do and do it at your own pace. No damn thing will force you to go meet this guy or go help this dude find his sheep or goat or whatever. Just enjoy the spectacular environs and the mise en scene while you trot around on Roach. \\n\\nApart from the exploration and side quests, the skill tree provides with multiple options. If youre the kind of player who likes to use signs in combat, well...invest in the blue sign tree. If you are a player who loves to strategize with potions and oils and bombs, focus on the green alchemy tree, or if you want to be a mindless killing machine go forth with the red combat tree with some alchemy skills here and there. You can even unlock a new mutation system in the Blood and Wine DLC which makes Geralt even more stronger. (Choose Euphoria, its OP). And if you think sword play is getting mundane, well then go to the Runewright in the Hearts of Stone DLC and add some badass customizations to your armour and swords. Theres just too much content in Witcher 3 and if you dedicatedly immerse yourself in the world, doing every side quest, reading every book/bestiary entry/character info and playing every Gwent Game (fuck I didnt mention Gwent, just the most chillest past time of all, don't ignore it) exploring every question mark and finding all treasures, you'll probably find yourself dreaming of playing Witcher 4 but......sadly reality strikes and you get depressed knowing that this was the final addition to the series. \\n\\nThe world's immersion is just exquisite, the NPCs will change their behaviour based on the choices you make. The people react differently and constantly send remarks, making you realise that Witchers are like lepers, not welcomed and shunned by everyone. The sheer amount of emotions which you come across are just so well created, you hate some characters (bloody baron) but then you realise that they might be the lesser evil out of the rest which allows you to draw a conclusion. You are completely immersed in Geralt's shoes and the choices you make define his fate and the fate of people around him. Everything comes together and ties with one another.....everything matters, from choosing the additional non critical dialogue for curiosity to later find out that it sounded cocky which results in the Elder Vampire killing you in an instant to the point of choosing what to wear for a formal party. The amount of detail and effort put into these minor things are just unfathomable.\\n\\nFew cons to be nit picky about would be the fast travelling *super irritating to run to every sign post*, a 6 foot drop will instantly kill Geralt, unable to parkour over small obstacles while in combat get frustrating, maintaining item durability is a pain, shopkeeper dialogue options get super repetitive and need to be seen every time, wonky Roach and finally wraiths...they're super annoying (not really a con but I like to mention it and also cause am running out of cons). Yeah thats about all I could pick at. \\n\\nAnyways, if you are wondering to whether or not to play Witcher 3, I'd say stop overthinking and buy it off. Its worth every penny. I highly recommend it to RPG lovers and for the newbies too, some things might be overwhelming at start, but just bare through the first 1-2 hours as you get used to the gameplay. Believe me...not a game to miss.\\n\\nP.S. - For those loyal Witcher lovers out there, who played the entire series, you know....deep down, you know Triss is the better option.\",\n",
       " '- DIFFICULTY -\\n\\n🔲 My 90 year old grandma could play it\\n🔲 Easy\\n☑️ Normal\\n🔲 Hard\\n🔲 \"Dark Souls\"\\n\\n- GRAPHICS -\\n\\n🔲 \"MS Paint\"\\n🔲 Bad\\n🔲 Meh\\n🔲 Graphics don\\'t matter in this game\\n☑️ Good\\n☑️ Beautiful\\n🔲 Masterpiece\\n\\n- Game Length\\n🔲 Short (2-6 hours)\\n🔲 Average (7-12 hours)\\n🔲 Long (13-20 hours)\\n☑️ Very Long (21-70 hours)\\n🔲 Infinite \\n\\n- MUSIC -\\n\\n🔲 Bad\\n🔲 Not special\\n🔲 Good\\n☑️ Eargasm\\n\\n- STORY -\\n\\n🔲 This game has no story\\n🔲 Like playing \"Temple Runners\" for the story\\n🔲 It\\'s there for the people who want it\\n🔲 Well written\\n☑️ Epic story\\n\\n- PRICE -\\n\\n🔲 Underpriced\\n☑️ Perfect price\\n🔲 Could be cheaper\\n🔲 Overpriced\\n🔲 Complete waste of money\\n\\n- REQUIREMENTS -\\n\\n🔲 You can run it on a microwave\\n☑️ Average\\n🔲 High end\\n🔲 \"NASA\" computer\\n\\n- FUN -\\n\\n🔲 I\\'d rather watch paint dry\\n🔲 Hard to enjoy\\n🔲 Repetitive\\n🔲 Actually pretty amusing\\n☑️ Ride of your life\\n\\n- REPLAYABILITY -\\n\\n🔲 It\\'s a one - time experience\\n🔲 Only for achievements\\n🔲 If you wait a few months / years\\n☑️ Definitely\\n☑️ Infinitely replayable\\n\\n- WORTH BUYING -\\n\\n🔲 No\\n🔲 Wait for sale\\n☑️ Buy it! Right Now, you will not regret.\\n\\nNote: I saw some bugs in 3 side missions and some little bugs.\\n9.8/10 MASTERPIECE.',\n",
       " 'The definition of \"MASTERPIECE\" was made for this game!',\n",
       " \"Words can simply not describe how much I love this game, but will certainly do my best:\\n\\nCharacters - Existing characters such as Geralt, Triss, Ciri, Dandelion, Yen, Keira (plus Shani and Regis for the expansions) have been utilized brilliantly from the source material and used so well in the world the game has created, and boy what a world it is! The characters I previously mentioned are probably the ones that stood out for me the most, but to be honest there are so many brilliantly constructed characters (even minor ones like Bart the Rock Troll) that I simply don't know where to even begin... Geralt's interaction with most them is simply brilliant, and the game has so many amazing, memorable moments because of it (including the famous 'drinking game segment' at Kaer Morgen). You also get a logged back story for each character, most of it taken from the books and/or previous games. which is brilliant if, like me, you decided to read the books afterwards or couldn't be bothered playing through the first couple of Witcher games (although I did get through 3 stages of the original game). It's obviously more important to have this as there is alot of stuff in the game that needs back story to elaborate on, weither it be a situation or certain dialogue. Oh yes the dialogue, love love love some of conversations in this game. You can tell alot of thought and effort went into it. The character dialogue for the most part, particularly for Geralt is so complex and funny. As it is with certain other characters mind you, but Geralt's obviously stands out the most\\n\\nEnvironment - The graphics and art design for all the environments are simply brilliant, each location had its own distinctive feel and is and absolute joy to explore (I spent about 2 weeks just exploring Skellege's oceans and vast landscapes)\\n\\nMonsters/Enemies - Such a huge assorted variety, honestly you can never get bored with the variety of enemies you face. I also love that each monster has it's own unique methods of quickly being dispelled, and everytime you discover something a description will pop up in the beast log, breaking up everything into different categories aswell\\n\\nStory - Soooo gooood. Honestly story elements wise, I don't think any game is going to even come remotely close. Especially given that so many of the side stories actually match, and even sometimes exceed, the complexity and epicness of the main storyline\\n\\nCombat - Kept interesting through the graphic, stylized fighting and dismemberment. Aswell as the additional use of things like signs and potions. Once again you usually need to use certain combinations of things to kill my monsters more easily, particularly the more defined 'boss level' ones\\n\\nExpansions - BRILLIANT. Hearts of Stone has truely amazing story and character elements. While Blood and Wine does this on a slightly lower scale but adds another beautiful environment with various new enemies to face\\n\\nSo basically this the best I can do to some up how epic The Witcher 3 is. But honestly, just play the damn game!!!\\n\\nMy Rating for this game - 10/10\",\n",
       " 'Imagine you\\'re working in a 9-5 corporate job, you\\'re done with your work, you come back home, log onto Steam, see your games list for 5 seconds, buy a game on sale that you\\'re never going to play and then switch off your PC and go to a bar. While having a drink, you think of the good times when games used to be fun and authentic. But then you tell yourself, the problem isn\\'t the games, its you. \"Its not that games aren\\'t fun anymore, you have gotten older\".\\n\\nAnd then I play Witcher 3. And suddenly I can\\'t wait to get myself home after work. Do you have any idea how precious that feeling is ? The feeling that you are actually immersed in the protagonist\\' shoes. I find myself in anticipation and excitement for the new adventures that are waiting for me, I think while driving back home....\"Where is this story headed ? What new places and characters I will meet ?\" And lets not talk about the characters. I thought myself as a guy who\\'s dead on the inside and somehow these characters made me laugh, chuckle and empathise at the same time. I haven\\'t felt these feelings for a game since 2008 when I played games such as Final Fantasy 12, Metal Gear Solid 3. Was I wrong to think that I was the problem and not the gaming industry that\\'s shelling out mediocre AAA games with no memorable characters or storyline ?\\n\\nAnd I got this game for 3$. 3$ !! And that includes the DLC ! I honestly feeling I looted these amazing devs. And I paid twice for games that are not even worth playing. 23 hours in and I still haven\\'t scratched the surface of the story. The side quests are actually fun. I find myself doing the side quests more because its feels like I am watching another episode of the \"Witcher 3 TV show\". I love this open world, I actually take my time wandering around and exploring every nook and cranny. I haven\\'t done this since GTA San Andreas. I look at some distant island or mountain that I find interesting and I decide to just walk there just for the fun of it. That\\'s how beautiful this Open World this. This is Open World game done right.\\n\\nThank you CD Projekt Red. You guys are a gem. I know its 5 years late and I don\\'t know why it took me 5 years to play this, but better late than never.',\n",
       " \"I don't know how to describe this experience. My steam adventure started with The Witcher: Enhanced Edition game, which allowed me to open a steam account. As a console player, I didn't think I would be a computer player, but the witcher series also made me love computer controls.Also, i played the first two games with computer controls, it was fun, but witcher 3 was a game that made me buy a gamepad.The first two games really felt like I was in the game with their open worlds and quality stories. You know, there are some special games that you feel empty when finished. I guess that's how I feel right now. I tried to explore every part of the world and do side quests as much as I could, but I still couldn't get enough of it. This game is a masterpiece for me as an open world and story. There are missions that balance the border between funny and seriousness very well. It is a game that I started late but never tired of playing. I guess it's like a game series that I will play again and again after a certain time. At least it's worth seeing Geralt again ^^\",\n",
       " 'if I had to choose one game to play for all eternity, this would be my instant and definite choice. there is no better rpg out there than this. (in my opinion)',\n",
       " 'What is the premise of life and how is it intertwined with destiny? Some believe that their existence is to perform grand deeds, whilst others contentedly was little girls in basins, an occupation that I earnestly desire. Geralt was one of these men who had a destiny, a goal to slaughter the mentally handicapped, whilst venturing off to pollinate with their caregivers. His aim and dedication in slaughtering the mentally deficient earnt him the ire of various human rights committees who dubbed him the White Wolf, a name inspired by his peculiar habits of skinning his prey alive, to then don them as a cloak. Geralt’s work was so effective that many, from a petulant child, to a mother, fatigued with cleaning out her handicapped child’s waste, and having to spoon fed him intangible jellies as sustenance, frequently contracted the White Wolf to slaughter whatever mouth drivelling, rabid imbecile was assigned. Often the contractors that hired Geralt to slaughter the handicapped were families, or a fuming neighbour, disgruntled over being nightly woken by a mentally handicapped banshee, slamming together two frying pans at the stroke of midnight, whilst serenading an incoherent, intelligible tune. On other occasions he was assigned high profile contracts, most prominently of them all, was the bellower of Castle Whistlewood, a contract he was issues by an individual who wishes to remain anonymous. \\n\\nThe bellower of Castle Whislewood, otherwise regarded as Steven Dawson, was a distant relative of Austin Powers and was generally emotionally volatile, mentally decrepit simpleton with Tourette’s and Autism. Frequently the belower would trail after woman and utter guttural howls, coupled in with vehement obscenities such as “Hello Baby” and “Ding Dong”. All Geralt would have to do is attach an inflatable female doll, scantily clad and with a seductive pose, to a cliff face. In theory, the imbecile, observing such a hedonistic toy would wholeheartedly believe that the woman was genuine and as such would rush towards her, tripping along the way and plummeting to his demise. Unfortunately, this was not a typical case. Steven Dawson was the governing monarch of Castle Whistlewood, an enclosed building, barred away from civilisaiton and comprised of solely him and his thralls. His thralls in question were regarded as the NDSP, the National Disability Support Partners and were sworn to defend him to their dying day. This task would be relatively difficult to complete, as the bellower bore an army at his disposal, one that could call for security and otherwise repel an ill prepared assault if need be. Aware of such a fact, Geralt began to psychologically and mentally prepare. To ward of the evil spirits, he clad himself and his blades in the finest baby oils that Poland had to offer. Then he acquired a mallet to crack open the bellowers skull. Alongside the weapon, four shrapnel grenades were concocted, in the event that Geralt would be required to clear out a throng of adversaries. During preparation, Geralt simultaneously observed national disability adverts, as they left him with an inexplicable rage. After his preparation was complete, Geralt consumed a vial of LSD, bearing tinges of methamphetamine and wade his way into the castle. The initial threat that Geralt encountered was at the hands of a busty, smirking and chipper female, who was situated at the front desk. The female, upon sighting Geralt, began grinning manically, exclaiming, “Hi there, my name is Caroline, how may I help you today?” Geralt, could not believe it, this female was attempting to seduce him, he could envision it plain in her eyes, her desire to bear his offspring was ever present. Fortunately, prior to entering the facility he had warded himself from all incantations and trickery and as such saw through her ploy. The female, sensing Geralts reluctance to answer, jubilantly stated, “Hi there, are you aware that this you are in the disability support partners facility?” These words, thank the dear heavens, were the last that she ever uttered, as Geralt, desiring to elude being captivated by the seductress, hurled a shrapnel grenade at her head, likely slaughtering her instantly. Then, withdrawing a sword and raising aloft a Polish flag, he began his ascent into the hagravens fortress that Steven Dawson called home. \\n\\nMany of the harlots were slaughtered before Geralt encountered his prey. The man, Steven Dawson, was in the midst of serenading to a photograph of a blonde female. The ballad appeared self improvise, as it bore numerous raunchy lyrics and his personal depraved sexual fantasies. Geralt, being unable to endure the sirens wail for a moment more, crept up behind the bellower and promptly caved in his skull with the matter, whilst piercing his chest with a blade. Thus, the contract of the bellower was completed, with Geralt returning to his contractor with the head as evidence of the deed. Afterwards, Geralt’s reputation in the eyes of the world irrevocably altered. Many perceived him as a hero, shielding civilization from the handicapped, whilst more insidious, clandestine groups, such as the NDSP and the UNESCO vilified Geralt, condemning him on his history of virtuous acts. As such, in completing this contract, Geralt had invoked the rage of various sinister groups. Frequently, Geralt throughout roaming in various realms, such as Temeria, Novigrad and the sort was hounded by priests sent by the Catholic Church, security forces, spokespersons for the United Nations and most mobs of depraved fiends who preached about human rights. In typical Geralt fashion he slaughtered them all, whilst locating their families to seduce and copulate with.\\n\\nOverall, I appreciate the plot of the Witcher 3 and have immensely enjoyed slaughtering those who are inept at tying their own shoelaces, let along being able to cognitively contemplate. Furthermore, I appreciate the games symbolism by masquerading the handicapped as fearsome abominations, bearing horns, leathery skin, bristling aggression and solely conversing in guttural howls, as it wholly depicts the fact that the handicapped are not genuinely human, but are merely abominations that perpetually teeter along the edge of insanity. In summary, Witcher 3 is a grand game and I endear all onlookers to engage upon it immediately, lest you wish to never engage in your deep rooted, primalistic desires to assault the disabled. Oy Lazare, Lazare. Tuka nis a kazali. Kolko liste po gorrach, tolko zdrave na taz kyshcha. Tervo tuka doydome, Moma momche naydome. Ya momata godete. Ya momcheto zhenete.',\n",
       " \"very elaborate and versatile card game, requires patience and strategic planning, not too easy and not too difficult either, the better you are at gwent the more cards you'll collect, there's a few side quests about some daughter too idk i didn't pay attention\",\n",
       " 'one of the best games ever made',\n",
       " 'ok so i guess im the witcher but what is a witcher also what am i hunting i dont get it',\n",
       " 'i have played lot of games but never rejoiced to play a game more than this. The main thing in this game is its story line and  side quests. It keeps us to play more and more. One thing in mind always carry food items and take time to upgrade your abilities time to time. Enjoy the game.\\n\\n',\n",
       " 'One of the best games ever made, no doubt about it.',\n",
       " 'The Witcher 3 is a great card game with a nice open world.',\n",
       " 'Best game ever played',\n",
       " \"What I thought & What I got. An outstanding and breathtaking game. Perfect from each every point of view. It would be more better if Geralt could do & complete some quests with his last partner (Yennefer/Triss/Ciri) after completion of all expansions (Blood & Wine and Heart of Stone). Can't wait for next part of Witcher. Uninstalling this game is really heartbreaking.\",\n",
       " 'such a beautiful game',\n",
       " 'Toss a coin to this game. Yes.']"
      ]
     },
     "execution_count": 102,
     "metadata": {},
     "output_type": "execute_result"
    }
   ],
   "source": [
    "reviews_list"
   ]
  },
  {
   "cell_type": "code",
   "execution_count": 104,
   "id": "3db437d4-0c41-4919-8d86-4960a0a1d910",
   "metadata": {},
   "outputs": [
    {
     "data": {
      "text/plain": [
       "'In my top 3 games of all time.\\nAlso in an effort to save some unfortunate soul from my mistake, I must warn you....if you mod this game and get the Fast Travel from anywhere mod, you can completely break this game and lock yourself out from being able to complete main quests.\\nDO NOT USE THE FAST TRAVEL MOD!\\nhttps://www.reddit.com/r/witcher/comments/4ho4le/broke_witcher_3_w_fast_travel_mod_looking_for/'"
      ]
     },
     "execution_count": 104,
     "metadata": {},
     "output_type": "execute_result"
    }
   ],
   "source": [
    "reviews_list[1]"
   ]
  },
  {
   "cell_type": "code",
   "execution_count": 110,
   "id": "e9f70a88-84c4-45cb-b9ab-75750d36d34e",
   "metadata": {},
   "outputs": [],
   "source": [
    "emoji_test = reviews_list[3]"
   ]
  },
  {
   "cell_type": "code",
   "execution_count": 111,
   "id": "d0d9c175-0da9-4eba-8358-4da150b101db",
   "metadata": {},
   "outputs": [],
   "source": [
    "import emot"
   ]
  },
  {
   "cell_type": "code",
   "execution_count": 117,
   "id": "2e88e906-7e28-4ca0-bed8-c710e34f4eab",
   "metadata": {},
   "outputs": [],
   "source": [
    "#emot.emoji(emoji_test)"
   ]
  },
  {
   "cell_type": "code",
   "execution_count": 116,
   "id": "076c6007-fb75-4652-875c-07e2230ff39c",
   "metadata": {},
   "outputs": [],
   "source": [
    "import spacy"
   ]
  },
  {
   "cell_type": "code",
   "execution_count": 119,
   "id": "e8e3fdc5-40f1-47e4-9baf-a8e24d120760",
   "metadata": {},
   "outputs": [],
   "source": [
    "test_review = reviews_list[2]"
   ]
  },
  {
   "cell_type": "code",
   "execution_count": 121,
   "id": "90ccede3-3c67-409e-a62e-d5b64c051c8f",
   "metadata": {},
   "outputs": [],
   "source": [
    "test_review = test_review.lower()"
   ]
  },
  {
   "cell_type": "code",
   "execution_count": 122,
   "id": "addd0e33-1338-4355-89c8-ef241004596b",
   "metadata": {},
   "outputs": [
    {
     "data": {
      "text/plain": [
       "\"this is my 4th playthrough of witcher 3, played it thrice on gog. you can already see where i am going with this review. \\nsprint! yes finally! (da:inquisition still doesn't have it). drink a werewolf decoction and run like the wind. exploration is taken to another pedestal in witcher 3. you can basically ditch your adopted daughter and explore the entire kaer morhen area in the first 15 mins of the game (provided you skipped the long ass cut-scene in the start). not interested in fighting the griffin ? no problem, go ahead and do the pan quest or the other beautifully written side quests in white orchard or if you get easily intrigued, explore the questions marks on the map. these smart sneakily designed question marks encourage exploration and if you get bored of enjoying the sprint mechanic, call for roach! although that dumb broken horse gets annoying after a while. but...that's not it! white orchard is just the first big  area you are introduced to after kaer morhen. novigrad and velen together will keep you busy for another 30 hours. (this is excluding the main quest) and skellige isles, my god, i have finished 150 hours on steam and am yet to explore the question marks of that area. on top of this, get the dlc, another new area for you to explore with an additional 50 hours of gameplay, bigger than most standalone titles. \\nwitcher 3 is a game which basically tells players to do whatever the hell you want to do and do it at your own pace. no damn thing will force you to go meet this guy or go help this dude find his sheep or goat or whatever. just enjoy the spectacular environs and the mise en scene while you trot around on roach. \\n\\napart from the exploration and side quests, the skill tree provides with multiple options. if youre the kind of player who likes to use signs in combat, well...invest in the blue sign tree. if you are a player who loves to strategize with potions and oils and bombs, focus on the green alchemy tree, or if you want to be a mindless killing machine go forth with the red combat tree with some alchemy skills here and there. you can even unlock a new mutation system in the blood and wine dlc which makes geralt even more stronger. (choose euphoria, its op). and if you think sword play is getting mundane, well then go to the runewright in the hearts of stone dlc and add some badass customizations to your armour and swords. theres just too much content in witcher 3 and if you dedicatedly immerse yourself in the world, doing every side quest, reading every book/bestiary entry/character info and playing every gwent game (fuck i didnt mention gwent, just the most chillest past time of all, don't ignore it) exploring every question mark and finding all treasures, you'll probably find yourself dreaming of playing witcher 4 but......sadly reality strikes and you get depressed knowing that this was the final addition to the series. \\n\\nthe world's immersion is just exquisite, the npcs will change their behaviour based on the choices you make. the people react differently and constantly send remarks, making you realise that witchers are like lepers, not welcomed and shunned by everyone. the sheer amount of emotions which you come across are just so well created, you hate some characters (bloody baron) but then you realise that they might be the lesser evil out of the rest which allows you to draw a conclusion. you are completely immersed in geralt's shoes and the choices you make define his fate and the fate of people around him. everything comes together and ties with one another.....everything matters, from choosing the additional non critical dialogue for curiosity to later find out that it sounded cocky which results in the elder vampire killing you in an instant to the point of choosing what to wear for a formal party. the amount of detail and effort put into these minor things are just unfathomable.\\n\\nfew cons to be nit picky about would be the fast travelling *super irritating to run to every sign post*, a 6 foot drop will instantly kill geralt, unable to parkour over small obstacles while in combat get frustrating, maintaining item durability is a pain, shopkeeper dialogue options get super repetitive and need to be seen every time, wonky roach and finally wraiths...they're super annoying (not really a con but i like to mention it and also cause am running out of cons). yeah thats about all i could pick at. \\n\\nanyways, if you are wondering to whether or not to play witcher 3, i'd say stop overthinking and buy it off. its worth every penny. i highly recommend it to rpg lovers and for the newbies too, some things might be overwhelming at start, but just bare through the first 1-2 hours as you get used to the gameplay. believe me...not a game to miss.\\n\\np.s. - for those loyal witcher lovers out there, who played the entire series, you know....deep down, you know triss is the better option.\""
      ]
     },
     "execution_count": 122,
     "metadata": {},
     "output_type": "execute_result"
    }
   ],
   "source": [
    "test_review"
   ]
  },
  {
   "cell_type": "code",
   "execution_count": 127,
   "id": "28c83db5-03e4-4f8a-b099-0773e2dbbcbc",
   "metadata": {},
   "outputs": [],
   "source": [
    "nlp = spacy.load('en_core_web_sm')"
   ]
  },
  {
   "cell_type": "code",
   "execution_count": 128,
   "id": "09ec132b-80a9-4514-a283-67a08e8fbb23",
   "metadata": {},
   "outputs": [],
   "source": [
    "doc = nlp(test_review)"
   ]
  },
  {
   "cell_type": "code",
   "execution_count": 143,
   "id": "9164e0d3-14c7-41d9-a310-08c47d6cc034",
   "metadata": {},
   "outputs": [],
   "source": [
    "# for token in doc:\n",
    "#     print(token, token.lemma_)"
   ]
  },
  {
   "cell_type": "code",
   "execution_count": 133,
   "id": "e4498118-3a66-4c87-86fb-437ee5de364d",
   "metadata": {},
   "outputs": [],
   "source": [
    "from sklearn.feature_extraction.text import CountVectorizer"
   ]
  },
  {
   "cell_type": "code",
   "execution_count": 140,
   "id": "3fdad47f-99ee-401a-b753-6f358f106058",
   "metadata": {},
   "outputs": [],
   "source": [
    "cv1 = CountVectorizer(stop_words='english')"
   ]
  },
  {
   "cell_type": "code",
   "execution_count": 141,
   "id": "84249f53-e9b1-4acb-9ea6-9b1665564728",
   "metadata": {},
   "outputs": [
    {
     "ename": "ValueError",
     "evalue": "Iterable over raw text documents expected, string object received.",
     "output_type": "error",
     "traceback": [
      "\u001b[0;31m---------------------------------------------------------------------------\u001b[0m",
      "\u001b[0;31mValueError\u001b[0m                                Traceback (most recent call last)",
      "\u001b[0;32m<ipython-input-141-e6e5e8ad6906>\u001b[0m in \u001b[0;36m<module>\u001b[0;34m\u001b[0m\n\u001b[0;32m----> 1\u001b[0;31m \u001b[0mreview_vectorized\u001b[0m \u001b[0;34m=\u001b[0m \u001b[0mcv1\u001b[0m\u001b[0;34m.\u001b[0m\u001b[0mfit_transform\u001b[0m\u001b[0;34m(\u001b[0m\u001b[0mtest_review\u001b[0m\u001b[0;34m)\u001b[0m\u001b[0;34m\u001b[0m\u001b[0;34m\u001b[0m\u001b[0m\n\u001b[0m",
      "\u001b[0;32m~/opt/anaconda3/envs/metis/lib/python3.8/site-packages/sklearn/feature_extraction/text.py\u001b[0m in \u001b[0;36mfit_transform\u001b[0;34m(self, raw_documents, y)\u001b[0m\n\u001b[1;32m   1190\u001b[0m         \u001b[0;31m# TfidfVectorizer.\u001b[0m\u001b[0;34m\u001b[0m\u001b[0;34m\u001b[0m\u001b[0;34m\u001b[0m\u001b[0m\n\u001b[1;32m   1191\u001b[0m         \u001b[0;32mif\u001b[0m \u001b[0misinstance\u001b[0m\u001b[0;34m(\u001b[0m\u001b[0mraw_documents\u001b[0m\u001b[0;34m,\u001b[0m \u001b[0mstr\u001b[0m\u001b[0;34m)\u001b[0m\u001b[0;34m:\u001b[0m\u001b[0;34m\u001b[0m\u001b[0;34m\u001b[0m\u001b[0m\n\u001b[0;32m-> 1192\u001b[0;31m             raise ValueError(\n\u001b[0m\u001b[1;32m   1193\u001b[0m                 \u001b[0;34m\"Iterable over raw text documents expected, \"\u001b[0m\u001b[0;34m\u001b[0m\u001b[0;34m\u001b[0m\u001b[0m\n\u001b[1;32m   1194\u001b[0m                 \"string object received.\")\n",
      "\u001b[0;31mValueError\u001b[0m: Iterable over raw text documents expected, string object received."
     ]
    }
   ],
   "source": [
    "review_vectorized = cv1.fit_transform(test_review)"
   ]
  },
  {
   "cell_type": "code",
   "execution_count": 142,
   "id": "e1ff8ceb-b931-47c7-a385-348bf786bcaf",
   "metadata": {},
   "outputs": [
    {
     "data": {
      "text/plain": [
       "\"this is my 4th playthrough of witcher 3, played it thrice on gog. you can already see where i am going with this review. \\nsprint! yes finally! (da:inquisition still doesn't have it). drink a werewolf decoction and run like the wind. exploration is taken to another pedestal in witcher 3. you can basically ditch your adopted daughter and explore the entire kaer morhen area in the first 15 mins of the game (provided you skipped the long ass cut-scene in the start). not interested in fighting the griffin ? no problem, go ahead and do the pan quest or the other beautifully written side quests in white orchard or if you get easily intrigued, explore the questions marks on the map. these smart sneakily designed question marks encourage exploration and if you get bored of enjoying the sprint mechanic, call for roach! although that dumb broken horse gets annoying after a while. but...that's not it! white orchard is just the first big  area you are introduced to after kaer morhen. novigrad and velen together will keep you busy for another 30 hours. (this is excluding the main quest) and skellige isles, my god, i have finished 150 hours on steam and am yet to explore the question marks of that area. on top of this, get the dlc, another new area for you to explore with an additional 50 hours of gameplay, bigger than most standalone titles. \\nwitcher 3 is a game which basically tells players to do whatever the hell you want to do and do it at your own pace. no damn thing will force you to go meet this guy or go help this dude find his sheep or goat or whatever. just enjoy the spectacular environs and the mise en scene while you trot around on roach. \\n\\napart from the exploration and side quests, the skill tree provides with multiple options. if youre the kind of player who likes to use signs in combat, well...invest in the blue sign tree. if you are a player who loves to strategize with potions and oils and bombs, focus on the green alchemy tree, or if you want to be a mindless killing machine go forth with the red combat tree with some alchemy skills here and there. you can even unlock a new mutation system in the blood and wine dlc which makes geralt even more stronger. (choose euphoria, its op). and if you think sword play is getting mundane, well then go to the runewright in the hearts of stone dlc and add some badass customizations to your armour and swords. theres just too much content in witcher 3 and if you dedicatedly immerse yourself in the world, doing every side quest, reading every book/bestiary entry/character info and playing every gwent game (fuck i didnt mention gwent, just the most chillest past time of all, don't ignore it) exploring every question mark and finding all treasures, you'll probably find yourself dreaming of playing witcher 4 but......sadly reality strikes and you get depressed knowing that this was the final addition to the series. \\n\\nthe world's immersion is just exquisite, the npcs will change their behaviour based on the choices you make. the people react differently and constantly send remarks, making you realise that witchers are like lepers, not welcomed and shunned by everyone. the sheer amount of emotions which you come across are just so well created, you hate some characters (bloody baron) but then you realise that they might be the lesser evil out of the rest which allows you to draw a conclusion. you are completely immersed in geralt's shoes and the choices you make define his fate and the fate of people around him. everything comes together and ties with one another.....everything matters, from choosing the additional non critical dialogue for curiosity to later find out that it sounded cocky which results in the elder vampire killing you in an instant to the point of choosing what to wear for a formal party. the amount of detail and effort put into these minor things are just unfathomable.\\n\\nfew cons to be nit picky about would be the fast travelling *super irritating to run to every sign post*, a 6 foot drop will instantly kill geralt, unable to parkour over small obstacles while in combat get frustrating, maintaining item durability is a pain, shopkeeper dialogue options get super repetitive and need to be seen every time, wonky roach and finally wraiths...they're super annoying (not really a con but i like to mention it and also cause am running out of cons). yeah thats about all i could pick at. \\n\\nanyways, if you are wondering to whether or not to play witcher 3, i'd say stop overthinking and buy it off. its worth every penny. i highly recommend it to rpg lovers and for the newbies too, some things might be overwhelming at start, but just bare through the first 1-2 hours as you get used to the gameplay. believe me...not a game to miss.\\n\\np.s. - for those loyal witcher lovers out there, who played the entire series, you know....deep down, you know triss is the better option.\""
      ]
     },
     "execution_count": 142,
     "metadata": {},
     "output_type": "execute_result"
    }
   ],
   "source": [
    "test_review"
   ]
  },
  {
   "cell_type": "code",
   "execution_count": 149,
   "id": "e0c96914-b576-47d4-b3c9-30eb15125376",
   "metadata": {},
   "outputs": [],
   "source": [
    "for items in reviews_list:\n",
    "    items = items.lower()"
   ]
  },
  {
   "cell_type": "code",
   "execution_count": 151,
   "id": "19d54599-57b2-403b-9b41-efa21e52c457",
   "metadata": {},
   "outputs": [],
   "source": [
    "reviews_list_vectorized = cv1.fit_transform(reviews_list)"
   ]
  },
  {
   "cell_type": "code",
   "execution_count": 152,
   "id": "f2695913-15af-4631-8df3-d54e9ec2813c",
   "metadata": {},
   "outputs": [
    {
     "data": {
      "text/plain": [
       "<20x1107 sparse matrix of type '<class 'numpy.int64'>'\n",
       "\twith 1380 stored elements in Compressed Sparse Row format>"
      ]
     },
     "execution_count": 152,
     "metadata": {},
     "output_type": "execute_result"
    }
   ],
   "source": [
    "reviews_list_vectorized"
   ]
  },
  {
   "cell_type": "code",
   "execution_count": 153,
   "id": "77a69c5d-3d3a-4b7a-9001-054bdd245c20",
   "metadata": {},
   "outputs": [
    {
     "data": {
      "text/html": [
       "<div>\n",
       "<style scoped>\n",
       "    .dataframe tbody tr th:only-of-type {\n",
       "        vertical-align: middle;\n",
       "    }\n",
       "\n",
       "    .dataframe tbody tr th {\n",
       "        vertical-align: top;\n",
       "    }\n",
       "\n",
       "    .dataframe thead th {\n",
       "        text-align: right;\n",
       "    }\n",
       "</style>\n",
       "<table border=\"1\" class=\"dataframe\">\n",
       "  <thead>\n",
       "    <tr style=\"text-align: right;\">\n",
       "      <th></th>\n",
       "      <th>10</th>\n",
       "      <th>12</th>\n",
       "      <th>13</th>\n",
       "      <th>15</th>\n",
       "      <th>150</th>\n",
       "      <th>20</th>\n",
       "      <th>2008</th>\n",
       "      <th>21</th>\n",
       "      <th>23</th>\n",
       "      <th>30</th>\n",
       "      <th>...</th>\n",
       "      <th>ya</th>\n",
       "      <th>yeah</th>\n",
       "      <th>year</th>\n",
       "      <th>years</th>\n",
       "      <th>yen</th>\n",
       "      <th>yennefer</th>\n",
       "      <th>yes</th>\n",
       "      <th>youre</th>\n",
       "      <th>zdrave</th>\n",
       "      <th>zhenete</th>\n",
       "    </tr>\n",
       "  </thead>\n",
       "  <tbody>\n",
       "    <tr>\n",
       "      <th>0</th>\n",
       "      <td>0</td>\n",
       "      <td>0</td>\n",
       "      <td>0</td>\n",
       "      <td>0</td>\n",
       "      <td>0</td>\n",
       "      <td>0</td>\n",
       "      <td>0</td>\n",
       "      <td>0</td>\n",
       "      <td>0</td>\n",
       "      <td>0</td>\n",
       "      <td>...</td>\n",
       "      <td>0</td>\n",
       "      <td>0</td>\n",
       "      <td>0</td>\n",
       "      <td>0</td>\n",
       "      <td>0</td>\n",
       "      <td>0</td>\n",
       "      <td>0</td>\n",
       "      <td>0</td>\n",
       "      <td>0</td>\n",
       "      <td>0</td>\n",
       "    </tr>\n",
       "    <tr>\n",
       "      <th>1</th>\n",
       "      <td>0</td>\n",
       "      <td>0</td>\n",
       "      <td>0</td>\n",
       "      <td>0</td>\n",
       "      <td>0</td>\n",
       "      <td>0</td>\n",
       "      <td>0</td>\n",
       "      <td>0</td>\n",
       "      <td>0</td>\n",
       "      <td>0</td>\n",
       "      <td>...</td>\n",
       "      <td>0</td>\n",
       "      <td>0</td>\n",
       "      <td>0</td>\n",
       "      <td>0</td>\n",
       "      <td>0</td>\n",
       "      <td>0</td>\n",
       "      <td>0</td>\n",
       "      <td>0</td>\n",
       "      <td>0</td>\n",
       "      <td>0</td>\n",
       "    </tr>\n",
       "    <tr>\n",
       "      <th>2</th>\n",
       "      <td>0</td>\n",
       "      <td>0</td>\n",
       "      <td>0</td>\n",
       "      <td>1</td>\n",
       "      <td>1</td>\n",
       "      <td>0</td>\n",
       "      <td>0</td>\n",
       "      <td>0</td>\n",
       "      <td>0</td>\n",
       "      <td>1</td>\n",
       "      <td>...</td>\n",
       "      <td>0</td>\n",
       "      <td>1</td>\n",
       "      <td>0</td>\n",
       "      <td>0</td>\n",
       "      <td>0</td>\n",
       "      <td>0</td>\n",
       "      <td>1</td>\n",
       "      <td>1</td>\n",
       "      <td>0</td>\n",
       "      <td>0</td>\n",
       "    </tr>\n",
       "    <tr>\n",
       "      <th>3</th>\n",
       "      <td>1</td>\n",
       "      <td>1</td>\n",
       "      <td>1</td>\n",
       "      <td>0</td>\n",
       "      <td>0</td>\n",
       "      <td>1</td>\n",
       "      <td>0</td>\n",
       "      <td>1</td>\n",
       "      <td>0</td>\n",
       "      <td>0</td>\n",
       "      <td>...</td>\n",
       "      <td>0</td>\n",
       "      <td>0</td>\n",
       "      <td>1</td>\n",
       "      <td>1</td>\n",
       "      <td>0</td>\n",
       "      <td>0</td>\n",
       "      <td>0</td>\n",
       "      <td>0</td>\n",
       "      <td>0</td>\n",
       "      <td>0</td>\n",
       "    </tr>\n",
       "    <tr>\n",
       "      <th>4</th>\n",
       "      <td>0</td>\n",
       "      <td>0</td>\n",
       "      <td>0</td>\n",
       "      <td>0</td>\n",
       "      <td>0</td>\n",
       "      <td>0</td>\n",
       "      <td>0</td>\n",
       "      <td>0</td>\n",
       "      <td>0</td>\n",
       "      <td>0</td>\n",
       "      <td>...</td>\n",
       "      <td>0</td>\n",
       "      <td>0</td>\n",
       "      <td>0</td>\n",
       "      <td>0</td>\n",
       "      <td>0</td>\n",
       "      <td>0</td>\n",
       "      <td>0</td>\n",
       "      <td>0</td>\n",
       "      <td>0</td>\n",
       "      <td>0</td>\n",
       "    </tr>\n",
       "  </tbody>\n",
       "</table>\n",
       "<p>5 rows × 1107 columns</p>\n",
       "</div>"
      ],
      "text/plain": [
       "   10  12  13  15  150  20  2008  21  23  30  ...  ya  yeah  year  years  yen  \\\n",
       "0   0   0   0   0    0   0     0   0   0   0  ...   0     0     0      0    0   \n",
       "1   0   0   0   0    0   0     0   0   0   0  ...   0     0     0      0    0   \n",
       "2   0   0   0   1    1   0     0   0   0   1  ...   0     1     0      0    0   \n",
       "3   1   1   1   0    0   1     0   1   0   0  ...   0     0     1      1    0   \n",
       "4   0   0   0   0    0   0     0   0   0   0  ...   0     0     0      0    0   \n",
       "\n",
       "   yennefer  yes  youre  zdrave  zhenete  \n",
       "0         0    0      0       0        0  \n",
       "1         0    0      0       0        0  \n",
       "2         0    1      1       0        0  \n",
       "3         0    0      0       0        0  \n",
       "4         0    0      0       0        0  \n",
       "\n",
       "[5 rows x 1107 columns]"
      ]
     },
     "execution_count": 153,
     "metadata": {},
     "output_type": "execute_result"
    }
   ],
   "source": [
    "pd.DataFrame(reviews_list_vectorized.toarray(), columns=cv1.get_feature_names()).head()"
   ]
  },
  {
   "cell_type": "code",
   "execution_count": 156,
   "id": "d7ecf48d-7d8e-4067-be25-c1431028cbe3",
   "metadata": {},
   "outputs": [
    {
     "data": {
      "text/plain": [
       "20"
      ]
     },
     "execution_count": 156,
     "metadata": {},
     "output_type": "execute_result"
    }
   ],
   "source": [
    "len(reviews_list)"
   ]
  },
  {
   "cell_type": "code",
   "execution_count": 157,
   "id": "810838b9-db37-41d2-8cf0-508aefe28365",
   "metadata": {},
   "outputs": [],
   "source": [
    "import re"
   ]
  },
  {
   "cell_type": "code",
   "execution_count": 175,
   "id": "ffef61d3-de99-4314-8eac-ffae88350667",
   "metadata": {},
   "outputs": [],
   "source": [
    "#attempting to remove all numbers\n",
    "cv2 = CountVectorizer(stop_words='english', token_pattern='[a-zA-Z]+', min_df=3)"
   ]
  },
  {
   "cell_type": "code",
   "execution_count": 176,
   "id": "fda24083-ff53-4710-849c-31aa2b58ce5a",
   "metadata": {},
   "outputs": [],
   "source": [
    "reviews_vectorized2 = cv2.fit_transform(reviews_list)"
   ]
  },
  {
   "cell_type": "code",
   "execution_count": 177,
   "id": "7f8bf504-3d30-4246-81e5-0741a96acd7d",
   "metadata": {},
   "outputs": [
    {
     "data": {
      "text/html": [
       "<div>\n",
       "<style scoped>\n",
       "    .dataframe tbody tr th:only-of-type {\n",
       "        vertical-align: middle;\n",
       "    }\n",
       "\n",
       "    .dataframe tbody tr th {\n",
       "        vertical-align: top;\n",
       "    }\n",
       "\n",
       "    .dataframe thead th {\n",
       "        text-align: right;\n",
       "    }\n",
       "</style>\n",
       "<table border=\"1\" class=\"dataframe\">\n",
       "  <thead>\n",
       "    <tr style=\"text-align: right;\">\n",
       "      <th></th>\n",
       "      <th>actually</th>\n",
       "      <th>beautiful</th>\n",
       "      <th>best</th>\n",
       "      <th>better</th>\n",
       "      <th>blood</th>\n",
       "      <th>buy</th>\n",
       "      <th>characters</th>\n",
       "      <th>come</th>\n",
       "      <th>complete</th>\n",
       "      <th>don</th>\n",
       "      <th>...</th>\n",
       "      <th>time</th>\n",
       "      <th>triss</th>\n",
       "      <th>use</th>\n",
       "      <th>used</th>\n",
       "      <th>wait</th>\n",
       "      <th>wine</th>\n",
       "      <th>witcher</th>\n",
       "      <th>world</th>\n",
       "      <th>worth</th>\n",
       "      <th>yes</th>\n",
       "    </tr>\n",
       "  </thead>\n",
       "  <tbody>\n",
       "    <tr>\n",
       "      <th>0</th>\n",
       "      <td>0</td>\n",
       "      <td>0</td>\n",
       "      <td>0</td>\n",
       "      <td>0</td>\n",
       "      <td>0</td>\n",
       "      <td>0</td>\n",
       "      <td>0</td>\n",
       "      <td>0</td>\n",
       "      <td>0</td>\n",
       "      <td>0</td>\n",
       "      <td>...</td>\n",
       "      <td>0</td>\n",
       "      <td>0</td>\n",
       "      <td>0</td>\n",
       "      <td>0</td>\n",
       "      <td>0</td>\n",
       "      <td>0</td>\n",
       "      <td>0</td>\n",
       "      <td>0</td>\n",
       "      <td>0</td>\n",
       "      <td>0</td>\n",
       "    </tr>\n",
       "    <tr>\n",
       "      <th>1</th>\n",
       "      <td>0</td>\n",
       "      <td>0</td>\n",
       "      <td>0</td>\n",
       "      <td>0</td>\n",
       "      <td>0</td>\n",
       "      <td>0</td>\n",
       "      <td>0</td>\n",
       "      <td>0</td>\n",
       "      <td>1</td>\n",
       "      <td>0</td>\n",
       "      <td>...</td>\n",
       "      <td>1</td>\n",
       "      <td>0</td>\n",
       "      <td>1</td>\n",
       "      <td>0</td>\n",
       "      <td>0</td>\n",
       "      <td>0</td>\n",
       "      <td>2</td>\n",
       "      <td>0</td>\n",
       "      <td>0</td>\n",
       "      <td>0</td>\n",
       "    </tr>\n",
       "    <tr>\n",
       "      <th>2</th>\n",
       "      <td>0</td>\n",
       "      <td>0</td>\n",
       "      <td>0</td>\n",
       "      <td>1</td>\n",
       "      <td>1</td>\n",
       "      <td>1</td>\n",
       "      <td>1</td>\n",
       "      <td>1</td>\n",
       "      <td>0</td>\n",
       "      <td>1</td>\n",
       "      <td>...</td>\n",
       "      <td>2</td>\n",
       "      <td>1</td>\n",
       "      <td>1</td>\n",
       "      <td>1</td>\n",
       "      <td>0</td>\n",
       "      <td>1</td>\n",
       "      <td>7</td>\n",
       "      <td>2</td>\n",
       "      <td>1</td>\n",
       "      <td>1</td>\n",
       "    </tr>\n",
       "    <tr>\n",
       "      <th>3</th>\n",
       "      <td>1</td>\n",
       "      <td>1</td>\n",
       "      <td>0</td>\n",
       "      <td>0</td>\n",
       "      <td>0</td>\n",
       "      <td>1</td>\n",
       "      <td>0</td>\n",
       "      <td>0</td>\n",
       "      <td>1</td>\n",
       "      <td>1</td>\n",
       "      <td>...</td>\n",
       "      <td>1</td>\n",
       "      <td>0</td>\n",
       "      <td>0</td>\n",
       "      <td>0</td>\n",
       "      <td>2</td>\n",
       "      <td>0</td>\n",
       "      <td>0</td>\n",
       "      <td>0</td>\n",
       "      <td>1</td>\n",
       "      <td>0</td>\n",
       "    </tr>\n",
       "    <tr>\n",
       "      <th>4</th>\n",
       "      <td>0</td>\n",
       "      <td>0</td>\n",
       "      <td>0</td>\n",
       "      <td>0</td>\n",
       "      <td>0</td>\n",
       "      <td>0</td>\n",
       "      <td>0</td>\n",
       "      <td>0</td>\n",
       "      <td>0</td>\n",
       "      <td>0</td>\n",
       "      <td>...</td>\n",
       "      <td>0</td>\n",
       "      <td>0</td>\n",
       "      <td>0</td>\n",
       "      <td>0</td>\n",
       "      <td>0</td>\n",
       "      <td>0</td>\n",
       "      <td>0</td>\n",
       "      <td>0</td>\n",
       "      <td>0</td>\n",
       "      <td>0</td>\n",
       "    </tr>\n",
       "  </tbody>\n",
       "</table>\n",
       "<p>5 rows × 53 columns</p>\n",
       "</div>"
      ],
      "text/plain": [
       "   actually  beautiful  best  better  blood  buy  characters  come  complete  \\\n",
       "0         0          0     0       0      0    0           0     0         0   \n",
       "1         0          0     0       0      0    0           0     0         1   \n",
       "2         0          0     0       1      1    1           1     1         0   \n",
       "3         1          1     0       0      0    1           0     0         1   \n",
       "4         0          0     0       0      0    0           0     0         0   \n",
       "\n",
       "   don  ...  time  triss  use  used  wait  wine  witcher  world  worth  yes  \n",
       "0    0  ...     0      0    0     0     0     0        0      0      0    0  \n",
       "1    0  ...     1      0    1     0     0     0        2      0      0    0  \n",
       "2    1  ...     2      1    1     1     0     1        7      2      1    1  \n",
       "3    1  ...     1      0    0     0     2     0        0      0      1    0  \n",
       "4    0  ...     0      0    0     0     0     0        0      0      0    0  \n",
       "\n",
       "[5 rows x 53 columns]"
      ]
     },
     "execution_count": 177,
     "metadata": {},
     "output_type": "execute_result"
    }
   ],
   "source": [
    "pd.DataFrame(reviews_vectorized2.toarray(), columns=cv2.get_feature_names()).head()"
   ]
  },
  {
   "cell_type": "code",
   "execution_count": 174,
   "id": "bd82af3b-2900-41e4-8c8c-ea152f2da5a6",
   "metadata": {},
   "outputs": [],
   "source": [
    "from sklearn.decomposition import TruncatedSVD\n",
    "from sklearn.decomposition import NMF\n",
    "from sklearn.metrics.pairwise import cosine_similarity"
   ]
  },
  {
   "cell_type": "code",
   "execution_count": 180,
   "id": "d9c639f7-5b78-43a3-b868-359f01299961",
   "metadata": {},
   "outputs": [
    {
     "data": {
      "text/html": [
       "<div>\n",
       "<style scoped>\n",
       "    .dataframe tbody tr th:only-of-type {\n",
       "        vertical-align: middle;\n",
       "    }\n",
       "\n",
       "    .dataframe tbody tr th {\n",
       "        vertical-align: top;\n",
       "    }\n",
       "\n",
       "    .dataframe thead th {\n",
       "        text-align: right;\n",
       "    }\n",
       "</style>\n",
       "<table border=\"1\" class=\"dataframe\">\n",
       "  <thead>\n",
       "    <tr style=\"text-align: right;\">\n",
       "      <th></th>\n",
       "      <th>actually</th>\n",
       "      <th>beautiful</th>\n",
       "      <th>best</th>\n",
       "      <th>better</th>\n",
       "      <th>blood</th>\n",
       "      <th>buy</th>\n",
       "      <th>characters</th>\n",
       "      <th>come</th>\n",
       "      <th>complete</th>\n",
       "      <th>don</th>\n",
       "      <th>...</th>\n",
       "      <th>time</th>\n",
       "      <th>triss</th>\n",
       "      <th>use</th>\n",
       "      <th>used</th>\n",
       "      <th>wait</th>\n",
       "      <th>wine</th>\n",
       "      <th>witcher</th>\n",
       "      <th>world</th>\n",
       "      <th>worth</th>\n",
       "      <th>yes</th>\n",
       "    </tr>\n",
       "  </thead>\n",
       "  <tbody>\n",
       "    <tr>\n",
       "      <th>topic_1</th>\n",
       "      <td>0.071</td>\n",
       "      <td>0.041</td>\n",
       "      <td>0.040</td>\n",
       "      <td>0.037</td>\n",
       "      <td>0.038</td>\n",
       "      <td>0.049</td>\n",
       "      <td>0.173</td>\n",
       "      <td>0.051</td>\n",
       "      <td>0.043</td>\n",
       "      <td>0.103</td>\n",
       "      <td>...</td>\n",
       "      <td>0.092</td>\n",
       "      <td>0.038</td>\n",
       "      <td>0.057</td>\n",
       "      <td>0.051</td>\n",
       "      <td>0.030</td>\n",
       "      <td>0.038</td>\n",
       "      <td>0.260</td>\n",
       "      <td>0.157</td>\n",
       "      <td>0.049</td>\n",
       "      <td>0.036</td>\n",
       "    </tr>\n",
       "    <tr>\n",
       "      <th>topic_2</th>\n",
       "      <td>-0.073</td>\n",
       "      <td>-0.035</td>\n",
       "      <td>-0.017</td>\n",
       "      <td>-0.029</td>\n",
       "      <td>-0.015</td>\n",
       "      <td>-0.042</td>\n",
       "      <td>-0.125</td>\n",
       "      <td>-0.034</td>\n",
       "      <td>0.083</td>\n",
       "      <td>-0.012</td>\n",
       "      <td>...</td>\n",
       "      <td>-0.083</td>\n",
       "      <td>-0.015</td>\n",
       "      <td>-0.025</td>\n",
       "      <td>-0.034</td>\n",
       "      <td>-0.032</td>\n",
       "      <td>-0.015</td>\n",
       "      <td>-0.043</td>\n",
       "      <td>-0.061</td>\n",
       "      <td>-0.042</td>\n",
       "      <td>-0.015</td>\n",
       "    </tr>\n",
       "    <tr>\n",
       "      <th>topic_3</th>\n",
       "      <td>-0.125</td>\n",
       "      <td>-0.063</td>\n",
       "      <td>-0.056</td>\n",
       "      <td>0.045</td>\n",
       "      <td>0.054</td>\n",
       "      <td>0.030</td>\n",
       "      <td>-0.172</td>\n",
       "      <td>0.021</td>\n",
       "      <td>-0.020</td>\n",
       "      <td>-0.029</td>\n",
       "      <td>...</td>\n",
       "      <td>0.067</td>\n",
       "      <td>0.054</td>\n",
       "      <td>0.031</td>\n",
       "      <td>0.021</td>\n",
       "      <td>-0.041</td>\n",
       "      <td>0.054</td>\n",
       "      <td>0.397</td>\n",
       "      <td>-0.020</td>\n",
       "      <td>0.030</td>\n",
       "      <td>0.052</td>\n",
       "    </tr>\n",
       "    <tr>\n",
       "      <th>topic_4</th>\n",
       "      <td>-0.114</td>\n",
       "      <td>0.027</td>\n",
       "      <td>0.145</td>\n",
       "      <td>-0.067</td>\n",
       "      <td>0.070</td>\n",
       "      <td>-0.069</td>\n",
       "      <td>0.083</td>\n",
       "      <td>-0.003</td>\n",
       "      <td>-0.007</td>\n",
       "      <td>0.059</td>\n",
       "      <td>...</td>\n",
       "      <td>-0.125</td>\n",
       "      <td>0.070</td>\n",
       "      <td>0.141</td>\n",
       "      <td>-0.003</td>\n",
       "      <td>-0.028</td>\n",
       "      <td>0.070</td>\n",
       "      <td>-0.101</td>\n",
       "      <td>-0.113</td>\n",
       "      <td>-0.069</td>\n",
       "      <td>0.071</td>\n",
       "    </tr>\n",
       "    <tr>\n",
       "      <th>topic_5</th>\n",
       "      <td>0.043</td>\n",
       "      <td>0.077</td>\n",
       "      <td>-0.103</td>\n",
       "      <td>-0.012</td>\n",
       "      <td>-0.049</td>\n",
       "      <td>0.129</td>\n",
       "      <td>-0.300</td>\n",
       "      <td>-0.068</td>\n",
       "      <td>0.160</td>\n",
       "      <td>0.046</td>\n",
       "      <td>...</td>\n",
       "      <td>0.209</td>\n",
       "      <td>-0.049</td>\n",
       "      <td>-0.099</td>\n",
       "      <td>-0.068</td>\n",
       "      <td>0.258</td>\n",
       "      <td>-0.049</td>\n",
       "      <td>-0.108</td>\n",
       "      <td>-0.112</td>\n",
       "      <td>0.129</td>\n",
       "      <td>-0.053</td>\n",
       "    </tr>\n",
       "  </tbody>\n",
       "</table>\n",
       "<p>5 rows × 53 columns</p>\n",
       "</div>"
      ],
      "text/plain": [
       "         actually  beautiful   best  better  blood    buy  characters   come  \\\n",
       "topic_1     0.071      0.041  0.040   0.037  0.038  0.049       0.173  0.051   \n",
       "topic_2    -0.073     -0.035 -0.017  -0.029 -0.015 -0.042      -0.125 -0.034   \n",
       "topic_3    -0.125     -0.063 -0.056   0.045  0.054  0.030      -0.172  0.021   \n",
       "topic_4    -0.114      0.027  0.145  -0.067  0.070 -0.069       0.083 -0.003   \n",
       "topic_5     0.043      0.077 -0.103  -0.012 -0.049  0.129      -0.300 -0.068   \n",
       "\n",
       "         complete    don  ...   time  triss    use   used   wait   wine  \\\n",
       "topic_1     0.043  0.103  ...  0.092  0.038  0.057  0.051  0.030  0.038   \n",
       "topic_2     0.083 -0.012  ... -0.083 -0.015 -0.025 -0.034 -0.032 -0.015   \n",
       "topic_3    -0.020 -0.029  ...  0.067  0.054  0.031  0.021 -0.041  0.054   \n",
       "topic_4    -0.007  0.059  ... -0.125  0.070  0.141 -0.003 -0.028  0.070   \n",
       "topic_5     0.160  0.046  ...  0.209 -0.049 -0.099 -0.068  0.258 -0.049   \n",
       "\n",
       "         witcher  world  worth    yes  \n",
       "topic_1    0.260  0.157  0.049  0.036  \n",
       "topic_2   -0.043 -0.061 -0.042 -0.015  \n",
       "topic_3    0.397 -0.020  0.030  0.052  \n",
       "topic_4   -0.101 -0.113 -0.069  0.071  \n",
       "topic_5   -0.108 -0.112  0.129 -0.053  \n",
       "\n",
       "[5 rows x 53 columns]"
      ]
     },
     "execution_count": 180,
     "metadata": {},
     "output_type": "execute_result"
    }
   ],
   "source": [
    "lsa = TruncatedSVD(5)\n",
    "doc_topic = lsa.fit_transform(reviews_vectorized2)\n",
    "\n",
    "\n",
    "topic_word = pd.DataFrame(lsa.components_.round(3),\n",
    "             index = [\"topic_1\",\"topic_2\", 'topic_3', 'topic_4', 'topic_5'],\n",
    "             columns = cv2.get_feature_names())\n",
    "topic_word"
   ]
  },
  {
   "cell_type": "code",
   "execution_count": 181,
   "id": "ff457eb7-9edc-4587-8545-67da22f9d1b3",
   "metadata": {},
   "outputs": [
    {
     "data": {
      "text/plain": [
       "array([0.39705531, 0.30673345, 0.10717094, 0.07812891, 0.03634503])"
      ]
     },
     "execution_count": 181,
     "metadata": {},
     "output_type": "execute_result"
    }
   ],
   "source": [
    "lsa.explained_variance_ratio_"
   ]
  },
  {
   "cell_type": "code",
   "execution_count": 182,
   "id": "bc06652f-9200-478e-a196-8287a5e0b7f3",
   "metadata": {},
   "outputs": [],
   "source": [
    "def display_topics(model, feature_names, no_top_words, topic_names=None):\n",
    "    for ix, topic in enumerate(model.components_):\n",
    "        if not topic_names or not topic_names[ix]:\n",
    "            print(\"\\nTopic \", ix)\n",
    "        else:\n",
    "            print(\"\\nTopic: '\",topic_names[ix],\"'\")\n",
    "        print(\", \".join([feature_names[i]\n",
    "                        for i in topic.argsort()[:-no_top_words - 1:-1]]))"
   ]
  },
  {
   "cell_type": "code",
   "execution_count": 185,
   "id": "7eef9320-bcf5-4eae-958e-2f06dc4611fe",
   "metadata": {},
   "outputs": [
    {
     "name": "stdout",
     "output_type": "stream",
     "text": [
      "\n",
      "Topic  0\n",
      "geralt, game, s, witcher, t, games, just, characters, story, world, like, love, play, know, hours, don, open, explore, think, time, quests, playing, new, fun, actually, played, use, steam, need, going\n",
      "\n",
      "Topic  1\n",
      "geralt, complete, need, s, don, blood, wine, triss, stone, gwent, yes, really, effort, enjoy, best, main, masterpiece, use, thought, better, wait, going, come, used, exploring, beautiful, right, open, worth, buy\n",
      "\n",
      "Topic  2\n",
      "just, witcher, explore, hours, gwent, played, like, playing, quests, enjoy, really, time, new, effort, wine, stone, blood, triss, main, yes, know, better, need, use, worth, buy, steam, exploring, come, used\n",
      "\n",
      "Topic  3\n",
      "game, story, love, best, use, like, characters, main, yes, triss, wine, stone, blood, effort, s, don, need, explore, masterpiece, beautiful, enjoy, thought, come, used, exploring, going, playing, complete, really, gwent\n",
      "\n",
      "Topic  4\n",
      "hours, story, masterpiece, wait, time, enjoy, complete, right, buy, worth, play, fun, game, beautiful, playing, s, don, actually, played, really, geralt, quests, open, steam, like, better, gwent, main, need, blood\n"
     ]
    }
   ],
   "source": [
    "display_topics(lsa, cv2.get_feature_names(), 30)"
   ]
  },
  {
   "cell_type": "code",
   "execution_count": null,
   "id": "b8126308-a7c4-4833-933e-76dbeccb4e92",
   "metadata": {},
   "outputs": [],
   "source": []
  }
 ],
 "metadata": {
  "kernelspec": {
   "display_name": "Python [conda env:metis] *",
   "language": "python",
   "name": "conda-env-metis-py"
  },
  "language_info": {
   "codemirror_mode": {
    "name": "ipython",
    "version": 3
   },
   "file_extension": ".py",
   "mimetype": "text/x-python",
   "name": "python",
   "nbconvert_exporter": "python",
   "pygments_lexer": "ipython3",
   "version": "3.8.10"
  }
 },
 "nbformat": 4,
 "nbformat_minor": 5
}
