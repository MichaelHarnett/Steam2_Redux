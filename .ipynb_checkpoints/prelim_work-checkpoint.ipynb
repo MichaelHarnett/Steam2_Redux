{
 "cells": [
  {
   "cell_type": "code",
   "execution_count": 1,
   "id": "6a8034b3-ab80-4bef-a636-0216803bae8c",
   "metadata": {},
   "outputs": [],
   "source": [
    "from bs4 import BeautifulSoup\n",
    "import requests\n",
    "import pandas as pd\n",
    "import numpy as np\n",
    "from selenium import webdriver\n",
    "from selenium.webdriver.common.keys import Keys\n",
    "import time, os\n",
    "import json"
   ]
  },
  {
   "cell_type": "code",
   "execution_count": 3,
   "id": "06840ddc-9e0d-45dc-819f-fd93551f1517",
   "metadata": {},
   "outputs": [],
   "source": [
    "response = requests.get('http://store.steampowered.com/appreviews/240760?json=1')"
   ]
  },
  {
   "cell_type": "code",
   "execution_count": 4,
   "id": "0462370e-ee13-40fe-a988-e190ccabc758",
   "metadata": {},
   "outputs": [
    {
     "data": {
      "text/plain": [
       "<Response [200]>"
      ]
     },
     "execution_count": 4,
     "metadata": {},
     "output_type": "execute_result"
    }
   ],
   "source": [
    "response"
   ]
  },
  {
   "cell_type": "code",
   "execution_count": 9,
   "id": "9580e2c4-1e66-4a39-bab9-d3525d74f82a",
   "metadata": {},
   "outputs": [
    {
     "ename": "ValueError",
     "evalue": "Mixing dicts with non-Series may lead to ambiguous ordering.",
     "output_type": "error",
     "traceback": [
      "\u001b[0;31m---------------------------------------------------------------------------\u001b[0m",
      "\u001b[0;31mValueError\u001b[0m                                Traceback (most recent call last)",
      "\u001b[0;32m<ipython-input-9-031c61a473cc>\u001b[0m in \u001b[0;36m<module>\u001b[0;34m\u001b[0m\n\u001b[0;32m----> 1\u001b[0;31m \u001b[0mdf\u001b[0m \u001b[0;34m=\u001b[0m \u001b[0mpd\u001b[0m\u001b[0;34m.\u001b[0m\u001b[0mDataFrame\u001b[0m\u001b[0;34m(\u001b[0m\u001b[0mresponse\u001b[0m\u001b[0;34m.\u001b[0m\u001b[0mjson\u001b[0m\u001b[0;34m(\u001b[0m\u001b[0;34m)\u001b[0m\u001b[0;34m)\u001b[0m\u001b[0;34m\u001b[0m\u001b[0;34m\u001b[0m\u001b[0m\n\u001b[0m",
      "\u001b[0;32m~/opt/anaconda3/envs/metis/lib/python3.8/site-packages/pandas/core/frame.py\u001b[0m in \u001b[0;36m__init__\u001b[0;34m(self, data, index, columns, dtype, copy)\u001b[0m\n\u001b[1;32m    527\u001b[0m \u001b[0;34m\u001b[0m\u001b[0m\n\u001b[1;32m    528\u001b[0m         \u001b[0;32melif\u001b[0m \u001b[0misinstance\u001b[0m\u001b[0;34m(\u001b[0m\u001b[0mdata\u001b[0m\u001b[0;34m,\u001b[0m \u001b[0mdict\u001b[0m\u001b[0;34m)\u001b[0m\u001b[0;34m:\u001b[0m\u001b[0;34m\u001b[0m\u001b[0;34m\u001b[0m\u001b[0m\n\u001b[0;32m--> 529\u001b[0;31m             \u001b[0mmgr\u001b[0m \u001b[0;34m=\u001b[0m \u001b[0minit_dict\u001b[0m\u001b[0;34m(\u001b[0m\u001b[0mdata\u001b[0m\u001b[0;34m,\u001b[0m \u001b[0mindex\u001b[0m\u001b[0;34m,\u001b[0m \u001b[0mcolumns\u001b[0m\u001b[0;34m,\u001b[0m \u001b[0mdtype\u001b[0m\u001b[0;34m=\u001b[0m\u001b[0mdtype\u001b[0m\u001b[0;34m)\u001b[0m\u001b[0;34m\u001b[0m\u001b[0;34m\u001b[0m\u001b[0m\n\u001b[0m\u001b[1;32m    530\u001b[0m         \u001b[0;32melif\u001b[0m \u001b[0misinstance\u001b[0m\u001b[0;34m(\u001b[0m\u001b[0mdata\u001b[0m\u001b[0;34m,\u001b[0m \u001b[0mma\u001b[0m\u001b[0;34m.\u001b[0m\u001b[0mMaskedArray\u001b[0m\u001b[0;34m)\u001b[0m\u001b[0;34m:\u001b[0m\u001b[0;34m\u001b[0m\u001b[0;34m\u001b[0m\u001b[0m\n\u001b[1;32m    531\u001b[0m             \u001b[0;32mimport\u001b[0m \u001b[0mnumpy\u001b[0m\u001b[0;34m.\u001b[0m\u001b[0mma\u001b[0m\u001b[0;34m.\u001b[0m\u001b[0mmrecords\u001b[0m \u001b[0;32mas\u001b[0m \u001b[0mmrecords\u001b[0m\u001b[0;34m\u001b[0m\u001b[0;34m\u001b[0m\u001b[0m\n",
      "\u001b[0;32m~/opt/anaconda3/envs/metis/lib/python3.8/site-packages/pandas/core/internals/construction.py\u001b[0m in \u001b[0;36minit_dict\u001b[0;34m(data, index, columns, dtype)\u001b[0m\n\u001b[1;32m    285\u001b[0m             \u001b[0marr\u001b[0m \u001b[0;32mif\u001b[0m \u001b[0;32mnot\u001b[0m \u001b[0mis_datetime64tz_dtype\u001b[0m\u001b[0;34m(\u001b[0m\u001b[0marr\u001b[0m\u001b[0;34m)\u001b[0m \u001b[0;32melse\u001b[0m \u001b[0marr\u001b[0m\u001b[0;34m.\u001b[0m\u001b[0mcopy\u001b[0m\u001b[0;34m(\u001b[0m\u001b[0;34m)\u001b[0m \u001b[0;32mfor\u001b[0m \u001b[0marr\u001b[0m \u001b[0;32min\u001b[0m \u001b[0marrays\u001b[0m\u001b[0;34m\u001b[0m\u001b[0;34m\u001b[0m\u001b[0m\n\u001b[1;32m    286\u001b[0m         ]\n\u001b[0;32m--> 287\u001b[0;31m     \u001b[0;32mreturn\u001b[0m \u001b[0marrays_to_mgr\u001b[0m\u001b[0;34m(\u001b[0m\u001b[0marrays\u001b[0m\u001b[0;34m,\u001b[0m \u001b[0mdata_names\u001b[0m\u001b[0;34m,\u001b[0m \u001b[0mindex\u001b[0m\u001b[0;34m,\u001b[0m \u001b[0mcolumns\u001b[0m\u001b[0;34m,\u001b[0m \u001b[0mdtype\u001b[0m\u001b[0;34m=\u001b[0m\u001b[0mdtype\u001b[0m\u001b[0;34m)\u001b[0m\u001b[0;34m\u001b[0m\u001b[0;34m\u001b[0m\u001b[0m\n\u001b[0m\u001b[1;32m    288\u001b[0m \u001b[0;34m\u001b[0m\u001b[0m\n\u001b[1;32m    289\u001b[0m \u001b[0;34m\u001b[0m\u001b[0m\n",
      "\u001b[0;32m~/opt/anaconda3/envs/metis/lib/python3.8/site-packages/pandas/core/internals/construction.py\u001b[0m in \u001b[0;36marrays_to_mgr\u001b[0;34m(arrays, arr_names, index, columns, dtype, verify_integrity)\u001b[0m\n\u001b[1;32m     78\u001b[0m         \u001b[0;31m# figure out the index, if necessary\u001b[0m\u001b[0;34m\u001b[0m\u001b[0;34m\u001b[0m\u001b[0;34m\u001b[0m\u001b[0m\n\u001b[1;32m     79\u001b[0m         \u001b[0;32mif\u001b[0m \u001b[0mindex\u001b[0m \u001b[0;32mis\u001b[0m \u001b[0;32mNone\u001b[0m\u001b[0;34m:\u001b[0m\u001b[0;34m\u001b[0m\u001b[0;34m\u001b[0m\u001b[0m\n\u001b[0;32m---> 80\u001b[0;31m             \u001b[0mindex\u001b[0m \u001b[0;34m=\u001b[0m \u001b[0mextract_index\u001b[0m\u001b[0;34m(\u001b[0m\u001b[0marrays\u001b[0m\u001b[0;34m)\u001b[0m\u001b[0;34m\u001b[0m\u001b[0;34m\u001b[0m\u001b[0m\n\u001b[0m\u001b[1;32m     81\u001b[0m         \u001b[0;32melse\u001b[0m\u001b[0;34m:\u001b[0m\u001b[0;34m\u001b[0m\u001b[0;34m\u001b[0m\u001b[0m\n\u001b[1;32m     82\u001b[0m             \u001b[0mindex\u001b[0m \u001b[0;34m=\u001b[0m \u001b[0mensure_index\u001b[0m\u001b[0;34m(\u001b[0m\u001b[0mindex\u001b[0m\u001b[0;34m)\u001b[0m\u001b[0;34m\u001b[0m\u001b[0;34m\u001b[0m\u001b[0m\n",
      "\u001b[0;32m~/opt/anaconda3/envs/metis/lib/python3.8/site-packages/pandas/core/internals/construction.py\u001b[0m in \u001b[0;36mextract_index\u001b[0;34m(data)\u001b[0m\n\u001b[1;32m    402\u001b[0m \u001b[0;34m\u001b[0m\u001b[0m\n\u001b[1;32m    403\u001b[0m             \u001b[0;32mif\u001b[0m \u001b[0mhave_dicts\u001b[0m\u001b[0;34m:\u001b[0m\u001b[0;34m\u001b[0m\u001b[0;34m\u001b[0m\u001b[0m\n\u001b[0;32m--> 404\u001b[0;31m                 raise ValueError(\n\u001b[0m\u001b[1;32m    405\u001b[0m                     \u001b[0;34m\"Mixing dicts with non-Series may lead to ambiguous ordering.\"\u001b[0m\u001b[0;34m\u001b[0m\u001b[0;34m\u001b[0m\u001b[0m\n\u001b[1;32m    406\u001b[0m                 )\n",
      "\u001b[0;31mValueError\u001b[0m: Mixing dicts with non-Series may lead to ambiguous ordering."
     ]
    }
   ],
   "source": [
    "df = pd.DataFrame(response.json())"
   ]
  },
  {
   "cell_type": "code",
   "execution_count": 10,
   "id": "c50fcca9-4da6-4a73-9e22-0d00558da0f6",
   "metadata": {},
   "outputs": [
    {
     "data": {
      "text/plain": [
       "{'success': 1,\n",
       " 'query_summary': {'num_reviews': 3,\n",
       "  'review_score': 8,\n",
       "  'review_score_desc': 'Very Positive',\n",
       "  'total_positive': 2467,\n",
       "  'total_negative': 559,\n",
       "  'total_reviews': 3026},\n",
       " 'reviews': [{'recommendationid': '93179222',\n",
       "   'author': {'steamid': '76561197991991243',\n",
       "    'num_games_owned': 281,\n",
       "    'num_reviews': 2,\n",
       "    'playtime_forever': 3632,\n",
       "    'playtime_last_two_weeks': 0,\n",
       "    'playtime_at_review': 3632,\n",
       "    'last_played': 1445238679},\n",
       "   'language': 'english',\n",
       "   'review': 'The mechanics of the game are way too visible to the player and it ruins immersion.   Basically every map is:  if you go left you need 7 lockpick skill to pass, go right for a 6 hack check, go straight for traps that need level 4 skill to disarm.  It\\'s fine to have skill checks like this but they should be hidden behind the scenes and masked by the story and atmosphere.  You aren\\'t going left because it has a lockpick 7 option, you are going left to help the help the princess.  You are going right to fight the dragon, not to use the level 8 hack check. \\n\\nThe characters attributes make no sense either.  Why is the best melee fighter build not prioritizing all the physical stats over mental?   \\n\\nYour characters dont have personality and archetypes like in other RPG games.  The dumb but strong tank, the quick but physically weak rogue/sniper, the smart tech user guy.   They are just carriers for passing various skill checks that have seemingly nonsensical stat point distributions.   \\n\\nI hate constantly thinking about how this map requires skill 7 hack, skill 6 lockpick, and skill 4 disarm to 100% clear.  \"I just need to gain +2 levels in hacking and +1 level in traps to finish this map\".    Instead I should be thinking:  \"Oh nice I think I can rescue the princess if I go to this map and convince the black knight to help me create a diversion.  That should distract the dragon enough for me to save her!\".  Instead its just numbers:   skill >6 = win.   Skill <6= lose.',\n",
       "   'timestamp_created': 1622825558,\n",
       "   'timestamp_updated': 1622825558,\n",
       "   'voted_up': False,\n",
       "   'votes_up': 5,\n",
       "   'votes_funny': 1,\n",
       "   'weighted_vote_score': '0.587211668491363525',\n",
       "   'comment_count': 0,\n",
       "   'steam_purchase': True,\n",
       "   'received_for_free': False,\n",
       "   'written_during_early_access': False},\n",
       "  {'recommendationid': '92653017',\n",
       "   'author': {'steamid': '76561198068070074',\n",
       "    'num_games_owned': 160,\n",
       "    'num_reviews': 8,\n",
       "    'playtime_forever': 486,\n",
       "    'playtime_last_two_weeks': 0,\n",
       "    'playtime_at_review': 486,\n",
       "    'last_played': 1423934736},\n",
       "   'language': 'english',\n",
       "   'review': 'I should find this really fun to play, I loved Wasteland 3 but... oh my god, that mission in the ag center is the worst thing possible. The most interesting post-apocaliptic world every created since Fallout and we waste hours of gameplay dodging exploding pods...\\n\\nWhy is one of the first missions of the game a hell of a test for your patience?',\n",
       "   'timestamp_created': 1622082335,\n",
       "   'timestamp_updated': 1622082335,\n",
       "   'voted_up': False,\n",
       "   'votes_up': 5,\n",
       "   'votes_funny': 1,\n",
       "   'weighted_vote_score': '0.56370389461517334',\n",
       "   'comment_count': 0,\n",
       "   'steam_purchase': True,\n",
       "   'received_for_free': False,\n",
       "   'written_during_early_access': False},\n",
       "  {'recommendationid': '93139696',\n",
       "   'author': {'steamid': '76561198004733164',\n",
       "    'num_games_owned': 672,\n",
       "    'num_reviews': 62,\n",
       "    'playtime_forever': 2954,\n",
       "    'playtime_last_two_weeks': 240,\n",
       "    'playtime_at_review': 2954,\n",
       "    'last_played': 1622765981},\n",
       "   'language': 'english',\n",
       "   'review': 'A real throwback game. \\n\\nA lot of fun elements and some inconveniences. \\n\\nFirst open world, where you choices seem to matter. They change the game, and you can even fuck things up in your game so bad it can stunt you from finishing it. \\n\\nGood Parts:\\n-Lots to do. \\n-Large story and lots of characters\\n-Choices matter\\n-Multiple endings = more replayability\\n-More stuff\\n\\nThe bad parts\\n-Not very optimized. Really chugged on my computer\\n-Lots of dialogue. Even more than I wanted to read\\n-Difficult at start. I actually turned it to easy for the play through\\n-Tutorial really does not prepare you\\n\\nAnyway, if you liked games from the late 90s like Fallout it could float your boat.',\n",
       "   'timestamp_created': 1622768764,\n",
       "   'timestamp_updated': 1622768764,\n",
       "   'voted_up': True,\n",
       "   'votes_up': 1,\n",
       "   'votes_funny': 0,\n",
       "   'weighted_vote_score': '0.523809552192687988',\n",
       "   'comment_count': 0,\n",
       "   'steam_purchase': True,\n",
       "   'received_for_free': False,\n",
       "   'written_during_early_access': False}],\n",
       " 'cursor': 'AoIIPwYYanCvpuMC'}"
      ]
     },
     "execution_count": 10,
     "metadata": {},
     "output_type": "execute_result"
    }
   ],
   "source": [
    "response.json()"
   ]
  },
  {
   "cell_type": "code",
   "execution_count": null,
   "id": "0639a83f-222b-4681-9bea-678611d486f1",
   "metadata": {},
   "outputs": [],
   "source": []
  }
 ],
 "metadata": {
  "kernelspec": {
   "display_name": "Python [conda env:metis] *",
   "language": "python",
   "name": "conda-env-metis-py"
  },
  "language_info": {
   "codemirror_mode": {
    "name": "ipython",
    "version": 3
   },
   "file_extension": ".py",
   "mimetype": "text/x-python",
   "name": "python",
   "nbconvert_exporter": "python",
   "pygments_lexer": "ipython3",
   "version": "3.8.10"
  }
 },
 "nbformat": 4,
 "nbformat_minor": 5
}
