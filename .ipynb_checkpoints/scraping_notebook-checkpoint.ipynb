{
 "cells": [
  {
   "cell_type": "code",
   "execution_count": 2,
   "id": "1349e891-4a6d-4b6c-bc02-4d2438b2566a",
   "metadata": {},
   "outputs": [],
   "source": [
    "from bs4 import BeautifulSoup\n",
    "import requests\n",
    "import pandas as pd\n",
    "import numpy as np\n",
    "import json"
   ]
  },
  {
   "cell_type": "markdown",
   "id": "b6f13eea-bf4a-47b2-9ef0-dd57b977bc4d",
   "metadata": {},
   "source": [
    "# Scraping Notebook\n",
    "This notebook is used to scrape and compile all data needed for the project. First, it will scrape the top 15 games of each genre from steampowered.com with their game id's, then use those ids to gather review data from SteamWorks API"
   ]
  },
  {
   "cell_type": "code",
   "execution_count": 27,
   "id": "ff359dd7-3d76-4499-a4a5-48787e74d82a",
   "metadata": {},
   "outputs": [],
   "source": [
    "# Gathering 15 games and id numbers from each genre\n",
    "\n",
    "#each url is formatted the same for the top rated games, so creating a list of the genres to cycle through\n",
    "genre_list = ['Action', 'Adventure', 'Casual', 'Indie', 'Massively%20Multiplayer',\n",
    "             'Racing', 'RPG','Simulation', 'Sports', 'Strategy' ]\n",
    "\n",
    "total_list = []\n",
    "games = {}\n",
    "#cycle through each genre\n",
    "for genre in genre_list:\n",
    "    response = requests.get('https://store.steampowered.com/tags/en/{}/#p=0&tab=TopRated'.format(genre))\n",
    "    page = response.text\n",
    "    soup = BeautifulSoup(page, 'html5lib')\n",
    "    table = soup.find('div', id = 'TopRatedRows')\n",
    "    rows = [row for row in table.find_all('a')]\n",
    "    \n",
    "    #for each genre, get the 15 titles and ids\n",
    "    for row in rows:\n",
    "        title = (row.find(class_='tab_item_name').text)\n",
    "        app_id = row.get('href').split('/')[4]\n",
    "    \n",
    "        games[title] = (genre, app_id)\n",
    "    \n",
    "    "
   ]
  },
  {
   "cell_type": "code",
   "execution_count": 29,
   "id": "880b93b8-c06b-4ba9-af67-3c9a4c365419",
   "metadata": {},
   "outputs": [
    {
     "data": {
      "text/plain": [
       "125"
      ]
     },
     "execution_count": 29,
     "metadata": {},
     "output_type": "execute_result"
    }
   ],
   "source": [
    "len(games)"
   ]
  },
  {
   "cell_type": "code",
   "execution_count": 33,
   "id": "0561be26-8933-492d-a6a0-706118dbe4dd",
   "metadata": {},
   "outputs": [
    {
     "data": {
      "text/plain": [
       "{'Counter-Strike: Global Offensive': ('Action', '730'),\n",
       " 'Grand Theft Auto V': ('Action', '271590'),\n",
       " \"Tom Clancy's Rainbow Six® Siege\": ('Action', '359550'),\n",
       " 'Left 4 Dead 2': ('Action', '550'),\n",
       " 'Warframe': ('Action', '230410'),\n",
       " 'Portal 2': ('Action', '620'),\n",
       " 'Borderlands 2': ('RPG', '49520'),\n",
       " 'PAYDAY 2': ('Action', '218620'),\n",
       " 'Hades': ('RPG', '1145360'),\n",
       " 'Counter-Strike': ('Action', '10'),\n",
       " 'Dying Light': ('Action', '239140'),\n",
       " 'Destiny 2': ('Action', '1085660'),\n",
       " 'Tomb Raider': ('Adventure', '203160'),\n",
       " 'Risk of Rain 2': ('Action', '632360'),\n",
       " 'Counter-Strike: Source': ('Action', '240'),\n",
       " 'Terraria': ('Adventure', '105600'),\n",
       " 'The Witcher® 3: Wild Hunt': ('RPG', '292030'),\n",
       " 'The Forest': ('Adventure', '242760'),\n",
       " 'ARK: Survival Evolved': ('Adventure', '346110'),\n",
       " 'Red Dead Redemption 2': ('Adventure', '1174180'),\n",
       " 'Slime Rancher': ('Adventure', '433340'),\n",
       " 'Sea of Thieves': ('Adventure', '1172620'),\n",
       " 'Totally Accurate Battle Simulator': ('Simulation', '508440'),\n",
       " \"Don't Starve\": ('Indie', '219740'),\n",
       " 'Castle Crashers®': ('Adventure', '204360'),\n",
       " 'Rise of the Tomb Raider™': ('Adventure', '391220'),\n",
       " 'Half-Life: Alyx': ('Adventure', '546560'),\n",
       " 'Ori and the Will of the Wisps': ('Adventure', '1057090'),\n",
       " 'Yakuza: Like a Dragon': ('Adventure', '1235140'),\n",
       " 'Brawlhalla': ('Casual', '291550'),\n",
       " 'Plants vs. Zombies GOTY Edition': ('Strategy', '3590'),\n",
       " 'Peggle Deluxe': ('Casual', '3480'),\n",
       " 'Insaniquarium Deluxe': ('Casual', '3320'),\n",
       " 'Game Dev Tycoon': ('Simulation', '239820'),\n",
       " 'Muse Dash': ('Casual', '774171'),\n",
       " 'Senren＊Banka': ('Casual', '1144400'),\n",
       " 'Bejeweled® 3': ('Casual', '78000'),\n",
       " 'PowerWash Simulator': ('Casual', '1290000'),\n",
       " 'Super Animal Royale': ('Massively%20Multiplayer', '843380'),\n",
       " 'There Is No Game: Wrong Dimension': ('Casual', '1240210'),\n",
       " 'The Jackbox Party Pack 6': ('Casual', '1005300'),\n",
       " 'Golf With Your Friends': ('Sports', '431240'),\n",
       " 'VA-11 Hall-A: Cyberpunk Bartender Action': ('Casual', '447530'),\n",
       " 'Kind Words (lo fi chill beats to write to)': ('Casual', '1070710'),\n",
       " 'The Binding of Isaac: Rebirth': ('Indie', '250900'),\n",
       " 'Hollow Knight': ('Indie', '367520'),\n",
       " 'Undertale': ('RPG', '391540'),\n",
       " 'Papers, Please': ('Simulation', '239030'),\n",
       " 'Dead Cells': ('Indie', '588650'),\n",
       " 'FTL: Faster Than Light': ('Indie', '212680'),\n",
       " 'Beat Saber': ('Indie', '620980'),\n",
       " 'Grimm': ('Indie', '252150'),\n",
       " 'Helltaker': ('Indie', '1289310'),\n",
       " 'To the Moon': ('Indie', '206440'),\n",
       " 'The Binding of Isaac': ('Indie', '113200'),\n",
       " 'The Elder Scrolls® Online': ('RPG', '306130'),\n",
       " 'VRChat': ('Massively%20Multiplayer', '438100'),\n",
       " 'PlanetSide 2': ('Massively%20Multiplayer', '218230'),\n",
       " 'FINAL FANTASY XIV Online': ('Massively%20Multiplayer', '39210'),\n",
       " 'Trove': ('Massively%20Multiplayer', '304050'),\n",
       " 'Realm of the Mad God Exalt': ('Massively%20Multiplayer', '200210'),\n",
       " 'Totally Accurate Battlegrounds': ('Massively%20Multiplayer', '823130'),\n",
       " 'Lost Ark': ('Massively%20Multiplayer', '1599340'),\n",
       " 'RuneScape ®': ('Massively%20Multiplayer', '1343400'),\n",
       " 'CarX Drift Racing Online': ('Sports', '635260'),\n",
       " 'The Isle': ('Massively%20Multiplayer', '376210'),\n",
       " 'DRAGON BALL XENOVERSE 2': ('Massively%20Multiplayer', '454650'),\n",
       " 'STAR WARS™: The Old Republic™': ('Massively%20Multiplayer', '1286830'),\n",
       " 'The Lord of the Rings Online™': ('Massively%20Multiplayer', '212500'),\n",
       " 'Assetto Corsa': ('Racing', '244210'),\n",
       " 'BeamNG.drive': ('Simulation', '284160'),\n",
       " 'F1® 2020': ('Sports', '1080110'),\n",
       " 'The Crew™ 2': ('Racing', '646910'),\n",
       " 'Descenders': ('Sports', '681280'),\n",
       " 'Sonic & All-Stars Racing Transformed Collection': ('Racing', '212480'),\n",
       " 'DiRT Rally 2.0': ('Sports', '690790'),\n",
       " 'Project CARS 2': ('Racing', '378860'),\n",
       " 'Wreckfest': ('Racing', '228380'),\n",
       " 'Assetto Corsa Competizione': ('Racing', '805550'),\n",
       " 'FlatOut 2™': ('Racing', '2990'),\n",
       " 'DiRT Rally': ('Racing', '310560'),\n",
       " 'Horizon Chase Turbo': ('Racing', '389140'),\n",
       " 'iRacing': ('Racing', '266410'),\n",
       " 'Stardew Valley': ('Simulation', '413150'),\n",
       " 'Fallout: New Vegas': ('RPG', '22380'),\n",
       " 'Mount & Blade: Warband': ('Strategy', '48700'),\n",
       " 'DARK SOULS™ III': ('RPG', '374320'),\n",
       " 'Divinity: Original Sin 2 - Definitive Edition': ('RPG', '435150'),\n",
       " 'South Park™: The Stick of Truth™': ('RPG', '213670'),\n",
       " 'Monster Hunter: World': ('RPG', '582010'),\n",
       " 'The Elder Scrolls IV: Oblivion® Game of the Year Edition': ('RPG', '22330'),\n",
       " 'The Elder Scrolls V: Skyrim Special Edition': ('RPG', '489830'),\n",
       " 'Mount & Blade II: Bannerlord': ('Strategy', '261550'),\n",
       " 'Euro Truck Simulator 2': ('Simulation', '227300'),\n",
       " 'American Truck Simulator': ('Simulation', '270880'),\n",
       " 'Cities: Skylines': ('Simulation', '255710'),\n",
       " 'War Thunder': ('Simulation', '236390'),\n",
       " 'Arma 3': ('Simulation', '107410'),\n",
       " 'Kerbal Space Program': ('Simulation', '220200'),\n",
       " 'People Playground': ('Simulation', '1118200'),\n",
       " 'Dyson Sphere Program': ('Simulation', '1366540'),\n",
       " 'Farming Simulator 19': ('Simulation', '787860'),\n",
       " 'Car Mechanic Simulator 2018': ('Simulation', '645630'),\n",
       " 'Steep™': ('Sports', '460920'),\n",
       " 'Football Manager 2021': ('Sports', '1263850'),\n",
       " 'Lethal League Blaze': ('Sports', '553310'),\n",
       " 'The Thrill of the Fight - VR Boxing': ('Sports', '494150'),\n",
       " 'Eleven Table Tennis': ('Sports', '488310'),\n",
       " 'PGA TOUR 2K21': ('Sports', '1016120'),\n",
       " 'DJMAX RESPECT V': ('Sports', '960170'),\n",
       " 'art of rally': ('Sports', '550320'),\n",
       " 'Mount Your Friends': ('Sports', '296470'),\n",
       " 'Ultimate Fishing Simulator': ('Sports', '468920'),\n",
       " 'Dota 2': ('Strategy', '570'),\n",
       " \"Sid Meier's Civilization® V\": ('Strategy', '8930'),\n",
       " 'Bloons TD 6': ('Strategy', '960090'),\n",
       " 'Age of Empires II (2013)': ('Strategy', '221380'),\n",
       " 'RimWorld': ('Strategy', '294100'),\n",
       " 'Age of Empires II: Definitive Edition': ('Strategy', '813780'),\n",
       " 'Sid Meier’s Civilization® VI': ('Strategy', '289070'),\n",
       " 'Factorio': ('Strategy', '427520'),\n",
       " 'Total War: WARHAMMER II': ('Strategy', '594570'),\n",
       " 'Hearts of Iron IV': ('Strategy', '394360'),\n",
       " 'STAR WARS™ Empire at War - Gold Pack': ('Strategy', '32470'),\n",
       " 'Slay the Spire': ('Strategy', '646570')}"
      ]
     },
     "execution_count": 33,
     "metadata": {},
     "output_type": "execute_result"
    }
   ],
   "source": [
    "#games is a dictionary, with game titles as keys, and rpg and gameid as values\n",
    "\n",
    "games"
   ]
  },
  {
   "cell_type": "code",
   "execution_count": 37,
   "id": "b587667c-781f-4a43-bb5e-94d6635cf8ef",
   "metadata": {},
   "outputs": [],
   "source": [
    "df = pd.DataFrame(games).T"
   ]
  },
  {
   "cell_type": "code",
   "execution_count": 41,
   "id": "86ef66e6-2f9d-40b5-b988-a4d5f563ef68",
   "metadata": {},
   "outputs": [
    {
     "data": {
      "text/html": [
       "<div>\n",
       "<style scoped>\n",
       "    .dataframe tbody tr th:only-of-type {\n",
       "        vertical-align: middle;\n",
       "    }\n",
       "\n",
       "    .dataframe tbody tr th {\n",
       "        vertical-align: top;\n",
       "    }\n",
       "\n",
       "    .dataframe thead th {\n",
       "        text-align: right;\n",
       "    }\n",
       "</style>\n",
       "<table border=\"1\" class=\"dataframe\">\n",
       "  <thead>\n",
       "    <tr style=\"text-align: right;\">\n",
       "      <th></th>\n",
       "      <th>0</th>\n",
       "      <th>1</th>\n",
       "    </tr>\n",
       "  </thead>\n",
       "  <tbody>\n",
       "    <tr>\n",
       "      <th>Counter-Strike: Global Offensive</th>\n",
       "      <td>Action</td>\n",
       "      <td>730</td>\n",
       "    </tr>\n",
       "    <tr>\n",
       "      <th>Grand Theft Auto V</th>\n",
       "      <td>Action</td>\n",
       "      <td>271590</td>\n",
       "    </tr>\n",
       "    <tr>\n",
       "      <th>Tom Clancy's Rainbow Six® Siege</th>\n",
       "      <td>Action</td>\n",
       "      <td>359550</td>\n",
       "    </tr>\n",
       "    <tr>\n",
       "      <th>Left 4 Dead 2</th>\n",
       "      <td>Action</td>\n",
       "      <td>550</td>\n",
       "    </tr>\n",
       "    <tr>\n",
       "      <th>Warframe</th>\n",
       "      <td>Action</td>\n",
       "      <td>230410</td>\n",
       "    </tr>\n",
       "    <tr>\n",
       "      <th>...</th>\n",
       "      <td>...</td>\n",
       "      <td>...</td>\n",
       "    </tr>\n",
       "    <tr>\n",
       "      <th>Factorio</th>\n",
       "      <td>Strategy</td>\n",
       "      <td>427520</td>\n",
       "    </tr>\n",
       "    <tr>\n",
       "      <th>Total War: WARHAMMER II</th>\n",
       "      <td>Strategy</td>\n",
       "      <td>594570</td>\n",
       "    </tr>\n",
       "    <tr>\n",
       "      <th>Hearts of Iron IV</th>\n",
       "      <td>Strategy</td>\n",
       "      <td>394360</td>\n",
       "    </tr>\n",
       "    <tr>\n",
       "      <th>STAR WARS™ Empire at War - Gold Pack</th>\n",
       "      <td>Strategy</td>\n",
       "      <td>32470</td>\n",
       "    </tr>\n",
       "    <tr>\n",
       "      <th>Slay the Spire</th>\n",
       "      <td>Strategy</td>\n",
       "      <td>646570</td>\n",
       "    </tr>\n",
       "  </tbody>\n",
       "</table>\n",
       "<p>125 rows × 2 columns</p>\n",
       "</div>"
      ],
      "text/plain": [
       "                                             0       1\n",
       "Counter-Strike: Global Offensive        Action     730\n",
       "Grand Theft Auto V                      Action  271590\n",
       "Tom Clancy's Rainbow Six® Siege         Action  359550\n",
       "Left 4 Dead 2                           Action     550\n",
       "Warframe                                Action  230410\n",
       "...                                        ...     ...\n",
       "Factorio                              Strategy  427520\n",
       "Total War: WARHAMMER II               Strategy  594570\n",
       "Hearts of Iron IV                     Strategy  394360\n",
       "STAR WARS™ Empire at War - Gold Pack  Strategy   32470\n",
       "Slay the Spire                        Strategy  646570\n",
       "\n",
       "[125 rows x 2 columns]"
      ]
     },
     "execution_count": 41,
     "metadata": {},
     "output_type": "execute_result"
    }
   ],
   "source": [
    "df"
   ]
  },
  {
   "cell_type": "code",
   "execution_count": 42,
   "id": "2756824d-23cc-4b54-84f8-8987e6345d74",
   "metadata": {},
   "outputs": [
    {
     "name": "stdout",
     "output_type": "stream",
     "text": [
      "<class 'pandas.core.frame.DataFrame'>\n",
      "Index: 125 entries, Counter-Strike: Global Offensive to Slay the Spire\n",
      "Data columns (total 2 columns):\n",
      " #   Column  Non-Null Count  Dtype \n",
      "---  ------  --------------  ----- \n",
      " 0   0       125 non-null    object\n",
      " 1   1       125 non-null    object\n",
      "dtypes: object(2)\n",
      "memory usage: 2.9+ KB\n"
     ]
    }
   ],
   "source": [
    "df.info()"
   ]
  },
  {
   "cell_type": "code",
   "execution_count": 46,
   "id": "0239ebb2-1c62-4b04-bb28-ecb88d009285",
   "metadata": {},
   "outputs": [
    {
     "data": {
      "text/plain": [
       "Sports                     15\n",
       "Strategy                   15\n",
       "Simulation                 15\n",
       "Massively%20Multiplayer    13\n",
       "RPG                        12\n",
       "Adventure                  12\n",
       "Action                     12\n",
       "Casual                     11\n",
       "Indie                      10\n",
       "Racing                     10\n",
       "Name: 0, dtype: int64"
      ]
     },
     "execution_count": 46,
     "metadata": {},
     "output_type": "execute_result"
    }
   ],
   "source": [
    "df[0].value_counts()"
   ]
  },
  {
   "cell_type": "code",
   "execution_count": 48,
   "id": "a25f1ca1-5152-4e18-b058-3ac17f26fddb",
   "metadata": {},
   "outputs": [
    {
     "data": {
      "text/html": [
       "<div>\n",
       "<style scoped>\n",
       "    .dataframe tbody tr th:only-of-type {\n",
       "        vertical-align: middle;\n",
       "    }\n",
       "\n",
       "    .dataframe tbody tr th {\n",
       "        vertical-align: top;\n",
       "    }\n",
       "\n",
       "    .dataframe thead th {\n",
       "        text-align: right;\n",
       "    }\n",
       "</style>\n",
       "<table border=\"1\" class=\"dataframe\">\n",
       "  <thead>\n",
       "    <tr style=\"text-align: right;\">\n",
       "      <th></th>\n",
       "      <th>0</th>\n",
       "      <th>1</th>\n",
       "    </tr>\n",
       "  </thead>\n",
       "  <tbody>\n",
       "    <tr>\n",
       "      <th>Don't Starve</th>\n",
       "      <td>Indie</td>\n",
       "      <td>219740</td>\n",
       "    </tr>\n",
       "    <tr>\n",
       "      <th>The Binding of Isaac: Rebirth</th>\n",
       "      <td>Indie</td>\n",
       "      <td>250900</td>\n",
       "    </tr>\n",
       "    <tr>\n",
       "      <th>Hollow Knight</th>\n",
       "      <td>Indie</td>\n",
       "      <td>367520</td>\n",
       "    </tr>\n",
       "    <tr>\n",
       "      <th>Dead Cells</th>\n",
       "      <td>Indie</td>\n",
       "      <td>588650</td>\n",
       "    </tr>\n",
       "    <tr>\n",
       "      <th>FTL: Faster Than Light</th>\n",
       "      <td>Indie</td>\n",
       "      <td>212680</td>\n",
       "    </tr>\n",
       "    <tr>\n",
       "      <th>Beat Saber</th>\n",
       "      <td>Indie</td>\n",
       "      <td>620980</td>\n",
       "    </tr>\n",
       "    <tr>\n",
       "      <th>Grimm</th>\n",
       "      <td>Indie</td>\n",
       "      <td>252150</td>\n",
       "    </tr>\n",
       "    <tr>\n",
       "      <th>Helltaker</th>\n",
       "      <td>Indie</td>\n",
       "      <td>1289310</td>\n",
       "    </tr>\n",
       "    <tr>\n",
       "      <th>To the Moon</th>\n",
       "      <td>Indie</td>\n",
       "      <td>206440</td>\n",
       "    </tr>\n",
       "    <tr>\n",
       "      <th>The Binding of Isaac</th>\n",
       "      <td>Indie</td>\n",
       "      <td>113200</td>\n",
       "    </tr>\n",
       "  </tbody>\n",
       "</table>\n",
       "</div>"
      ],
      "text/plain": [
       "                                   0        1\n",
       "Don't Starve                   Indie   219740\n",
       "The Binding of Isaac: Rebirth  Indie   250900\n",
       "Hollow Knight                  Indie   367520\n",
       "Dead Cells                     Indie   588650\n",
       "FTL: Faster Than Light         Indie   212680\n",
       "Beat Saber                     Indie   620980\n",
       "Grimm                          Indie   252150\n",
       "Helltaker                      Indie  1289310\n",
       "To the Moon                    Indie   206440\n",
       "The Binding of Isaac           Indie   113200"
      ]
     },
     "execution_count": 48,
     "metadata": {},
     "output_type": "execute_result"
    }
   ],
   "source": [
    "df[df[0] == \"Indie\"]"
   ]
  },
  {
   "cell_type": "markdown",
   "id": "4c677ec0-00c8-4d1e-aa42-f98dabcd4dcc",
   "metadata": {},
   "source": [
    "# Pulling reviews for each game\n",
    "each api pull retrieves 20 commens, but adding the cursor from the first pull, it will take the next 20. This will get 40 reviews per game."
   ]
  },
  {
   "cell_type": "code",
   "execution_count": 73,
   "id": "fb388583-b539-4123-b74b-65cc4162ccf5",
   "metadata": {},
   "outputs": [],
   "source": [
    "def get_reviews(idnum):\n",
    "    reviews=[]\n",
    "    response = requests.get('http://store.steampowered.com/appreviews/{}?json=1'.format(idnum))\n",
    "    temp=response.json()\n",
    "    cursor = temp['cursor']\n",
    "    for i in range(len(temp['reviews'])):\n",
    "        reviews.append(temp['reviews'][i]['review'])\n",
    "    response = requests.get('http://store.steampowered.com/appreviews/{}?json=1{}'.format(idnum, cursor))\n",
    "    temp = response.json()\n",
    "    for i in range(len(temp['reviews'])):\n",
    "        reviews.append(temp['reviews'][i]['review'])\n",
    "    return reviews"
   ]
  },
  {
   "cell_type": "code",
   "execution_count": 74,
   "id": "797d4b42-da9e-4cc0-9ccb-3f083313a52b",
   "metadata": {},
   "outputs": [],
   "source": [
    "df['idnum'] = df[1]"
   ]
  },
  {
   "cell_type": "code",
   "execution_count": 77,
   "id": "703454c0-7f8a-4145-baff-1015596a0fed",
   "metadata": {},
   "outputs": [],
   "source": [
    "df.idnum = df.idnum.apply(get_reviews)"
   ]
  },
  {
   "cell_type": "code",
   "execution_count": 79,
   "id": "4d75c116-cc42-4bb6-97fa-19158eb43e29",
   "metadata": {},
   "outputs": [],
   "source": [
    "df.rename(columns = {'idnum':'reviews'}, inplace=True)"
   ]
  },
  {
   "cell_type": "code",
   "execution_count": 99,
   "id": "5ffe017a-9af5-4e8c-96fc-ef285d6a3722",
   "metadata": {},
   "outputs": [
    {
     "data": {
      "text/html": [
       "<div>\n",
       "<style scoped>\n",
       "    .dataframe tbody tr th:only-of-type {\n",
       "        vertical-align: middle;\n",
       "    }\n",
       "\n",
       "    .dataframe tbody tr th {\n",
       "        vertical-align: top;\n",
       "    }\n",
       "\n",
       "    .dataframe thead th {\n",
       "        text-align: right;\n",
       "    }\n",
       "</style>\n",
       "<table border=\"1\" class=\"dataframe\">\n",
       "  <thead>\n",
       "    <tr style=\"text-align: right;\">\n",
       "      <th></th>\n",
       "      <th>0</th>\n",
       "      <th>1</th>\n",
       "      <th>reviews</th>\n",
       "    </tr>\n",
       "  </thead>\n",
       "  <tbody>\n",
       "    <tr>\n",
       "      <th>Counter-Strike: Global Offensive</th>\n",
       "      <td>Action</td>\n",
       "      <td>730</td>\n",
       "      <td>[Your team in every random competitive game:\\n...</td>\n",
       "    </tr>\n",
       "  </tbody>\n",
       "</table>\n",
       "</div>"
      ],
      "text/plain": [
       "                                       0    1  \\\n",
       "Counter-Strike: Global Offensive  Action  730   \n",
       "\n",
       "                                                                            reviews  \n",
       "Counter-Strike: Global Offensive  [Your team in every random competitive game:\\n...  "
      ]
     },
     "execution_count": 99,
     "metadata": {},
     "output_type": "execute_result"
    }
   ],
   "source": [
    "df.head(1)"
   ]
  },
  {
   "cell_type": "code",
   "execution_count": 84,
   "id": "d8322ce9-739b-49f0-8ffb-80abd6959297",
   "metadata": {},
   "outputs": [
    {
     "ename": "TypeError",
     "evalue": "'int' object is not subscriptable",
     "output_type": "error",
     "traceback": [
      "\u001b[0;31m---------------------------------------------------------------------------\u001b[0m",
      "\u001b[0;31mTypeError\u001b[0m                                 Traceback (most recent call last)",
      "\u001b[0;32m<ipython-input-84-a8a4f14c2d2d>\u001b[0m in \u001b[0;36m<module>\u001b[0;34m\u001b[0m\n\u001b[0;32m----> 1\u001b[0;31m \u001b[0mlen\u001b[0m\u001b[0;34m(\u001b[0m\u001b[0mdf\u001b[0m\u001b[0;34m.\u001b[0m\u001b[0miloc\u001b[0m\u001b[0;34m[\u001b[0m\u001b[0;36m1\u001b[0m\u001b[0;34m]\u001b[0m\u001b[0;34m[\u001b[0m\u001b[0;34m'reviews'\u001b[0m\u001b[0;34m]\u001b[0m\u001b[0;34m)\u001b[0m\u001b[0;34m[\u001b[0m\u001b[0;36m0\u001b[0m\u001b[0;34m]\u001b[0m\u001b[0;34m\u001b[0m\u001b[0;34m\u001b[0m\u001b[0m\n\u001b[0m",
      "\u001b[0;31mTypeError\u001b[0m: 'int' object is not subscriptable"
     ]
    }
   ],
   "source": [
    "len(df.iloc[1]['reviews'])"
   ]
  },
  {
   "cell_type": "code",
   "execution_count": 85,
   "id": "e03f9d99-b999-478c-a3e2-26b0f2785cfa",
   "metadata": {},
   "outputs": [
    {
     "data": {
      "text/plain": [
       "'Your team in every random competitive game:\\n\\n- You\\n- Russian Guy\\n- Another Russian Guy\\n- A 6 year old kid who slept with your mother\\n- Russian Guy who speaks English\\n\\n10/10'"
      ]
     },
     "execution_count": 85,
     "metadata": {},
     "output_type": "execute_result"
    }
   ],
   "source": [
    "df.iloc[0]['reviews'][0]"
   ]
  },
  {
   "cell_type": "code",
   "execution_count": 86,
   "id": "cf5926c6-5e9d-46e9-b293-ab30b532978e",
   "metadata": {},
   "outputs": [],
   "source": [
    "rando =' Your team in every random competitive game:\\n\\n- You\\n- Russian Guy\\n- Another Russian Guy\\n- A 6 year old kid who slept with your mother\\n- Russian Guy who speaks English\\n\\n10/10'"
   ]
  },
  {
   "cell_type": "code",
   "execution_count": 87,
   "id": "f6de8577-873e-4159-b6b5-cc32ed2b6602",
   "metadata": {},
   "outputs": [
    {
     "data": {
      "text/plain": [
       "False"
      ]
     },
     "execution_count": 87,
     "metadata": {},
     "output_type": "execute_result"
    }
   ],
   "source": [
    "rando in df"
   ]
  },
  {
   "cell_type": "code",
   "execution_count": 88,
   "id": "932448fe-f781-4977-a706-31fb37c753f5",
   "metadata": {},
   "outputs": [
    {
     "data": {
      "text/plain": [
       "False"
      ]
     },
     "execution_count": 88,
     "metadata": {},
     "output_type": "execute_result"
    }
   ],
   "source": [
    "rando in df.reviews"
   ]
  },
  {
   "cell_type": "markdown",
   "id": "e57b3f60-c7ac-43d4-ad3b-27d0f80cbdf4",
   "metadata": {},
   "source": [
    "# Trying to seperate list of reviews but keep game name"
   ]
  },
  {
   "cell_type": "code",
   "execution_count": 119,
   "id": "a7ad00de-16a6-4f93-b293-a78b8637737d",
   "metadata": {},
   "outputs": [],
   "source": [
    "for i in range(len(df)):\n",
    "    if rando in df.iloc[i]['reviews']:\n",
    "        print('true')\n",
    "#     else:\n",
    "#         print('not true')"
   ]
  },
  {
   "cell_type": "code",
   "execution_count": 101,
   "id": "392004f5-b2a3-4e81-985a-d77e83f83457",
   "metadata": {},
   "outputs": [
    {
     "data": {
      "text/plain": [
       "False"
      ]
     },
     "execution_count": 101,
     "metadata": {},
     "output_type": "execute_result"
    }
   ],
   "source": [
    "rando in list(df.iloc[0]['reviews'])"
   ]
  },
  {
   "cell_type": "code",
   "execution_count": 107,
   "id": "9371b9e7-329c-4b65-90be-eb6f5cb76723",
   "metadata": {},
   "outputs": [],
   "source": [
    "df = df.reset_index()\n",
    "df.rename(columns={'index':'title'}, inplace=True)"
   ]
  },
  {
   "cell_type": "code",
   "execution_count": 108,
   "id": "2be02fd9-63cd-4921-b172-f630f3d8ef86",
   "metadata": {},
   "outputs": [
    {
     "data": {
      "text/html": [
       "<div>\n",
       "<style scoped>\n",
       "    .dataframe tbody tr th:only-of-type {\n",
       "        vertical-align: middle;\n",
       "    }\n",
       "\n",
       "    .dataframe tbody tr th {\n",
       "        vertical-align: top;\n",
       "    }\n",
       "\n",
       "    .dataframe thead th {\n",
       "        text-align: right;\n",
       "    }\n",
       "</style>\n",
       "<table border=\"1\" class=\"dataframe\">\n",
       "  <thead>\n",
       "    <tr style=\"text-align: right;\">\n",
       "      <th></th>\n",
       "      <th>title</th>\n",
       "      <th>0</th>\n",
       "      <th>1</th>\n",
       "      <th>reviews</th>\n",
       "    </tr>\n",
       "  </thead>\n",
       "  <tbody>\n",
       "    <tr>\n",
       "      <th>0</th>\n",
       "      <td>Counter-Strike: Global Offensive</td>\n",
       "      <td>Action</td>\n",
       "      <td>730</td>\n",
       "      <td>[Your team in every random competitive game:\\n...</td>\n",
       "    </tr>\n",
       "  </tbody>\n",
       "</table>\n",
       "</div>"
      ],
      "text/plain": [
       "                              title       0    1  \\\n",
       "0  Counter-Strike: Global Offensive  Action  730   \n",
       "\n",
       "                                             reviews  \n",
       "0  [Your team in every random competitive game:\\n...  "
      ]
     },
     "execution_count": 108,
     "metadata": {},
     "output_type": "execute_result"
    }
   ],
   "source": [
    "df.head(1)"
   ]
  },
  {
   "cell_type": "code",
   "execution_count": null,
   "id": "e373d4c0-ea74-41a6-ae7e-2149f331142c",
   "metadata": {},
   "outputs": [],
   "source": []
  },
  {
   "cell_type": "code",
   "execution_count": 109,
   "id": "bb0ffd43-53b7-4d3d-be1f-d5c04e0d3432",
   "metadata": {},
   "outputs": [],
   "source": [
    "megadict={}\n",
    "\n",
    "def megadicter(list):\n",
    "    for items in list:\n",
    "        megadict[df.title]=(items)"
   ]
  },
  {
   "cell_type": "code",
   "execution_count": 110,
   "id": "7ea6ef6c-fe1d-409c-8911-68f1d88b6601",
   "metadata": {},
   "outputs": [
    {
     "ename": "TypeError",
     "evalue": "'Series' objects are mutable, thus they cannot be hashed",
     "output_type": "error",
     "traceback": [
      "\u001b[0;31m---------------------------------------------------------------------------\u001b[0m",
      "\u001b[0;31mTypeError\u001b[0m                                 Traceback (most recent call last)",
      "\u001b[0;32m<ipython-input-110-823d0afb136b>\u001b[0m in \u001b[0;36m<module>\u001b[0;34m\u001b[0m\n\u001b[0;32m----> 1\u001b[0;31m \u001b[0mdf\u001b[0m\u001b[0;34m.\u001b[0m\u001b[0mreviews\u001b[0m\u001b[0;34m.\u001b[0m\u001b[0mapply\u001b[0m\u001b[0;34m(\u001b[0m\u001b[0mmegadicter\u001b[0m\u001b[0;34m)\u001b[0m\u001b[0;34m\u001b[0m\u001b[0;34m\u001b[0m\u001b[0m\n\u001b[0m",
      "\u001b[0;32m~/opt/anaconda3/envs/metis/lib/python3.8/site-packages/pandas/core/series.py\u001b[0m in \u001b[0;36mapply\u001b[0;34m(self, func, convert_dtype, args, **kwds)\u001b[0m\n\u001b[1;32m   4136\u001b[0m             \u001b[0;32melse\u001b[0m\u001b[0;34m:\u001b[0m\u001b[0;34m\u001b[0m\u001b[0;34m\u001b[0m\u001b[0m\n\u001b[1;32m   4137\u001b[0m                 \u001b[0mvalues\u001b[0m \u001b[0;34m=\u001b[0m \u001b[0mself\u001b[0m\u001b[0;34m.\u001b[0m\u001b[0mastype\u001b[0m\u001b[0;34m(\u001b[0m\u001b[0mobject\u001b[0m\u001b[0;34m)\u001b[0m\u001b[0;34m.\u001b[0m\u001b[0m_values\u001b[0m\u001b[0;34m\u001b[0m\u001b[0;34m\u001b[0m\u001b[0m\n\u001b[0;32m-> 4138\u001b[0;31m                 \u001b[0mmapped\u001b[0m \u001b[0;34m=\u001b[0m \u001b[0mlib\u001b[0m\u001b[0;34m.\u001b[0m\u001b[0mmap_infer\u001b[0m\u001b[0;34m(\u001b[0m\u001b[0mvalues\u001b[0m\u001b[0;34m,\u001b[0m \u001b[0mf\u001b[0m\u001b[0;34m,\u001b[0m \u001b[0mconvert\u001b[0m\u001b[0;34m=\u001b[0m\u001b[0mconvert_dtype\u001b[0m\u001b[0;34m)\u001b[0m\u001b[0;34m\u001b[0m\u001b[0;34m\u001b[0m\u001b[0m\n\u001b[0m\u001b[1;32m   4139\u001b[0m \u001b[0;34m\u001b[0m\u001b[0m\n\u001b[1;32m   4140\u001b[0m         \u001b[0;32mif\u001b[0m \u001b[0mlen\u001b[0m\u001b[0;34m(\u001b[0m\u001b[0mmapped\u001b[0m\u001b[0;34m)\u001b[0m \u001b[0;32mand\u001b[0m \u001b[0misinstance\u001b[0m\u001b[0;34m(\u001b[0m\u001b[0mmapped\u001b[0m\u001b[0;34m[\u001b[0m\u001b[0;36m0\u001b[0m\u001b[0;34m]\u001b[0m\u001b[0;34m,\u001b[0m \u001b[0mSeries\u001b[0m\u001b[0;34m)\u001b[0m\u001b[0;34m:\u001b[0m\u001b[0;34m\u001b[0m\u001b[0;34m\u001b[0m\u001b[0m\n",
      "\u001b[0;32mpandas/_libs/lib.pyx\u001b[0m in \u001b[0;36mpandas._libs.lib.map_infer\u001b[0;34m()\u001b[0m\n",
      "\u001b[0;32m<ipython-input-109-5c94d2c8775c>\u001b[0m in \u001b[0;36mmegadicter\u001b[0;34m(list)\u001b[0m\n\u001b[1;32m      3\u001b[0m \u001b[0;32mdef\u001b[0m \u001b[0mmegadicter\u001b[0m\u001b[0;34m(\u001b[0m\u001b[0mlist\u001b[0m\u001b[0;34m)\u001b[0m\u001b[0;34m:\u001b[0m\u001b[0;34m\u001b[0m\u001b[0;34m\u001b[0m\u001b[0m\n\u001b[1;32m      4\u001b[0m     \u001b[0;32mfor\u001b[0m \u001b[0mitems\u001b[0m \u001b[0;32min\u001b[0m \u001b[0mlist\u001b[0m\u001b[0;34m:\u001b[0m\u001b[0;34m\u001b[0m\u001b[0;34m\u001b[0m\u001b[0m\n\u001b[0;32m----> 5\u001b[0;31m         \u001b[0mmegadict\u001b[0m\u001b[0;34m[\u001b[0m\u001b[0mdf\u001b[0m\u001b[0;34m.\u001b[0m\u001b[0mtitle\u001b[0m\u001b[0;34m]\u001b[0m\u001b[0;34m=\u001b[0m\u001b[0;34m(\u001b[0m\u001b[0mitems\u001b[0m\u001b[0;34m)\u001b[0m\u001b[0;34m\u001b[0m\u001b[0;34m\u001b[0m\u001b[0m\n\u001b[0m",
      "\u001b[0;32m~/opt/anaconda3/envs/metis/lib/python3.8/site-packages/pandas/core/generic.py\u001b[0m in \u001b[0;36m__hash__\u001b[0;34m(self)\u001b[0m\n\u001b[1;32m   1783\u001b[0m \u001b[0;34m\u001b[0m\u001b[0m\n\u001b[1;32m   1784\u001b[0m     \u001b[0;32mdef\u001b[0m \u001b[0m__hash__\u001b[0m\u001b[0;34m(\u001b[0m\u001b[0mself\u001b[0m\u001b[0;34m)\u001b[0m \u001b[0;34m->\u001b[0m \u001b[0mint\u001b[0m\u001b[0;34m:\u001b[0m\u001b[0;34m\u001b[0m\u001b[0;34m\u001b[0m\u001b[0m\n\u001b[0;32m-> 1785\u001b[0;31m         raise TypeError(\n\u001b[0m\u001b[1;32m   1786\u001b[0m             \u001b[0;34mf\"{repr(type(self).__name__)} objects are mutable, \"\u001b[0m\u001b[0;34m\u001b[0m\u001b[0;34m\u001b[0m\u001b[0m\n\u001b[1;32m   1787\u001b[0m             \u001b[0;34mf\"thus they cannot be hashed\"\u001b[0m\u001b[0;34m\u001b[0m\u001b[0;34m\u001b[0m\u001b[0m\n",
      "\u001b[0;31mTypeError\u001b[0m: 'Series' objects are mutable, thus they cannot be hashed"
     ]
    }
   ],
   "source": [
    "df.reviews.apply(megadicter)"
   ]
  },
  {
   "cell_type": "code",
   "execution_count": 112,
   "id": "4a796635-b9d1-4c02-965e-65c29ba49888",
   "metadata": {},
   "outputs": [
    {
     "ename": "TypeError",
     "evalue": "'Series' objects are mutable, thus they cannot be hashed",
     "output_type": "error",
     "traceback": [
      "\u001b[0;31m---------------------------------------------------------------------------\u001b[0m",
      "\u001b[0;31mTypeError\u001b[0m                                 Traceback (most recent call last)",
      "\u001b[0;32m<ipython-input-112-a00a25af1398>\u001b[0m in \u001b[0;36m<module>\u001b[0;34m\u001b[0m\n\u001b[1;32m      1\u001b[0m \u001b[0;32mfor\u001b[0m \u001b[0mrows\u001b[0m \u001b[0;32min\u001b[0m \u001b[0mdf\u001b[0m\u001b[0;34m:\u001b[0m\u001b[0;34m\u001b[0m\u001b[0;34m\u001b[0m\u001b[0m\n\u001b[0;32m----> 2\u001b[0;31m     \u001b[0mmegadict\u001b[0m\u001b[0;34m[\u001b[0m\u001b[0mdf\u001b[0m\u001b[0;34m.\u001b[0m\u001b[0mtitle\u001b[0m\u001b[0;34m]\u001b[0m\u001b[0;34m=\u001b[0m\u001b[0;34m(\u001b[0m\u001b[0mdf\u001b[0m\u001b[0;34m.\u001b[0m\u001b[0mreviews\u001b[0m\u001b[0;34m)\u001b[0m\u001b[0;34m\u001b[0m\u001b[0;34m\u001b[0m\u001b[0m\n\u001b[0m",
      "\u001b[0;32m~/opt/anaconda3/envs/metis/lib/python3.8/site-packages/pandas/core/generic.py\u001b[0m in \u001b[0;36m__hash__\u001b[0;34m(self)\u001b[0m\n\u001b[1;32m   1783\u001b[0m \u001b[0;34m\u001b[0m\u001b[0m\n\u001b[1;32m   1784\u001b[0m     \u001b[0;32mdef\u001b[0m \u001b[0m__hash__\u001b[0m\u001b[0;34m(\u001b[0m\u001b[0mself\u001b[0m\u001b[0;34m)\u001b[0m \u001b[0;34m->\u001b[0m \u001b[0mint\u001b[0m\u001b[0;34m:\u001b[0m\u001b[0;34m\u001b[0m\u001b[0;34m\u001b[0m\u001b[0m\n\u001b[0;32m-> 1785\u001b[0;31m         raise TypeError(\n\u001b[0m\u001b[1;32m   1786\u001b[0m             \u001b[0;34mf\"{repr(type(self).__name__)} objects are mutable, \"\u001b[0m\u001b[0;34m\u001b[0m\u001b[0;34m\u001b[0m\u001b[0m\n\u001b[1;32m   1787\u001b[0m             \u001b[0;34mf\"thus they cannot be hashed\"\u001b[0m\u001b[0;34m\u001b[0m\u001b[0;34m\u001b[0m\u001b[0m\n",
      "\u001b[0;31mTypeError\u001b[0m: 'Series' objects are mutable, thus they cannot be hashed"
     ]
    }
   ],
   "source": [
    "for rows in df:\n",
    "    megadict[df.title]=(df.reviews)"
   ]
  },
  {
   "cell_type": "code",
   "execution_count": 113,
   "id": "6f9c6408-40e1-4f88-9621-ac107b62f638",
   "metadata": {},
   "outputs": [],
   "source": [
    "tester = enumerate(df.iloc[0]['reviews'])"
   ]
  },
  {
   "cell_type": "code",
   "execution_count": 115,
   "id": "9557d212-1216-41ab-bbb7-9dd239d234ec",
   "metadata": {},
   "outputs": [
    {
     "ename": "TypeError",
     "evalue": "'enumerate' object is not subscriptable",
     "output_type": "error",
     "traceback": [
      "\u001b[0;31m---------------------------------------------------------------------------\u001b[0m",
      "\u001b[0;31mTypeError\u001b[0m                                 Traceback (most recent call last)",
      "\u001b[0;32m<ipython-input-115-5c08f225c041>\u001b[0m in \u001b[0;36m<module>\u001b[0;34m\u001b[0m\n\u001b[0;32m----> 1\u001b[0;31m \u001b[0mtester\u001b[0m\u001b[0;34m[\u001b[0m\u001b[0;36m0\u001b[0m\u001b[0;34m]\u001b[0m\u001b[0;34m\u001b[0m\u001b[0;34m\u001b[0m\u001b[0m\n\u001b[0m",
      "\u001b[0;31mTypeError\u001b[0m: 'enumerate' object is not subscriptable"
     ]
    }
   ],
   "source": []
  },
  {
   "cell_type": "code",
   "execution_count": 123,
   "id": "784f7638-95b0-4c50-b5e6-d070be93b1ea",
   "metadata": {},
   "outputs": [],
   "source": [
    "megalist=[]\n",
    "\n",
    "def megalister(list):\n",
    "    for items in list:\n",
    "        megalist.append(items)"
   ]
  },
  {
   "cell_type": "code",
   "execution_count": 124,
   "id": "409cfdc8-d835-4e02-8f13-fe2c3ec3d319",
   "metadata": {},
   "outputs": [
    {
     "data": {
      "text/html": [
       "<div>\n",
       "<style scoped>\n",
       "    .dataframe tbody tr th:only-of-type {\n",
       "        vertical-align: middle;\n",
       "    }\n",
       "\n",
       "    .dataframe tbody tr th {\n",
       "        vertical-align: top;\n",
       "    }\n",
       "\n",
       "    .dataframe thead th {\n",
       "        text-align: right;\n",
       "    }\n",
       "</style>\n",
       "<table border=\"1\" class=\"dataframe\">\n",
       "  <thead>\n",
       "    <tr style=\"text-align: right;\">\n",
       "      <th></th>\n",
       "      <th>title</th>\n",
       "      <th>0</th>\n",
       "      <th>1</th>\n",
       "      <th>reviews</th>\n",
       "    </tr>\n",
       "  </thead>\n",
       "  <tbody>\n",
       "    <tr>\n",
       "      <th>0</th>\n",
       "      <td>Counter-Strike: Global Offensive</td>\n",
       "      <td>Action</td>\n",
       "      <td>730</td>\n",
       "      <td>[Your team in every random competitive game:\\n...</td>\n",
       "    </tr>\n",
       "  </tbody>\n",
       "</table>\n",
       "</div>"
      ],
      "text/plain": [
       "                              title       0    1  \\\n",
       "0  Counter-Strike: Global Offensive  Action  730   \n",
       "\n",
       "                                             reviews  \n",
       "0  [Your team in every random competitive game:\\n...  "
      ]
     },
     "execution_count": 124,
     "metadata": {},
     "output_type": "execute_result"
    }
   ],
   "source": [
    "df.head(1)"
   ]
  },
  {
   "cell_type": "code",
   "execution_count": 125,
   "id": "844ab030-979a-499a-aea6-aeabf8d7947b",
   "metadata": {},
   "outputs": [
    {
     "data": {
      "text/plain": [
       "0      None\n",
       "1      None\n",
       "2      None\n",
       "3      None\n",
       "4      None\n",
       "       ... \n",
       "120    None\n",
       "121    None\n",
       "122    None\n",
       "123    None\n",
       "124    None\n",
       "Name: reviews, Length: 125, dtype: object"
      ]
     },
     "execution_count": 125,
     "metadata": {},
     "output_type": "execute_result"
    }
   ],
   "source": [
    "df.reviews.apply(megalister)"
   ]
  },
  {
   "cell_type": "code",
   "execution_count": 126,
   "id": "c62a4958-28fb-410a-b30b-f0991dc78abf",
   "metadata": {},
   "outputs": [
    {
     "data": {
      "text/plain": [
       "4120"
      ]
     },
     "execution_count": 126,
     "metadata": {},
     "output_type": "execute_result"
    }
   ],
   "source": [
    "# list of 4k reviews, but no game title attached. \n",
    "\n",
    "en(megalist)"
   ]
  },
  {
   "cell_type": "code",
   "execution_count": 129,
   "id": "b88b7331-d05b-43ac-93a7-d711c3245fee",
   "metadata": {},
   "outputs": [],
   "source": [
    "tester = megalist[0]"
   ]
  },
  {
   "cell_type": "code",
   "execution_count": 134,
   "id": "97b38fcf-fd3d-474b-b1e8-ac0298c24e99",
   "metadata": {},
   "outputs": [
    {
     "data": {
      "text/plain": [
       "125"
      ]
     },
     "execution_count": 134,
     "metadata": {},
     "output_type": "execute_result"
    }
   ],
   "source": [
    "len(df.reviews)"
   ]
  },
  {
   "cell_type": "code",
   "execution_count": 139,
   "id": "4d924239-5b07-4d06-91a9-f3a61c1b92d0",
   "metadata": {},
   "outputs": [
    {
     "data": {
      "text/plain": [
       "False"
      ]
     },
     "execution_count": 139,
     "metadata": {},
     "output_type": "execute_result"
    }
   ],
   "source": [
    "tester in df.reviews[124]"
   ]
  },
  {
   "cell_type": "code",
   "execution_count": 146,
   "id": "704e6d7c-5fff-4c3f-b928-e1127e093541",
   "metadata": {},
   "outputs": [
    {
     "name": "stdout",
     "output_type": "stream",
     "text": [
      "0\n"
     ]
    }
   ],
   "source": [
    "# this allows me to pull which row from game dataframe the review is in\n",
    "\n",
    "for i in range(len(df)-1):\n",
    "    if tester in df.reviews[i]:\n",
    "        print(i)"
   ]
  },
  {
   "cell_type": "code",
   "execution_count": 148,
   "id": "31e031f8-9983-45c7-8a83-62e7651e71d7",
   "metadata": {},
   "outputs": [
    {
     "ename": "AttributeError",
     "evalue": "'list' object has no attribute 'to_csv'",
     "output_type": "error",
     "traceback": [
      "\u001b[0;31m---------------------------------------------------------------------------\u001b[0m",
      "\u001b[0;31mAttributeError\u001b[0m                            Traceback (most recent call last)",
      "\u001b[0;32m<ipython-input-148-c32be9424b66>\u001b[0m in \u001b[0;36m<module>\u001b[0;34m\u001b[0m\n\u001b[0;32m----> 1\u001b[0;31m \u001b[0mmegalist\u001b[0m\u001b[0;34m.\u001b[0m\u001b[0mto_csv\u001b[0m\u001b[0;34m(\u001b[0m\u001b[0;34mr'users/michaelharnett/desktop/metis/projects/steam2_redux/megalist.csv'\u001b[0m\u001b[0;34m)\u001b[0m\u001b[0;34m\u001b[0m\u001b[0;34m\u001b[0m\u001b[0m\n\u001b[0m",
      "\u001b[0;31mAttributeError\u001b[0m: 'list' object has no attribute 'to_csv'"
     ]
    }
   ],
   "source": [
    "megalist.to_csv(r'users/michaelharnett/desktop/metis/projects/steam2_redux/megalist.csv')"
   ]
  },
  {
   "cell_type": "code",
   "execution_count": 150,
   "id": "bac684fd-b231-4984-8b30-bc3f3ac07c34",
   "metadata": {},
   "outputs": [
    {
     "data": {
      "text/html": [
       "<div>\n",
       "<style scoped>\n",
       "    .dataframe tbody tr th:only-of-type {\n",
       "        vertical-align: middle;\n",
       "    }\n",
       "\n",
       "    .dataframe tbody tr th {\n",
       "        vertical-align: top;\n",
       "    }\n",
       "\n",
       "    .dataframe thead th {\n",
       "        text-align: right;\n",
       "    }\n",
       "</style>\n",
       "<table border=\"1\" class=\"dataframe\">\n",
       "  <thead>\n",
       "    <tr style=\"text-align: right;\">\n",
       "      <th></th>\n",
       "      <th>title</th>\n",
       "      <th>0</th>\n",
       "      <th>1</th>\n",
       "      <th>reviews</th>\n",
       "    </tr>\n",
       "  </thead>\n",
       "  <tbody>\n",
       "    <tr>\n",
       "      <th>0</th>\n",
       "      <td>Counter-Strike: Global Offensive</td>\n",
       "      <td>Action</td>\n",
       "      <td>730</td>\n",
       "      <td>[Your team in every random competitive game:\\n...</td>\n",
       "    </tr>\n",
       "    <tr>\n",
       "      <th>1</th>\n",
       "      <td>Grand Theft Auto V</td>\n",
       "      <td>Action</td>\n",
       "      <td>271590</td>\n",
       "      <td>[Trevor Philips Enterprises 🥵, After Ep*c Game...</td>\n",
       "    </tr>\n",
       "    <tr>\n",
       "      <th>2</th>\n",
       "      <td>Tom Clancy's Rainbow Six® Siege</td>\n",
       "      <td>Action</td>\n",
       "      <td>359550</td>\n",
       "      <td>[&gt; Play as French guy with giant shield\\n&gt; Sto...</td>\n",
       "    </tr>\n",
       "    <tr>\n",
       "      <th>3</th>\n",
       "      <td>Left 4 Dead 2</td>\n",
       "      <td>Action</td>\n",
       "      <td>550</td>\n",
       "      <td>[h, why did they leave me for dead for thats n...</td>\n",
       "    </tr>\n",
       "    <tr>\n",
       "      <th>4</th>\n",
       "      <td>Warframe</td>\n",
       "      <td>Action</td>\n",
       "      <td>230410</td>\n",
       "      <td>[look at my hours, look at my hours]</td>\n",
       "    </tr>\n",
       "  </tbody>\n",
       "</table>\n",
       "</div>"
      ],
      "text/plain": [
       "                              title       0       1  \\\n",
       "0  Counter-Strike: Global Offensive  Action     730   \n",
       "1                Grand Theft Auto V  Action  271590   \n",
       "2   Tom Clancy's Rainbow Six® Siege  Action  359550   \n",
       "3                     Left 4 Dead 2  Action     550   \n",
       "4                          Warframe  Action  230410   \n",
       "\n",
       "                                             reviews  \n",
       "0  [Your team in every random competitive game:\\n...  \n",
       "1  [Trevor Philips Enterprises 🥵, After Ep*c Game...  \n",
       "2  [> Play as French guy with giant shield\\n> Sto...  \n",
       "3  [h, why did they leave me for dead for thats n...  \n",
       "4               [look at my hours, look at my hours]  "
      ]
     },
     "execution_count": 150,
     "metadata": {},
     "output_type": "execute_result"
    }
   ],
   "source": [
    "df.head()"
   ]
  },
  {
   "cell_type": "code",
   "execution_count": 156,
   "id": "b3e6dd5f-07e9-47e4-a091-a5756709e2c1",
   "metadata": {},
   "outputs": [],
   "source": [
    "df.to_csv(r'/users/michaelharnett/desktop/metis/projects/steam2_redux/megalist.csv', index=False)"
   ]
  },
  {
   "cell_type": "code",
   "execution_count": null,
   "id": "3b791a7c-94e3-4b28-b020-f70cbb17ac88",
   "metadata": {},
   "outputs": [],
   "source": []
  }
 ],
 "metadata": {
  "kernelspec": {
   "display_name": "Python [conda env:metis] *",
   "language": "python",
   "name": "conda-env-metis-py"
  },
  "language_info": {
   "codemirror_mode": {
    "name": "ipython",
    "version": 3
   },
   "file_extension": ".py",
   "mimetype": "text/x-python",
   "name": "python",
   "nbconvert_exporter": "python",
   "pygments_lexer": "ipython3",
   "version": "3.8.10"
  }
 },
 "nbformat": 4,
 "nbformat_minor": 5
}
